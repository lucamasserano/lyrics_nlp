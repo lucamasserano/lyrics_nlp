{
 "cells": [
  {
   "cell_type": "markdown",
   "metadata": {},
   "source": [
    "# **<center>Non-Attending Final Project - Luca Masserano, ID: 3017820 </center>**"
   ]
  },
  {
   "cell_type": "markdown",
   "metadata": {},
   "source": [
    "## **1. Introduction and code setup**"
   ]
  },
  {
   "cell_type": "markdown",
   "metadata": {},
   "source": [
    "This project is split in two parts: \n",
    "\n",
    "- sections 2-4.1 deal with the preprocessing, annotation and analysis of song lyrics, with the final section dedicated to the construction of different models for classification;\n",
    "\n",
    "- section 4.2 focuses instead on structured prediction of alphabet letters (tags) using rasterized images of handwritten characters.\n",
    "\n",
    "Throughout the notebook, some cells containing long pieces of code or wrapper classes have been collapsed in order to increase readability.\n",
    "The following cell contains all the imports for modules that are common to all sections. I will then import specific modules as I go along with the analysis."
   ]
  },
  {
   "cell_type": "code",
   "execution_count": 8,
   "metadata": {},
   "outputs": [],
   "source": [
    "import pandas as pd\n",
    "import numpy as np\n",
    "import logging\n",
    "import sys\n",
    "import re\n",
    "import time\n",
    "import tqdm # useful progress bars for iterables\n",
    "import matplotlib.pyplot as plt\n",
    "import seaborn as sns\n",
    "sns.set()\n",
    "\n",
    "%run utils.ipynb # some functions used throughout the code for visualizations"
   ]
  },
  {
   "cell_type": "markdown",
   "metadata": {},
   "source": [
    "## **2. Research question**"
   ]
  },
  {
   "cell_type": "markdown",
   "metadata": {},
   "source": [
    "Since every step in the analysis, from preprocessing to prediction, has been inspired and guided by the research question, I decided to state it before-hand.\n",
    "\n",
    "**Being a music lover and passionate piano player, I decided to focus my analysis on song lyrics in order to try to uncover possible patterns in what different artists write and in how they use language to convey messages, taking into consideration different musical genres and time periods. To this end, I divided my research as follows:**\n",
    "\n",
    "**1. first of all, I tried to bring out some of the inner characteristics of lyrics in terms of most used words and locutions. These were then used to guide the analysis of topics treated, with the aim of discovering if different musical genres have undergone a transformation over the years in the themes they talk about and in how they do so;**\n",
    "\n",
    "**2. secondly, I wanted to exploit linguistic characteristics of lyrics to build a classifier able to predict the genre of a song given its text.**"
   ]
  },
  {
   "cell_type": "markdown",
   "metadata": {},
   "source": [
    "## **3. Dataset, Cleaning and Annotation**"
   ]
  },
  {
   "cell_type": "markdown",
   "metadata": {},
   "source": [
    "### **3.1 Creation of the dataset**"
   ]
  },
  {
   "cell_type": "markdown",
   "metadata": {},
   "source": [
    "Looking on the internet, I found a few lyrics datasets which someone already constructed for other analysis in the past. Unfortunately, I noticed that all of them had many problems in terms of size, genre misclassification, and wrong lyrics, which would have made the analysis not just very difficult, but also inaccurate.\n",
    "\n",
    "As a consequence I decided to create my own dataset in two steps: I first downloaded a list of artists, corresponding genres and songs from *MetroLyrics* (https://www.metrolyrics.com). This site allows free unlimited web scraping, and has also an alphabet-ordered directory of artists. For each letter, *MetroLyrics* provides a page of ~50 most popular artists across every musical genre and period, from 50 Cent, Arctic Monkeys and Shakira, to Bruce Springsteen, Billie Holiday and B.B King. Each artist has in turn a whole page of popular songs, usually from ~20 to ~80. \n",
    "\n",
    "Once obtained these, I used the wonderful API provided by *Genius* (https://genius.com), a huge database of song lyrics, to obtain the documents for each of the artist-song pairs mentioned above and the corresponding album and release date. "
   ]
  },
  {
   "cell_type": "code",
   "execution_count": null,
   "metadata": {},
   "outputs": [],
   "source": [
    "import lyricsgenius # Genius API\n",
    "from textblob import TextBlob # language detector\n",
    "from bs4 import BeautifulSoup\n",
    "from selenium import webdriver\n",
    "\n",
    "# setup basic logging functionality for debugging and to keep track of the retrieval progress\n",
    "logging.basicConfig(filename=\"./log_files/lyrics_scraping.log\",\n",
    "                   level=logging.INFO,\n",
    "                   format='%(asctime)s %(levelname)s %(message)s')"
   ]
  },
  {
   "cell_type": "code",
   "execution_count": 5,
   "metadata": {},
   "outputs": [
    {
     "data": {
      "text/html": [
       "<div>\n",
       "<style scoped>\n",
       "    .dataframe tbody tr th:only-of-type {\n",
       "        vertical-align: middle;\n",
       "    }\n",
       "\n",
       "    .dataframe tbody tr th {\n",
       "        vertical-align: top;\n",
       "    }\n",
       "\n",
       "    .dataframe thead th {\n",
       "        text-align: right;\n",
       "    }\n",
       "</style>\n",
       "<table border=\"1\" class=\"dataframe\">\n",
       "  <thead>\n",
       "    <tr style=\"text-align: right;\">\n",
       "      <th></th>\n",
       "      <th>artist</th>\n",
       "      <th>song</th>\n",
       "      <th>album</th>\n",
       "      <th>release_date</th>\n",
       "      <th>genre</th>\n",
       "      <th>lyrics</th>\n",
       "    </tr>\n",
       "  </thead>\n",
       "  <tbody>\n",
       "  </tbody>\n",
       "</table>\n",
       "</div>"
      ],
      "text/plain": [
       "Empty DataFrame\n",
       "Columns: [artist, song, album, release_date, genre, lyrics]\n",
       "Index: []"
      ]
     },
     "execution_count": 5,
     "metadata": {},
     "output_type": "execute_result"
    }
   ],
   "source": [
    "df_initial = pd.DataFrame({\"artist\":[], \"song\":[], \"album\":[], \"release_date\":[], \"genre\":[], \"lyrics\":[]})\n",
    "df_initial.head()"
   ]
  },
  {
   "cell_type": "markdown",
   "metadata": {},
   "source": [
    "#### **3.1.1 Functions for scraping artists, genres and songs**"
   ]
  },
  {
   "cell_type": "code",
   "execution_count": 3,
   "metadata": {
    "jupyter": {
     "source_hidden": true
    }
   },
   "outputs": [],
   "source": [
    "def metrolyrics_retriever(output_df, \n",
    "                          driver, \n",
    "                          root_url=\"https://www.metrolyrics.com/top-artists.html\", \n",
    "                          per_artist_limit=None, \n",
    "                          overall_limit=None):\n",
    "    \n",
    "    dataset = output_df\n",
    "    alphabet, urls = retrieve_alphabet(root_url, driver)\n",
    "    \n",
    "    for letter, url in zip(alphabet, urls):\n",
    "        \n",
    "        artists = retrieve_artists(letter, url, driver)\n",
    "        for artist, (artist_url, artist_genre) in artists.items():\n",
    "            songs = retrieve_songs(artist, artist_url, driver, per_artist_limit=per_artist_limit)\n",
    "            nans = [None for i in range(len(songs))]\n",
    "            genre = [artist_genre for i in range(len(songs))]\n",
    "            \n",
    "            artist_df = pd.DataFrame({\"artist\":[artist for i in range(len(songs))], \n",
    "                                      \"song\":songs, \n",
    "                                      \"album\":nans, \n",
    "                                      \"release_date\":nans, \n",
    "                                      \"genre\":genre, \n",
    "                                      \"lyrics\":nans})\n",
    "            dataset = pd.concat([dataset, artist_df])\n",
    "            dataset.reset_index(drop=True, inplace=True)\n",
    "            \n",
    "            \n",
    "            print(f\"\\rSongs retrieved: {dataset.shape[0]}\", end='\\r')\n",
    "            sys.stdout.flush()\n",
    "            \n",
    "            if not overall_limit is None:\n",
    "                if dataset.shape[0] > overall_limit:\n",
    "                    return dataset.iloc[:overall_limit, :]\n",
    "        \n",
    "        logging.info(\"Writing to csv\")\n",
    "        dataset.to_csv(\"/Users/lucamasserano/Desktop/BOCCONI/nlp/final_project/lyrics_project/songs.csv\", index=False)\n",
    "        \n",
    "    return dataset\n",
    "\n",
    "def retrieve_alphabet(url, driver):\n",
    "    \n",
    "    driver.get(url)\n",
    "    html = driver.page_source\n",
    "    logging.info(\"Alphabet html source loaded\")\n",
    "    soup = BeautifulSoup(html, \"lxml\")\n",
    "    \n",
    "    try:\n",
    "        alphabet = soup.find(\"p\", class_=\"artist-letters\").find_all(\"a\")\n",
    "        letters = []\n",
    "        urls = []\n",
    "        for idx, letter in enumerate(alphabet):\n",
    "            try:\n",
    "                letter_text = letter.get_text()\n",
    "                letter_url = letter.get(\"href\")\n",
    "                letters.append(letter_text)\n",
    "                urls.append(letter_url)\n",
    "            except AttributeError:\n",
    "                logging.warning(f\"Unable to retrieve artists for letter number {idx}. Html structure not aligned\")\n",
    "    except AttributeError:\n",
    "        logging.error(\"Unable to retrieve urls for letters. Html structure not aligned\")\n",
    "    \n",
    "    logging.info(f\"Got letters {letters}\")\n",
    "    \n",
    "    return letters, urls\n",
    "            \n",
    "def retrieve_artists(letter, letter_url, driver):\n",
    "    \n",
    "    logging.info(f\"\\nRetrieving artists for letter {letter}\")\n",
    "    \n",
    "    driver.get(letter_url)\n",
    "    html = driver.page_source\n",
    "    logging.info(\"Html source loaded\")\n",
    "    soup = BeautifulSoup(html, \"lxml\")\n",
    "    \n",
    "    artists = dict()\n",
    "    \n",
    "    # top six artists first\n",
    "    logging.info(\"Retrieving top artists\")\n",
    "    try:\n",
    "        top_artists = soup.find(\"div\", class_=\"module top-artists clearfix\")\\\n",
    "                            .find_all(\"div\", class_=['artist grid_2 alpha', 'artist grid_2 ', \"artist grid_2 omega\"])\n",
    "        for idx, artist in enumerate(top_artists):\n",
    "            try:\n",
    "                box = artist.find(\"a\", class_=\"image\")\n",
    "                artist_url = box.get(\"href\")\n",
    "                artist_name = box.find(\"span\", class_=\"name\").get_text()\n",
    "                artist_genre = \"\"\n",
    "                substitute = re.compile(\"\\s*(L|l)yrics.*\")\n",
    "                artist_name = re.sub(substitute, \"\", artist_name).replace(\"\\n\", \"\").replace(\"\\t\", \"\")\n",
    "                artists[artist_name] = artist_url, artist_genre\n",
    "                logging.info(f\"Got {artist_name}\")\n",
    "            except AttributeError:\n",
    "                logging.warning(f\"Unable to retrieve top artist number {idx}. Html structure not aligned\")        \n",
    "    except AttributeError:\n",
    "        logging.warning(f\"Unable to retrieve top artists. Html structure not aligned\")\n",
    "    \n",
    "    # other artists\n",
    "    logging.info(\"Retrieving other artists\")\n",
    "    try:\n",
    "        other_artists = soup.find(\"table\", class_=\"songs-table\").find(\"tbody\").find_all(\"tr\")\n",
    "        for idx, artist in enumerate(other_artists):\n",
    "            try:\n",
    "                box = artist.find(\"a\")\n",
    "                artist_url = box.get(\"href\")\n",
    "                artist_name = box.get_text()\n",
    "                artist_genre = artist.find_all(\"td\")[1].get_text().replace(\"\\n\", \"\").replace(\"\\t\", \"\")\n",
    "                if artist_genre == \"\":\n",
    "                    artist_genre = None\n",
    "                substitute = re.compile(\"\\s*(L|l)yrics.*\")\n",
    "                artist_name = re.sub(substitute, \"\", artist_name).replace(\"\\n\", \"\").replace(\"\\t\", \"\")\n",
    "                artists[artist_name] = artist_url, artist_genre\n",
    "                logging.info(f\"Got {artist_name}\")\n",
    "            except AttributeError:\n",
    "                logging.warning(f\"Unable to retrieve other artist number {idx}. Html structure not aligned\")        \n",
    "    except AttributeError:\n",
    "        logging.warning(f\"Unable to retrieve other artists. Html structure not aligned\")\n",
    "    \n",
    "    logging.info(f\"Retrieved {len(artists.keys())} artists for letter {letter}\")\n",
    "    \n",
    "    return artists\n",
    "        \n",
    "        \n",
    "def retrieve_songs(artist, artist_url, driver, per_artist_limit):\n",
    "\n",
    "    logging.info(f\"\\nRetrieving songs for {artist}\")\n",
    "    \n",
    "    driver.get(artist_url)\n",
    "    html = driver.page_source\n",
    "    logging.info(\"Html source loaded\")\n",
    "    soup = BeautifulSoup(html, \"lxml\")\n",
    "    \n",
    "    try:\n",
    "        titles_soup = soup.find(\"div\", id=\"popular\").find(\"div\", class_=\"content\").find(\"tbody\").find_all(\"tr\")\n",
    "    except AttributeError:\n",
    "        logging.warning(f\"Unable to retrieve songs for {artist}. Html structure not aligned\")\n",
    "    \n",
    "    titles = []\n",
    "    if per_artist_limit is None:\n",
    "        per_artist_limit = len(titles_soup)\n",
    "    for idx, song in enumerate(titles_soup[:per_artist_limit]):\n",
    "        try:\n",
    "            substitute = re.compile(\"\\s*(L|l)yrics.*\")\n",
    "            title = song.find(\"a\", class_=[\"title hasvidtable\", \"title \"]).get_text()\n",
    "            title = re.sub(substitute, \"\", title).replace(\"\\n\", \"\").replace(\"\\t\", \"\")\n",
    "            titles.append(title)\n",
    "            logging.info(f\"Got {title}\")\n",
    "        except AttributeError:\n",
    "            logging.warning(f\"Unable to retrieve song number {idx}. Html structure not aligned\")\n",
    "    \n",
    "    logging.info(f\"Retrieved {len(titles)} songs for {artist}\")\n",
    "    \n",
    "    return titles"
   ]
  },
  {
   "cell_type": "code",
   "execution_count": null,
   "metadata": {
    "scrolled": true
   },
   "outputs": [],
   "source": [
    "driver = driver = webdriver.Firefox(executable_path='<YOUR_GECKODRIVER_PATH>')\n",
    "songs = metrolyrics_retriever(df_initial, driver)"
   ]
  },
  {
   "cell_type": "code",
   "execution_count": 3,
   "metadata": {},
   "outputs": [
    {
     "data": {
      "text/plain": [
       "(62470, 6)"
      ]
     },
     "execution_count": 3,
     "metadata": {},
     "output_type": "execute_result"
    }
   ],
   "source": [
    "songs = pd.read_csv(\"./data/songs.csv\")\n",
    "songs.shape"
   ]
  },
  {
   "cell_type": "markdown",
   "metadata": {},
   "source": [
    "#### **3.1.2 Function using the Genius API to get lyrics, albums and release dates**"
   ]
  },
  {
   "cell_type": "markdown",
   "metadata": {},
   "source": [
    "Some cleaning steps act already in the retrieval phase: I kept only lyrics written in English and removed all instances with either unavailable lyrics, no token or too many (>10000), practically removing some outliers. The core of data cleaning is anyway covered in the next subsection."
   ]
  },
  {
   "cell_type": "code",
   "execution_count": 75,
   "metadata": {
    "jupyter": {
     "source_hidden": true
    }
   },
   "outputs": [],
   "source": [
    "def retrieve_lyrics(df_songs, genius_api, output_filename, avoid_artists=[]):\n",
    "    \n",
    "    dataset = df_songs\n",
    "    artists = [arts for arts in dataset.artist.unique() if arts not in avoid_artists]\n",
    "    logging.info(f\"Starting after {avoid_artists[-1]}\")\n",
    "    counter = 0\n",
    "    counter_overall = 0\n",
    "    \n",
    "    for artist in artists:\n",
    "        logging.info(f\"\\nRetrieving lyrics for {artist}\")\n",
    "        songs = dataset.loc[dataset.artist == artist, \"song\"].to_list()\n",
    "        album = []\n",
    "        lyrics = []\n",
    "        release_date = []\n",
    "        for idx, song_title in enumerate(songs):\n",
    "            \n",
    "            try:\n",
    "                song = genius_api.search_song(song_title, artist=artist)\n",
    "            except Exception as e:           \n",
    "                try:\n",
    "                    logging.warning(f\"{song_title}, {artist} not found: {e.message} {e.args}\")\n",
    "                except AttributeError:\n",
    "                    logging.warning(f\"{song_title}, {artist} {song_title}, {artist} not found: {e}\")\n",
    "                \n",
    "                dataset = dataset.drop(\n",
    "                                index=dataset.loc[(dataset.artist == artist) & (dataset.song == song_title)].index\n",
    "                                ).reset_index(drop=True)\n",
    "                \n",
    "                counter_overall += 1\n",
    "                print(f\"\\rLyrics retrieved: {counter} Total songs: {counter_overall}\", end='\\r')\n",
    "                sys.stdout.flush()\n",
    "                continue\n",
    "            \n",
    "            try:\n",
    "                text = song.lyrics\n",
    "                substitute = re.compile(\"\\[.+\\]\")\n",
    "                text = re.sub(substitute, \"\", text).replace(\"\\n\", \" \").replace(\"\\t\", \" \")\n",
    "                \n",
    "                try:\n",
    "                    language = TextBlob(text).detect_language()\n",
    "                except Exception as e:\n",
    "                    try:\n",
    "                        logging.warning(f\"Problem detecting language for {song_title}, {artist}: {e.message} {e.args}\")\n",
    "                    except AttributeError:\n",
    "                        logging.warning(f\"Problem detecting language for {song_title}, {artist}: {e}\")\n",
    "                    language = \"en\"\n",
    "                if language != \"en\":\n",
    "                    dataset = dataset.drop(\n",
    "                                index=dataset.loc[(dataset.artist == artist) & (dataset.song == song_title)].index\n",
    "                                ).reset_index(drop=True)\n",
    "                    logging.warning(f\"Excluded {song_title}, {artist}. Lyrics language: {language}\")\n",
    "                    counter_overall += 1\n",
    "                    print(f\"\\rLyrics retrieved: {counter} Total songs: {counter_overall}\", end='\\r')\n",
    "                    sys.stdout.flush()\n",
    "                    continue\n",
    "                else:\n",
    "                    if len(text.split()) < 10000:\n",
    "                        lyrics.append(text)\n",
    "                    # avoid outliers --> surely not song lyrics\n",
    "                    else:\n",
    "                        dataset = dataset.drop(\n",
    "                                index=dataset.loc[(dataset.artist == artist) & (dataset.song == song_title)].index\n",
    "                                ).reset_index(drop=True)\n",
    "                        logging.warning(f\"Excluded {song_title}, {artist}. Lyrics longer than 10000 words\")\n",
    "                        counter_overall += 1\n",
    "                        print(f\"\\rLyrics retrieved: {counter} Total songs: {counter_overall}\", end='\\r')\n",
    "                        sys.stdout.flush()\n",
    "                        continue\n",
    "                        \n",
    "            except AttributeError:\n",
    "                logging.warning(f\"No lyrics for {song_title}. Dropping\")\n",
    "                dataset = dataset.drop(\n",
    "                                index=dataset.loc[(dataset.artist == artist) & (dataset.song == song_title)].index\n",
    "                                ).reset_index(drop=True)\n",
    "                counter_overall += 1\n",
    "                print(f\"\\rLyrics retrieved: {counter} Total songs: {counter_overall}\", end='\\r')\n",
    "                sys.stdout.flush()\n",
    "                continue\n",
    "            \n",
    "            try:\n",
    "                album.append(song.album.replace(\"\\n\", \"\").replace(\"\\t\", \"\"))\n",
    "            except AttributeError:\n",
    "                album.append(None)\n",
    "            \n",
    "            try:\n",
    "                release_date.append(song.year.replace(\"\\n\", \"\").replace(\"\\t\", \"\"))\n",
    "            except AttributeError:\n",
    "                release_date.append(None)\n",
    "            \n",
    "            logging.info(f\"Got data for {song_title}\")\n",
    "            counter += 1\n",
    "            counter_overall += 1\n",
    "            print(f\"\\rLyrics retrieved: {counter} Total songs: {counter_overall}\", end='\\r')\n",
    "            sys.stdout.flush()\n",
    "        \n",
    "        logging.info(f\"Retrieved lyrics for {artist}\")\n",
    "        logging.info(f\"Artist Dataset shape: {dataset.loc[dataset.artist == artist, :].shape}, Albums: {len(album)}, Lyrics: {len(lyrics)}, Release Date: {len(release_date)}\")\n",
    "        \n",
    "        dataset.loc[dataset.artist == artist, \"album\"] = album\n",
    "        dataset.loc[dataset.artist == artist, \"lyrics\"] = lyrics\n",
    "        dataset.loc[dataset.artist == artist, \"release_date\"] = release_date        \n",
    "        \n",
    "        logging.info(f\"Writing {artist} to csv\")\n",
    "        logging.info(f\"Global Dataset shape: {dataset.shape}\")\n",
    "        dataset.to_csv(f\"/Users/lucamasserano/Desktop/BOCCONI/nlp/final_project/lyrics_project/{output_filename}.csv\", index=False)\n",
    "    \n",
    "    return dataset"
   ]
  },
  {
   "cell_type": "code",
   "execution_count": 78,
   "metadata": {},
   "outputs": [],
   "source": [
    "api = lyricsgenius.Genius('<YOUR_API_TOKEN>', sleep_time=0.01, verbose=False)"
   ]
  },
  {
   "cell_type": "code",
   "execution_count": null,
   "metadata": {
    "scrolled": true
   },
   "outputs": [],
   "source": [
    "lyrics = retrieve_lyrics(songs, api, avoid_artists=[])"
   ]
  },
  {
   "cell_type": "code",
   "execution_count": 14,
   "metadata": {},
   "outputs": [
    {
     "data": {
      "text/plain": [
       "(50466, 6)"
      ]
     },
     "execution_count": 14,
     "metadata": {},
     "output_type": "execute_result"
    }
   ],
   "source": [
    "lyrics_df = pd.read_csv(\"./data/lyrics.csv\")\n",
    "lyrics_df.shape"
   ]
  },
  {
   "cell_type": "markdown",
   "metadata": {},
   "source": [
    "#### **3.1.3 An example**"
   ]
  },
  {
   "cell_type": "code",
   "execution_count": 15,
   "metadata": {},
   "outputs": [
    {
     "data": {
      "text/html": [
       "<div>\n",
       "<style scoped>\n",
       "    .dataframe tbody tr th:only-of-type {\n",
       "        vertical-align: middle;\n",
       "    }\n",
       "\n",
       "    .dataframe tbody tr th {\n",
       "        vertical-align: top;\n",
       "    }\n",
       "\n",
       "    .dataframe thead th {\n",
       "        text-align: right;\n",
       "    }\n",
       "</style>\n",
       "<table border=\"1\" class=\"dataframe\">\n",
       "  <thead>\n",
       "    <tr style=\"text-align: right;\">\n",
       "      <th></th>\n",
       "      <th>artist</th>\n",
       "      <th>song</th>\n",
       "      <th>album</th>\n",
       "      <th>release_date</th>\n",
       "      <th>genre</th>\n",
       "      <th>lyrics</th>\n",
       "    </tr>\n",
       "  </thead>\n",
       "  <tbody>\n",
       "    <tr>\n",
       "      <th>5251</th>\n",
       "      <td>Bruce Springsteen</td>\n",
       "      <td>I'm On Fire</td>\n",
       "      <td>Born in the U.S.A.</td>\n",
       "      <td>1984-06-04</td>\n",
       "      <td>Rock</td>\n",
       "      <td>Hey, little girl, is your daddy home? Did he ...</td>\n",
       "    </tr>\n",
       "    <tr>\n",
       "      <th>5252</th>\n",
       "      <td>Bruce Springsteen</td>\n",
       "      <td>Thunder Road</td>\n",
       "      <td>Born to Run</td>\n",
       "      <td>1975-08-25</td>\n",
       "      <td>Rock</td>\n",
       "      <td>The screen door slams, Mary's dress waves Like...</td>\n",
       "    </tr>\n",
       "    <tr>\n",
       "      <th>5253</th>\n",
       "      <td>Bruce Springsteen</td>\n",
       "      <td>Blinded By The Light</td>\n",
       "      <td>Greetings From Asbury Park, N.J.</td>\n",
       "      <td>1973-01-05</td>\n",
       "      <td>Rock</td>\n",
       "      <td>Madman drummers bummers and Indians in the su...</td>\n",
       "    </tr>\n",
       "    <tr>\n",
       "      <th>5254</th>\n",
       "      <td>Bruce Springsteen</td>\n",
       "      <td>Born To Run</td>\n",
       "      <td>Born to Run</td>\n",
       "      <td>1975-08-25</td>\n",
       "      <td>Rock</td>\n",
       "      <td>In the day, we sweat it out on the streets Of ...</td>\n",
       "    </tr>\n",
       "    <tr>\n",
       "      <th>5255</th>\n",
       "      <td>Bruce Springsteen</td>\n",
       "      <td>The River</td>\n",
       "      <td>The River</td>\n",
       "      <td>NaN</td>\n",
       "      <td>Rock</td>\n",
       "      <td>I come from down in the valley Where, miste...</td>\n",
       "    </tr>\n",
       "  </tbody>\n",
       "</table>\n",
       "</div>"
      ],
      "text/plain": [
       "                 artist                  song  \\\n",
       "5251  Bruce Springsteen           I'm On Fire   \n",
       "5252  Bruce Springsteen          Thunder Road   \n",
       "5253  Bruce Springsteen  Blinded By The Light   \n",
       "5254  Bruce Springsteen           Born To Run   \n",
       "5255  Bruce Springsteen             The River   \n",
       "\n",
       "                                 album release_date genre  \\\n",
       "5251                Born in the U.S.A.   1984-06-04  Rock   \n",
       "5252                       Born to Run   1975-08-25  Rock   \n",
       "5253  Greetings From Asbury Park, N.J.   1973-01-05  Rock   \n",
       "5254                       Born to Run   1975-08-25  Rock   \n",
       "5255                         The River          NaN  Rock   \n",
       "\n",
       "                                                 lyrics  \n",
       "5251   Hey, little girl, is your daddy home? Did he ...  \n",
       "5252  The screen door slams, Mary's dress waves Like...  \n",
       "5253   Madman drummers bummers and Indians in the su...  \n",
       "5254  In the day, we sweat it out on the streets Of ...  \n",
       "5255     I come from down in the valley Where, miste...  "
      ]
     },
     "execution_count": 15,
     "metadata": {},
     "output_type": "execute_result"
    }
   ],
   "source": [
    "lyrics_df.loc[lyrics_df.artist == \"Bruce Springsteen\", :].head()"
   ]
  },
  {
   "cell_type": "code",
   "execution_count": 18,
   "metadata": {},
   "outputs": [
    {
     "data": {
      "text/plain": [
       "(1039,)"
      ]
     },
     "execution_count": 18,
     "metadata": {},
     "output_type": "execute_result"
    }
   ],
   "source": [
    "# number of artists retrieved\n",
    "lyrics_df.artist.unique().shape"
   ]
  },
  {
   "cell_type": "markdown",
   "metadata": {},
   "source": [
    "### **3.2 Data cleaning**"
   ]
  },
  {
   "cell_type": "code",
   "execution_count": 6,
   "metadata": {},
   "outputs": [],
   "source": [
    "from datetime import datetime"
   ]
  },
  {
   "cell_type": "markdown",
   "metadata": {},
   "source": [
    "#### **3.2.1 Drop NaNs in *lyrics* column**"
   ]
  },
  {
   "cell_type": "markdown",
   "metadata": {},
   "source": [
    "Although I've already tried to catch unavailable lyrics during the data retrieval process, a quick inspection of the dataset outlines the presence of a few NaNs. This is mainly due to two reasons: \n",
    "1. first, there was a very rare server connection error that occurred while scraping and this caused some lyrics to be set to NaN while the exception was handled;\n",
    "2. second, *MetroLyrics* apparently duplicated some artists starting with \"The\" (e.g., *The Beatles* were classified both in letter B and also in letter T). This someway caused the appearance of most of the uncaught NaNs in some of the duplicated artists. "
   ]
  },
  {
   "cell_type": "code",
   "execution_count": 13,
   "metadata": {},
   "outputs": [
    {
     "data": {
      "text/plain": [
       "(1554, 6)"
      ]
     },
     "execution_count": 13,
     "metadata": {},
     "output_type": "execute_result"
    }
   ],
   "source": [
    "lyrics_null = lyrics_df[lyrics_df.lyrics.isnull()]\n",
    "lyrics_null.shape"
   ]
  },
  {
   "cell_type": "code",
   "execution_count": 5,
   "metadata": {
    "scrolled": true
   },
   "outputs": [
    {
     "name": "stdout",
     "output_type": "stream",
     "text": [
      "lyrics_NaNs artist\n"
     ]
    },
    {
     "data": {
      "text/plain": [
       "[(79, 'The Cure'),\n",
       " (77, 'The Animals'),\n",
       " (75, 'The Beatles'),\n",
       " (75, 'The Carpenters'),\n",
       " (75, 'The Rolling Stones'),\n",
       " (75, 'The Killers'),\n",
       " (75, 'The Cranberries'),\n",
       " (75, 'The Muppets'),\n",
       " (75, 'The Hit Crew'),\n",
       " (75, 'The Lonely Island'),\n",
       " (72, 'The Chainsmokers'),\n",
       " (56, 'The Lumineers'),\n",
       " (49, 'The High Kings'),\n",
       " (45, 'The Phantom of the Opera (Original London Cast)'),\n",
       " (45, 'The Platters'),\n",
       " (35, 'Hans Zimmer'),\n",
       " (26, 'Yanni'),\n",
       " (21, 'Steven Universe'),\n",
       " (20, 'Quincy Jones'),\n",
       " (18, 'The Irish Descendants')]"
      ]
     },
     "execution_count": 5,
     "metadata": {},
     "output_type": "execute_result"
    }
   ],
   "source": [
    "# count nans for each artist that has some\n",
    "artists_null = sorted(\n",
    "    [(lyrics_null[lyrics_null.artist == artist].shape[0], artist) for artist in lyrics_null.artist.unique()],\n",
    "    key=lambda x: x[0], reverse=True\n",
    "    )\n",
    "print(\"lyrics_NaNs\", \"artist\")\n",
    "artists_null[:20]"
   ]
  },
  {
   "cell_type": "code",
   "execution_count": 20,
   "metadata": {},
   "outputs": [
    {
     "data": {
      "text/plain": [
       "(48912, 6)"
      ]
     },
     "execution_count": 20,
     "metadata": {},
     "output_type": "execute_result"
    }
   ],
   "source": [
    "lyrics_df = lyrics_df.loc[lyrics_df.lyrics.notnull(), :]\n",
    "lyrics_df.shape"
   ]
  },
  {
   "cell_type": "markdown",
   "metadata": {},
   "source": [
    "#### **3.2.2 Drop lyrics with nonsensical length**"
   ]
  },
  {
   "cell_type": "markdown",
   "metadata": {},
   "source": [
    "In order not to negatively influence the analysis of the lyrics, it's important to drop those instances with completely unrealistic lengths. A quick inspection reveals that for some reason the *Genius* API I used has a few nonsensical instances, such as lyrics long up to 150000 tokens, or as short as 10 tokens.\n",
    "\n",
    "Assuming that an average line of a song contains 5 to 10 words, I dropped all instances with `len < 30`, i.e. approximately less than 3 to 6 lines. As for the upper bound I dropped all lyrics with more than 2000 tokens.\n",
    "\n",
    "Since the above only aims at dropping instances which are clearly not lyrics and at homogenizing data, I decided to do it directly on the raw dataset, without a preliminary deletion of punctuation. "
   ]
  },
  {
   "cell_type": "code",
   "execution_count": 21,
   "metadata": {},
   "outputs": [
    {
     "data": {
      "image/png": "[encoded data removed]",
      "text/plain": [
       "<Figure size 720x360 with 2 Axes>"
      ]
     },
     "metadata": {},
     "output_type": "display_data"
    }
   ],
   "source": [
    "fig, ax = plt.subplots(1, 2, figsize=(10, 5))\n",
    "ax[0].hist(lyrics_df.lyrics.apply(lambda text: len(text.split())), bins=50)\n",
    "ax[0].set_xlim(left=-1000)\n",
    "ax[0].set_xlabel('Tokens')\n",
    "ax[0].set_ylabel('Songs')\n",
    "\n",
    "ax[1].hist(lyrics_df.lyrics.apply(lambda text: len(text.split())), bins=750)\n",
    "ax[1].set_xlim(left=-1000, right=4000)\n",
    "ax[1].set_xlabel('Tokens')\n",
    "ax[1].set_ylabel('Songs')\n",
    "\n",
    "plt.subplots_adjust(wspace=0.5)\n",
    "plt.show()"
   ]
  },
  {
   "cell_type": "code",
   "execution_count": 22,
   "metadata": {},
   "outputs": [
    {
     "data": {
      "text/plain": [
       "(2009, 6)"
      ]
     },
     "execution_count": 22,
     "metadata": {},
     "output_type": "execute_result"
    }
   ],
   "source": [
    "lyrics_df.loc[lyrics_df.lyrics.apply(lambda text: len(text.split())) > 2000, :].shape"
   ]
  },
  {
   "cell_type": "code",
   "execution_count": 23,
   "metadata": {},
   "outputs": [
    {
     "data": {
      "text/plain": [
       "(533, 6)"
      ]
     },
     "execution_count": 23,
     "metadata": {},
     "output_type": "execute_result"
    }
   ],
   "source": [
    "lyrics_df.loc[lyrics_df.lyrics.apply(lambda text: len(text.split())) < 30, :].shape"
   ]
  },
  {
   "cell_type": "code",
   "execution_count": 24,
   "metadata": {},
   "outputs": [
    {
     "data": {
      "text/plain": [
       "(46357, 6)"
      ]
     },
     "execution_count": 24,
     "metadata": {},
     "output_type": "execute_result"
    }
   ],
   "source": [
    "lyrics_df = lyrics_df.loc[\n",
    "                (lyrics_df.lyrics.apply(lambda text: len(text.split())) < 2000) &\n",
    "                (lyrics_df.lyrics.apply(lambda text: len(text.split())) > 30)\n",
    "                ]\n",
    "lyrics_df.shape"
   ]
  },
  {
   "cell_type": "markdown",
   "metadata": {},
   "source": [
    "#### **3.2.3 Drop duplicates**"
   ]
  },
  {
   "cell_type": "markdown",
   "metadata": {},
   "source": [
    "Two types of duplicates need to be dropped in order to perform a coherent analysis:\n",
    "1. Possible duplicates of (artist, song) couples, due to repetitions in *MetroLyrics*' database"
   ]
  },
  {
   "cell_type": "code",
   "execution_count": 11,
   "metadata": {},
   "outputs": [
    {
     "data": {
      "text/plain": [
       "(676, 6)"
      ]
     },
     "execution_count": 11,
     "metadata": {},
     "output_type": "execute_result"
    }
   ],
   "source": [
    "lyrics_df.loc[lyrics_df.duplicated(subset=[\"artist\", \"song\"], keep=\"first\"), :].shape"
   ]
  },
  {
   "cell_type": "code",
   "execution_count": 25,
   "metadata": {},
   "outputs": [],
   "source": [
    "lyrics_df.drop_duplicates(subset=[\"artist\", \"song\"], keep=\"first\", inplace=True)"
   ]
  },
  {
   "cell_type": "markdown",
   "metadata": {},
   "source": [
    "2. Covers of other songs"
   ]
  },
  {
   "cell_type": "code",
   "execution_count": 27,
   "metadata": {},
   "outputs": [
    {
     "data": {
      "text/plain": [
       "(1836, 6)"
      ]
     },
     "execution_count": 27,
     "metadata": {},
     "output_type": "execute_result"
    }
   ],
   "source": [
    "lyrics_df.loc[lyrics_df.duplicated(subset=[\"lyrics\"], keep=\"first\"), :].shape"
   ]
  },
  {
   "cell_type": "code",
   "execution_count": 28,
   "metadata": {},
   "outputs": [],
   "source": [
    "lyrics_df.drop_duplicates(subset=\"lyrics\", keep=\"first\", inplace=True)"
   ]
  },
  {
   "cell_type": "markdown",
   "metadata": {},
   "source": [
    "#### **3.2.4 Manual checks**"
   ]
  },
  {
   "cell_type": "markdown",
   "metadata": {},
   "source": [
    "Quickly scrolling the dataset I noticed that there are two names for Beyoncé: Beyoncé and Beyoncé-Knowles. It makes sense to rename the latter and drop duplicates"
   ]
  },
  {
   "cell_type": "code",
   "execution_count": 15,
   "metadata": {
    "scrolled": true
   },
   "outputs": [],
   "source": [
    "lyrics_df.loc[lyrics_df.artist == \"Beyonce Knowles\", \"artist\"] = \"Beyoncé\""
   ]
  },
  {
   "cell_type": "code",
   "execution_count": 16,
   "metadata": {},
   "outputs": [
    {
     "data": {
      "text/plain": [
       "(1, 6)"
      ]
     },
     "execution_count": 16,
     "metadata": {},
     "output_type": "execute_result"
    }
   ],
   "source": [
    "lyrics_df.loc[lyrics_df.duplicated(subset=[\"artist\", \"song\"], keep=\"first\"), :].shape"
   ]
  },
  {
   "cell_type": "code",
   "execution_count": 17,
   "metadata": {},
   "outputs": [],
   "source": [
    "lyrics_df.drop_duplicates(subset=[\"artist\", \"song\"], keep=\"first\", inplace=True)"
   ]
  },
  {
   "cell_type": "code",
   "execution_count": 18,
   "metadata": {},
   "outputs": [
    {
     "data": {
      "text/plain": [
       "(43844, 6)"
      ]
     },
     "execution_count": 18,
     "metadata": {},
     "output_type": "execute_result"
    }
   ],
   "source": [
    "lyrics_df.shape"
   ]
  },
  {
   "cell_type": "markdown",
   "metadata": {},
   "source": [
    "The dataset passed from 50466 instances to 43844 after cleaning."
   ]
  },
  {
   "cell_type": "markdown",
   "metadata": {},
   "source": [
    "### **3.3 Annotation**"
   ]
  },
  {
   "cell_type": "markdown",
   "metadata": {},
   "source": [
    "#### **3.3.1 Genre**"
   ]
  },
  {
   "cell_type": "markdown",
   "metadata": {},
   "source": [
    "By plotting the distribution of genres across songs it is clear that *Rock*, *Pop* and *Hip-Hop* are the most prevalent genres. Given that there are around 8000 unclassified lyrics, I would like to annotate them in order obtain the full picture and not lose any data point. \n",
    "\n",
    "Moreover, I inspected the artists-genre pairs and uncovered some misclassifications that I am going to correct manually."
   ]
  },
  {
   "cell_type": "code",
   "execution_count": 19,
   "metadata": {},
   "outputs": [],
   "source": [
    "# list of genres with NaNs as \"None\" to plot them\n",
    "genres = [genre if isinstance(genre, float) is False else \"None\" for genre in lyrics_df.loc[:, \"genre\"].to_numpy()]"
   ]
  },
  {
   "cell_type": "code",
   "execution_count": 20,
   "metadata": {},
   "outputs": [
    {
     "data": {
      "image/png": "[encoded data removed]",
      "text/plain": [
       "<Figure size 720x360 with 1 Axes>"
      ]
     },
     "metadata": {},
     "output_type": "display_data"
    }
   ],
   "source": [
    "fig, ax = plt.subplots(figsize=(10, 5))\n",
    "sns.countplot(genres, ax=ax)\n",
    "add_value_labels(ax=ax) # from utils.ipynb"
   ]
  },
  {
   "cell_type": "markdown",
   "metadata": {},
   "source": [
    "#### Correction of misclassifications"
   ]
  },
  {
   "cell_type": "code",
   "execution_count": 21,
   "metadata": {},
   "outputs": [],
   "source": [
    "corrected_genres = {\"Metal\": [\"Deep Purple\", \"Iron Maiden\", 'Metallica', 'Rammstein'],\n",
    "                      \"Pop\": ['Alanis Morissette', 'Gwen Stefani', 'Gary Jules', 'Il Volo', 'Of Monsters And Men', 'Sugar free'], \n",
    "                      \"Indie\": ['Foster The People', 'Gotye', 'HOZIER'],\n",
    "                      \"Folk\": ['Joan Baez'], \n",
    "                      \"Other\": ['Soundtrack'], \n",
    "                      \"R&B\": ['Tina Turner', 'Zucchero']\n",
    "                     }"
   ]
  },
  {
   "cell_type": "code",
   "execution_count": 22,
   "metadata": {},
   "outputs": [],
   "source": [
    "# update dataset with new genres annotations\n",
    "for genre, artists in corrected_genres.items():\n",
    "    for artist in artists:\n",
    "        lyrics_df.loc[lyrics_df.artist == artist, \"genre\"] = [genre]*lyrics_df.loc[lyrics_df.artist == artist, \"genre\"].shape[0]"
   ]
  },
  {
   "cell_type": "markdown",
   "metadata": {},
   "source": [
    "#### NaNs manual annotation"
   ]
  },
  {
   "cell_type": "code",
   "execution_count": 23,
   "metadata": {
    "scrolled": true
   },
   "outputs": [
    {
     "data": {
      "text/plain": [
       "array(['6ix9ine', '50 Cent', '2Pac', '30 Seconds to Mars', '6cyclemind',\n",
       "       '5 Seconds Of Summer', '2Face Idibia', '3 Piece', 'ABBA', 'Adele',\n",
       "       'A. R. Rahman', 'Annie', 'Aladdin', 'Aizat Amdan',\n",
       "       'Andrea Bocelli', 'Anthony Brown & Group Therapy',\n",
       "       'Andrew Lloyd Webber', 'Ariel Rivera', 'Brett Young',\n",
       "       'The Beatles', 'Bruno Mars', 'Ben&Ben', 'Brian McKnight',\n",
       "       'Bob Marley', 'Byron Cage', 'Coldplay', 'Children Songs',\n",
       "       'Céline Dion', 'The Carpenters', 'CupcakKe', 'Christina Perri',\n",
       "       'Christmas Carols', 'Christmas Song', 'Charlie Puth',\n",
       "       'Charles Jenkins', 'A Chorus Line', 'Cedarmont Kids', 'Cabaret',\n",
       "       'Drake', 'Disney', 'Demi Lovato', 'DJ Khaled', 'Dolly Parton',\n",
       "       'David Bowie', 'Dora The Explorer', 'Dreamgirls', 'Ed Sheeran',\n",
       "       'Eminem', 'Elton John', 'Ella Fitzgerald', 'Elvis Presley',\n",
       "       'Eraserheads', 'Earth Wind & Fire', 'Enya', 'Frank Sinatra',\n",
       "       'Fleetwood Mac', 'Fiona Apple', 'Foo Fighters', 'Fall Out Boy',\n",
       "       'Fred Hammond', 'Guru Randhawa', 'Grease', 'Garth Brooks',\n",
       "       'Green Day', 'Gary Valenciano', 'Gaither Vocal Band',\n",
       "       'Gipsy Kings', \"Gilligan's Island\", 'Hillsong', 'Hale',\n",
       "       'Happy Birthday', 'Hillsong United', 'Hank Williams',\n",
       "       'Harry Styles', 'Howard Shore', 'Hezekiah Walker', 'Hans Zimmer',\n",
       "       'Hillary Scott', 'Imagine Dragons', 'Company - Into the Woods',\n",
       "       'Israel Houghton', 'Irish Rovers', 'IV Of Spades', 'Idina Menzel',\n",
       "       'Israel', 'India Arie', 'Jimmy Buffett', 'Jason Mraz',\n",
       "       'Justin Bieber', 'Jass Manak', 'Johnny Cash',\n",
       "       'J J Hairston & Youthful Praise', 'Jesus Christ Superstar',\n",
       "       'James Weldon Johnson', 'K. K.', 'Kanye West', 'Kenny Chesney',\n",
       "       'Katy Perry', 'Kirk Franklin', 'The King And I', 'Luis Fonsi',\n",
       "       'Lady GaGa', 'Linkin Park', 'Lil Wayne', 'LION KING',\n",
       "       'Little Shop Of Horrors', 'Luciano Pavarotti', 'Lynda Randle',\n",
       "       'Maroon 5', 'Morissette Amon', 'Michael Jackson', 'Mariah Carey',\n",
       "       'Miley Cyrus', 'Monty Python', 'Meryl Streep', 'Miss Saigon',\n",
       "       'Music Man', 'My Fair Lady', 'Martin Nievera', 'Nawab',\n",
       "       'Nicki Minaj', 'Neha Kakkar', 'Ne-Yo',\n",
       "       'Newsies-Original Broadway Cast', 'Orange And Lemons',\n",
       "       'One Direction', 'Oasis', 'Oliver', 'OneRepublic', 'Ozzy Osbourne',\n",
       "       'Original Broadway Cast Recording', \"The O'Jays\", 'Oscar Isaac',\n",
       "       'Peterpan', 'Parokya Ni Edgar',\n",
       "       'The Phantom of the Opera (Original London Cast)', 'Pokémon',\n",
       "       'Prince', 'Phineas and Ferb', 'Pitch Perfect', 'Pheobe', 'Queen',\n",
       "       'Queen Naija', 'Quest', 'Queens of The Stone Age', 'Quiet riot',\n",
       "       'Quavo', 'Rihanna', 'RENT', 'Ran', 'Rivermaya', 'Raffi',\n",
       "       'The Rolling Stones', 'Regine Velasquez', 'Sabyan Gambus',\n",
       "       'SpongeBob SquarePants', 'Sound Of Music', 'South Park',\n",
       "       'Scooby Doo Theme Songs', 'Sesame Street', 'Simpsons',\n",
       "       'Taylor Swift', 'Tasha Cobbs', 'Tv Theme', 'Usher', 'U2',\n",
       "       'Unknown', 'Urban Dub', 'Ub40', 'US Marine Corps',\n",
       "       'Vanessa Hudgens', 'Van Morrison', 'VeggieTales',\n",
       "       'Victorious Cast', 'Velasquez Regine', 'Vashawn Mitchell',\n",
       "       'Vicente Fernandez', 'Vishal Dadlani', 'Valli Frankie', 'Westlife',\n",
       "       'We Three', 'WICKED CREW', 'Willie Nelson', 'Wizard Of Oz',\n",
       "       'Whitney Houston', 'Westside Story', 'Wrestling', 'XXXTENTACION',\n",
       "       'Xavier Rudd', 'The Xx', 'X Factor (UK)', 'X Factor (US)',\n",
       "       'Yeng Constantino', 'Yuvan Shankar Raja', 'Yo Yo Honey Singh',\n",
       "       'Yung Raja', 'YoungBoy Never Broke Again', 'YG', 'Yolanda Adams',\n",
       "       'The Yogscast', 'Yanni', 'Zayn Malik', 'Zack Knight', 'Zac Efron',\n",
       "       'Zac Brown Band', 'Zhavia Ward', 'Ziggy Marley', 'zain bhikha'],\n",
       "      dtype=object)"
      ]
     },
     "execution_count": 23,
     "metadata": {},
     "output_type": "execute_result"
    }
   ],
   "source": [
    "lyrics_df.loc[lyrics_df.genre.isnull(), \"artist\"].unique()"
   ]
  },
  {
   "cell_type": "code",
   "execution_count": 24,
   "metadata": {},
   "outputs": [],
   "source": [
    "# mapping between genre to artists\n",
    "genre_to_artist = {\n",
    "    \"Hip-Hop\": ['6ix9ine', '50 Cent', '2Pac', 'Drake', 'DJ Khaled', 'Eminem', 'Kanye West', 'Lil Wayne', 'Nicki Minaj', 'XXXTENTACION', 'CupcakKe', 'Quavo', 'YoungBoy Never Broke Again', 'YG'], \n",
    "    \"Rock\": ['Green Day', '30 Seconds to Mars', 'Linkin Park', 'The Rolling Stones', 'David Bowie', 'Elton John', 'Elvis Presley', 'U2', 'Eraserheads', 'Hale', 'Fall Out Boy', 'Fleetwood Mac', 'Parokya Ni Edgar', 'Van Morrison', 'Foo Fighters', 'Prince', 'Queen', 'Rivermaya', 'Urban Dub', 'Vashawn Mitchell', 'Valli Frankie'], \n",
    "    \"Pop\": ['Maroon 5', 'Michael Jackson', 'OneRepublic', 'Harry Styles', 'Rihanna', 'One Direction', 'Idina Menzel', 'Jass Manak', 'IV Of Spades', 'Gipsy Kings', 'Fiona Apple', 'Gary Valenciano', 'Morissette Amon', 'Christina Perri', 'zain bhikha', 'Guru Randhawa', 'Ariel Rivera', 'Victorious Cast', '5 Seconds Of Summer', 'Miley Cyrus', 'We Three', 'Yo Yo Honey Singh', 'Yung Raja', 'Yeng Constantino', 'Westlife', 'Sabyan Gambus', 'Regine Velasquez', 'Velasquez Regine', 'Mariah Carey', 'Aizat Amdan', 'Katy Perry', 'Vanessa Hudgens', 'Justin Bieber', 'K. K.', 'Lady GaGa', 'Zac Efron', 'Taylor Swift', 'Oasis', 'Jason Mraz', 'Whitney Houston', 'Ed Sheeran', '6cyclemind', 'Orange And Lemons', 'ABBA', 'Luis Fonsi', 'Adele', 'Andrea Bocelli', 'The Beatles', 'Bruno Mars', 'Coldplay', 'Luciano Pavarotti', 'Céline Dion', 'Martin Nievera', 'The Carpenters', 'Demi Lovato', 'Imagine Dragons'],\n",
    "    \"Other\": ['Disney', 'Aladdin', 'Christmas Carols', 'Jesus Christ Superstar', 'Company - Into the Woods', \"Gilligan's Island\",  'Cabaret', 'VeggieTales', 'A Chorus Line', 'The King And I', 'SpongeBob SquarePants', 'Little Shop Of Horrors', 'Pitch Perfect', 'Miss Saigon', 'RENT', 'South Park', 'Annie', 'LION KING',  '3 Piece', 'Yuvan Shankar Raja', 'Vishal Dadlani', 'Vicente Fernandez', 'Sesame Street', 'Sound Of Music', 'Raffi', 'Music Man', 'Christmas Song', 'Yanni', 'The Yogscast', 'US Marine Corps', 'Tv Theme', 'Scooby Doo Theme Songs', 'My Fair Lady', 'X Factor (UK)', 'X Factor (US)', 'Ran', 'Westside Story', 'Oscar Isaac', 'Quest', 'Wrestling', 'Wizard Of Oz', 'Newsies-Original Broadway Cast', 'Peterpan', 'Simpsons', 'The Phantom of the Opera (Original London Cast)', 'Neha Kakkar', 'Nawab', 'Phineas and Ferb', 'Pokémon', 'Unknown', 'Original Broadway Cast Recording', 'Dora The Explorer', 'Enya', 'Children Songs', 'Monty Python', 'Meryl Streep', 'Grease', 'Happy Birthday', 'Hans Zimmer'],\n",
    "    \"Reggae\": ['Bob Marley', 'Ziggy Marley', '2Face Idibia', 'Ub40'],\n",
    "    \"Gospel\": ['Lynda Randle', 'Andrew Lloyd Webber', 'Hezekiah Walker', 'Howard Shore', 'Israel', 'Byron Cage', 'Israel Houghton', 'J J Hairston & Youthful Praise', 'Fred Hammond', 'Dreamgirls', 'Hillsong United', 'Hillsong', 'James Weldon Johnson', 'Yolanda Adams', 'Charles Jenkins', 'Kirk Franklin', 'Cedarmont Kids', 'Tasha Cobbs', 'Gaither Vocal Band', 'A. R. Rahman', 'Anthony Brown & Group Therapy'],\n",
    "    \"Jazz\": ['Ella Fitzgerald', 'Frank Sinatra'],\n",
    "    \"R&B\": ['Earth Wind & Fire', 'Ne-Yo', 'Usher', 'Brian McKnight', 'Charlie Puth', 'India Arie', \"The O'Jays\", 'Queen Naija', 'Zayn Malik', 'Zack Knight', 'Zhavia Ward'],\n",
    "    \"Country\": ['Johnny Cash', 'Brett Young', 'Dolly Parton', 'Garth Brooks', 'Hank Williams', 'Hillary Scott', 'Jimmy Buffett', 'Kenny Chesney', 'Willie Nelson', 'Zac Brown Band'], \n",
    "    \"Metal\": ['Ozzy Osbourne', 'Queens of The Stone Age', 'Quiet riot'], \n",
    "    \"Indie\": ['Ben&Ben', 'Pheobe', 'The Xx'],\n",
    "    \"Folk\": ['Irish Rovers', 'Xavier Rudd'],\n",
    "    \"Electronic\": ['Oliver', 'WICKED CREW']\n",
    "}"
   ]
  },
  {
   "cell_type": "code",
   "execution_count": 25,
   "metadata": {},
   "outputs": [
    {
     "name": "stderr",
     "output_type": "stream",
     "text": [
      "100%|██████████| 13/13 [00:07<00:00,  3.93it/s]\n"
     ]
    }
   ],
   "source": [
    "# update dataset with new genres annotations\n",
    "for genre in tqdm(genre_to_artist.keys()):\n",
    "    for artist in genre_to_artist[genre]:\n",
    "        lyrics_df.loc[lyrics_df.artist == artist, \"genre\"] = genre"
   ]
  },
  {
   "cell_type": "code",
   "execution_count": 27,
   "metadata": {},
   "outputs": [
    {
     "data": {
      "image/png": "[encoded data removed]",
      "text/plain": [
       "<Figure size 864x432 with 1 Axes>"
      ]
     },
     "metadata": {},
     "output_type": "display_data"
    }
   ],
   "source": [
    "genres_complete = lyrics_df.genre\n",
    "fig, ax = plt.subplots(figsize=(12, 6))\n",
    "sns.countplot(genres_complete, ax=ax)\n",
    "add_value_labels(ax=ax)"
   ]
  },
  {
   "cell_type": "markdown",
   "metadata": {},
   "source": [
    "#### **3.3.2 Release date**"
   ]
  },
  {
   "cell_type": "markdown",
   "metadata": {},
   "source": [
    "Release dates are used to classify each song in different periods in an aggregated way, so that the analysis can focus on linguistic variations across these periods.\n",
    "\n",
    "Unfortunately, approximately a third of release dates were missing, therefore I filled the NaNs in a coherent way according to each artist, both manually and automatically, dividing the criterion between artists that have no dates at all for their songs and artists that have at least some."
   ]
  },
  {
   "cell_type": "code",
   "execution_count": 29,
   "metadata": {},
   "outputs": [
    {
     "data": {
      "text/plain": [
       "(16460, 6)"
      ]
     },
     "execution_count": 29,
     "metadata": {},
     "output_type": "execute_result"
    }
   ],
   "source": [
    "lyrics_df.loc[lyrics_df.release_date.isnull(), :].shape"
   ]
  },
  {
   "cell_type": "code",
   "execution_count": 29,
   "metadata": {},
   "outputs": [],
   "source": [
    "# create \"year\" column. Month and Day are not useful for the purposes of the analysis\n",
    "lyrics_df.loc[:, \"year\"] = None\n",
    "lyrics_df.loc[lyrics_df.release_date.notnull(), \"year\"] = \\\n",
    "        lyrics_df.loc[lyrics_df.release_date.notnull(), \"release_date\"].apply(lambda date: datetime.strptime(date, \"%Y-%m-%d\").year)"
   ]
  },
  {
   "cell_type": "code",
   "execution_count": 30,
   "metadata": {},
   "outputs": [],
   "source": [
    "# set to None any year before 1900 and greater than 2020 --> clearly a mistake\n",
    "lyrics_df = lyrics_df.astype({\"year\": float})\n",
    "lyrics_df.loc[(lyrics_df.year < 1900) | (lyrics_df.year > 2020), \"year\"] = None"
   ]
  },
  {
   "cell_type": "markdown",
   "metadata": {},
   "source": [
    "#### Artists with no dates at all"
   ]
  },
  {
   "cell_type": "markdown",
   "metadata": {},
   "source": [
    "There are some artists for which no song has its release date. Since these amount to 74 musicians in total, I decided to annotate them by hand. \n",
    "\n",
    "The analysis is concerned, among other things, with the evolution over time of topics, writing styles and genres, where time is divided in multiple periods as explained above. As a consequence, the level of granularity provided by a manual annotation of the year of each song would not result in an increase of information for my purposes. \n",
    "\n",
    "Nonetheless, an ideal and coherent annotation would obviously take into account the years of activity of an artist. Therefore I decided to search for them on the web and then label the songs according to a uniform probability over the years of activity of each musician.\n",
    "In this way, a song that has been released, say, in 1974, could maybe be annotated as 1979, but this would not influence my analysis which takes into account only aggregated periods."
   ]
  },
  {
   "cell_type": "code",
   "execution_count": 32,
   "metadata": {},
   "outputs": [
    {
     "data": {
      "text/plain": [
       "74"
      ]
     },
     "execution_count": 32,
     "metadata": {},
     "output_type": "execute_result"
    }
   ],
   "source": [
    "# how many songs for each artist\n",
    "all_year_nan_artists = []\n",
    "for artist in lyrics_df.artist.unique():\n",
    "    artist_df = lyrics_df.loc[(lyrics_df.artist == artist), :]\n",
    "    artist_df_length = artist_df.loc[:, \"year\"].shape[0]\n",
    "    count_year_nans = artist_df.loc[:, \"year\"].isnull().sum()\n",
    "    # if n° NaNs equals n° of rows\n",
    "    if count_year_nans == artist_df_length:\n",
    "        all_year_nan_artists.append((artist, artist_df_length))\n",
    "len(all_year_nan_artists)"
   ]
  },
  {
   "cell_type": "code",
   "execution_count": 33,
   "metadata": {
    "scrolled": true
   },
   "outputs": [
    {
     "data": {
      "text/plain": [
       "[('7horse', 1),\n",
       " ('A. R. Rahman', 1),\n",
       " ('Andrew E', 2),\n",
       " ('Ariel Rivera', 5),\n",
       " ('Original Cast of \"Cats\"', 20),\n",
       " ('Cedarmont Kids', 8),\n",
       " ('Dr. Tumi', 2),\n",
       " ('December Avenue', 1),\n",
       " ('Edith Piaf', 3),\n",
       " ('Fairport Convention', 46),\n",
       " ('Frankie Laine', 35),\n",
       " ('Frazey Ford', 17),\n",
       " ('Gary Valenciano', 16),\n",
       " ('Soweto Gospel Choir', 1),\n",
       " ('Gipsy Kings', 1),\n",
       " ('Glenn Fredly', 1),\n",
       " ('Gerry And The Pacemakers', 35),\n",
       " ('Gyroscope', 32),\n",
       " ('Irish Rovers', 25),\n",
       " ('The Irish Descendants', 3),\n",
       " ('Imago', 1),\n",
       " ('iLe', 1),\n",
       " ('Iyeoka', 10),\n",
       " ('Johnny Rebel', 2),\n",
       " ('JAY-R', 2),\n",
       " ('James Weldon Johnson', 2),\n",
       " ('Kamikazee', 1),\n",
       " ('Luciano Pavarotti', 9),\n",
       " ('Lynda Randle', 4),\n",
       " ('Martin Nievera', 21),\n",
       " ('Mocca', 26),\n",
       " ('Nawab', 1),\n",
       " ('Neha Kakkar', 1),\n",
       " ('Nana Mouskouri', 32),\n",
       " ('Opus', 3),\n",
       " ('The Phantom of the Opera (Original London Cast)', 1),\n",
       " ('Petra', 70),\n",
       " ('Quindon Tarver', 2),\n",
       " ('Queen Ifrica', 2),\n",
       " ('Question Mark & The Mysterians', 2),\n",
       " ('Qntal', 3),\n",
       " ('Quorthon', 22),\n",
       " ('Quincy Punx', 39),\n",
       " ('The Quakes', 1),\n",
       " ('Reed Foehl', 1),\n",
       " ('Sugar free', 1),\n",
       " ('Silent Sanctuary', 1),\n",
       " ('Songs For Children', 2),\n",
       " ('Samsons', 21),\n",
       " ('Toni Gonzaga', 10),\n",
       " ('Ted Gärdestad', 6),\n",
       " ('Typecast', 32),\n",
       " ('Urban Dub', 22),\n",
       " ('US Marine Corps', 1),\n",
       " ('The Undertones', 26),\n",
       " ('Velasquez Regine', 33),\n",
       " ('Vaya Con Dios', 45),\n",
       " ('Valli Frankie', 2),\n",
       " ('Chorus of Winnie The Pooh', 1),\n",
       " ('Wolfgang', 10),\n",
       " ('The Wolfe Tones', 10),\n",
       " ('X Factor (UK)', 4),\n",
       " ('X-Perience', 20),\n",
       " ('Ximena Sarinana', 10),\n",
       " ('X-Pose', 1),\n",
       " ('xikidi', 1),\n",
       " ('Xiao Yu', 1),\n",
       " ('Xasthur', 14),\n",
       " ('Xmal Deutschland', 3),\n",
       " ('x factor finalists', 1),\n",
       " ('Yngwie Malmsteen', 67),\n",
       " ('Yusuf Islam', 20),\n",
       " ('Yiruma', 1),\n",
       " ('zain bhikha', 2)]"
      ]
     },
     "execution_count": 33,
     "metadata": {},
     "output_type": "execute_result"
    }
   ],
   "source": [
    "all_year_nan_artists"
   ]
  },
  {
   "cell_type": "markdown",
   "metadata": {},
   "source": [
    "##### Assign year to each song according to a uniform probability over years of activity of artist\n"
   ]
  },
  {
   "cell_type": "code",
   "execution_count": 34,
   "metadata": {
    "jupyter": {
     "source_hidden": true
    }
   },
   "outputs": [],
   "source": [
    "artist_years_mapping = {\n",
    "    '7horse': np.random.choice([year for year in range(2011, 2021)], size=1),\n",
    "    'A. R. Rahman': np.random.choice([year for year in range(1992, 2021)], size=1),\n",
    "    'Andrew E': np.random.choice([year for year in range(1985, 2021)], size=2),\n",
    "    'Ariel Rivera': np.random.choice([year for year in range(1989, 2021)], size=5),\n",
    "    'Original Cast of \"Cats\"': 2019*np.ones(shape=20),\n",
    "    'Cedarmont Kids': np.random.choice([year for year in range(1993, 2000)], size=8),\n",
    "    'Dr. Tumi': np.random.choice([year for year in range(2010, 2021)], size=2),\n",
    "    'December Avenue': np.random.choice([year for year in range(2007, 2021)], size=1),\n",
    "    'Edith Piaf': np.random.choice([year for year in range(1935, 1964)], size=3),\n",
    "    'Fairport Convention': np.random.choice([year for year in range(1967, 2000)], size=46),\n",
    "    'Frankie Laine': np.random.choice([year for year in range(1932, 1976)], size=35),\n",
    "    'Frazey Ford': np.random.choice([year for year in range(2001, 2021)], size=17),\n",
    "    'Gary Valenciano': np.random.choice([year for year in range(1982, 2021)], size=16),\n",
    "    'Soweto Gospel Choir': np.random.choice([year for year in range(2005, 2019)], size=1),\n",
    "    'Gipsy Kings': np.random.choice([year for year in range(1978, 2019)], size=1),\n",
    "    'Glenn Fredly': np.random.choice([year for year in range(1995, 2021)], size=1),\n",
    "    'Gerry And The Pacemakers': np.random.choice([year for year in range(1959, 1974)], size=35),\n",
    "    'Gyroscope': np.random.choice([year for year in range(1997, 2021)], size=32),\n",
    "    'Irish Rovers': np.random.choice([year for year in range(1967, 2012)], size=25),\n",
    "    'The Irish Descendants': np.random.choice([year for year in range(1991, 2007)], size=3),\n",
    "    'Imago': np.random.choice([year for year in range(1997, 2021)], size=1),\n",
    "    'iLe': np.random.choice([year for year in range(2004, 2021)], size=1),\n",
    "    'Iyeoka': np.random.choice([year for year in range(1996, 2021)], size=10),\n",
    "    'Johnny Rebel': np.random.choice([year for year in range(1966, 2003)], size=2),\n",
    "    'JAY-R': np.random.choice([year for year in range(1997, 2021)], size=2),\n",
    "    'James Weldon Johnson': np.random.choice([year for year in range(1940, 1960)], size=2),\n",
    "    'Kamikazee': np.random.choice([year for year in range(2000, 2015)], size=1),\n",
    "    'Luciano Pavarotti': np.random.choice([year for year in range(1980, 2000)], size=9),\n",
    "    'Lynda Randle': np.random.choice([year for year in range(2003, 2016)], size=4),\n",
    "    'Martin Nievera': np.random.choice([year for year in range(1982, 2021)], size=21),\n",
    "    'Mocca': np.random.choice([year for year in range(1997, 2021)], size=26),\n",
    "    'Nawab': np.array([2019]),\n",
    "    'Neha Kakkar': np.random.choice([year for year in range(2006, 2021)], size=1),\n",
    "    'Nana Mouskouri': np.random.choice([year for year in range(1958, 2008)], size=32),\n",
    "    'Opus': np.random.choice([year for year in range(1973, 2004)], size=3),\n",
    "    'The Phantom of the Opera (Original London Cast)': np.array([1988]),\n",
    "    'Petra': np.random.choice([year for year in range(1973, 2006)], size=70),\n",
    "    'Quindon Tarver': np.random.choice([year for year in range(1996, 2021)], size=2),\n",
    "    'Queen Ifrica': np.random.choice([year for year in range(1995, 2021)], size=2),\n",
    "    'Question Mark & The Mysterians': np.random.choice([year for year in range(1966, 2000)], size=2),\n",
    "    'Qntal': np.random.choice([year for year in range(1991, 2021)], size=3),\n",
    "    'Quorthon': np.random.choice([year for year in range(1984, 2004)], size=22),\n",
    "    'Quincy Punx': np.random.choice([year for year in range(1990, 2021)], size=39),\n",
    "    'The Quakes': np.random.choice([year for year in range(1986, 2021)], size=1),\n",
    "    'Reed Foehl': np.random.choice([year for year in range(2004, 2021)], size=1),\n",
    "    'Sugar free': np.random.choice([year for year in range(2000, 2021)], size=1),\n",
    "    'Silent Sanctuary': np.random.choice([year for year in range(2001, 2021)], size=1),\n",
    "    'Songs For Children': np.random.choice([year for year in range(1980, 2021)], size=2),\n",
    "    'Samsons': np.random.choice([year for year in range(1977, 2002)], size=21),\n",
    "    'Toni Gonzaga': np.random.choice([year for year in range(2001, 2021)], size=10),\n",
    "    'Ted Gärdestad': np.random.choice([year for year in range(1972, 1994)], size=6),\n",
    "    'Typecast': np.random.choice([year for year in range(1999, 2021)], size=32),\n",
    "    'Urban Dub': np.random.choice([year for year in range(2000, 2021)], size=22),\n",
    "    'US Marine Corps': np.random.choice([year for year in range(1940, 2021)], size=1),\n",
    "    'The Undertones': np.random.choice([year for year in range(1974, 2013)], size=26),\n",
    "    'Velasquez Regine': np.random.choice([year for year in range(1986, 2021)], size=33),\n",
    "    'Vaya Con Dios': np.random.choice([year for year in range(1986, 2009)], size=45),\n",
    "    'Valli Frankie': np.random.choice([year for year in range(1953, 2021)], size=2),\n",
    "    'Chorus of Winnie The Pooh': np.random.choice([year for year in range(2000, 2021)], size=1),\n",
    "    'Wolfgang': np.random.choice([year for year in range(1992, 2021)], size=10),\n",
    "    'The Wolfe Tones': np.random.choice([year for year in range(1963, 2021)], size=10),\n",
    "    'X Factor (UK)': np.random.choice([year for year in range(2010, 2021)], size=4),\n",
    "    'X-Perience': np.random.choice([year for year in range(1995, 2007)], size=20),\n",
    "    'Ximena Sarinana': np.random.choice([year for year in range(1994, 2021)], size=10),\n",
    "    'X-Pose': np.array([2019]),\n",
    "    'xikidi': np.array([2015]),\n",
    "    'Xiao Yu': np.random.choice([year for year in range(2003, 2021)], size=1),\n",
    "    'Xasthur': np.random.choice([year for year in range(1995, 2021)], size=14),\n",
    "    'Xmal Deutschland': np.random.choice([year for year in range(1980, 1990)], size=3),\n",
    "    'x factor finalists': np.random.choice([year for year in range(2010, 2021)], size=1),\n",
    "    'Yngwie Malmsteen': np.random.choice([year for year in range(1978, 2021)], size=67),\n",
    "    'Yusuf Islam': np.random.choice([year for year in range(1995, 2017)], size=20),\n",
    "    'Yiruma': np.random.choice([year for year in range(2001, 2021)], size=1),\n",
    "    'zain bhikha': np.random.choice([year for year in range(1990, 2021)], size=2),\n",
    "}"
   ]
  },
  {
   "cell_type": "markdown",
   "metadata": {},
   "source": [
    "As an example of the result, Yusuf Islam (previously known as Cat Stevens) has been musically active (publising albums) under this name from 1995 to 2017. Indeed, after he became muslim in 1977 he changed his name and stopped performing from 1980 to 1995. The labels obtained with the method described above are perfectly coherent with the musical activity of this artist."
   ]
  },
  {
   "cell_type": "code",
   "execution_count": 35,
   "metadata": {
    "scrolled": true
   },
   "outputs": [
    {
     "data": {
      "text/html": [
       "<div>\n",
       "<style scoped>\n",
       "    .dataframe tbody tr th:only-of-type {\n",
       "        vertical-align: middle;\n",
       "    }\n",
       "\n",
       "    .dataframe tbody tr th {\n",
       "        vertical-align: top;\n",
       "    }\n",
       "\n",
       "    .dataframe thead th {\n",
       "        text-align: right;\n",
       "    }\n",
       "</style>\n",
       "<table border=\"1\" class=\"dataframe\">\n",
       "  <thead>\n",
       "    <tr style=\"text-align: right;\">\n",
       "      <th></th>\n",
       "      <th>artist</th>\n",
       "      <th>song</th>\n",
       "      <th>album</th>\n",
       "      <th>release_date</th>\n",
       "      <th>genre</th>\n",
       "      <th>lyrics</th>\n",
       "      <th>year</th>\n",
       "    </tr>\n",
       "  </thead>\n",
       "  <tbody>\n",
       "    <tr>\n",
       "      <th>48494</th>\n",
       "      <td>Yusuf Islam</td>\n",
       "      <td>A' Is For Allah</td>\n",
       "      <td>Footsteps in the Light</td>\n",
       "      <td>NaN</td>\n",
       "      <td>Folk</td>\n",
       "      <td>A' is for Allah, nothing but Allah Ba is the b...</td>\n",
       "      <td>NaN</td>\n",
       "    </tr>\n",
       "    <tr>\n",
       "      <th>48495</th>\n",
       "      <td>Yusuf Islam</td>\n",
       "      <td>Thinking 'Bout You</td>\n",
       "      <td>Roadsinger</td>\n",
       "      <td>NaN</td>\n",
       "      <td>Folk</td>\n",
       "      <td>Islam  When I hold her hand, I could fly zilli...</td>\n",
       "      <td>NaN</td>\n",
       "    </tr>\n",
       "    <tr>\n",
       "      <th>48496</th>\n",
       "      <td>Yusuf Islam</td>\n",
       "      <td>Heaven/Where True Love Goes</td>\n",
       "      <td>An Other Cup</td>\n",
       "      <td>NaN</td>\n",
       "      <td>Folk</td>\n",
       "      <td>The moment you walked inside my door I knew th...</td>\n",
       "      <td>NaN</td>\n",
       "    </tr>\n",
       "    <tr>\n",
       "      <th>48497</th>\n",
       "      <td>Yusuf Islam</td>\n",
       "      <td>Don't Let Me Be Misunderstood</td>\n",
       "      <td>An Other Cup</td>\n",
       "      <td>NaN</td>\n",
       "      <td>Folk</td>\n",
       "      <td>Baby, do you understand me now Sometimes I fee...</td>\n",
       "      <td>NaN</td>\n",
       "    </tr>\n",
       "    <tr>\n",
       "      <th>48498</th>\n",
       "      <td>Yusuf Islam</td>\n",
       "      <td>Roadsinger</td>\n",
       "      <td>Roadsinger</td>\n",
       "      <td>NaN</td>\n",
       "      <td>Folk</td>\n",
       "      <td>Islam  Roadsinger came to town, long cape and ...</td>\n",
       "      <td>NaN</td>\n",
       "    </tr>\n",
       "    <tr>\n",
       "      <th>48499</th>\n",
       "      <td>Yusuf Islam</td>\n",
       "      <td>Welcome Home</td>\n",
       "      <td>Roadsinger</td>\n",
       "      <td>NaN</td>\n",
       "      <td>Folk</td>\n",
       "      <td>Saw a sign on the path \"All seekers this way\" ...</td>\n",
       "      <td>NaN</td>\n",
       "    </tr>\n",
       "    <tr>\n",
       "      <th>48500</th>\n",
       "      <td>Yusuf Islam</td>\n",
       "      <td>Maybe There's A World</td>\n",
       "      <td>An Other Cup</td>\n",
       "      <td>NaN</td>\n",
       "      <td>Folk</td>\n",
       "      <td>I have dreamt of a place and time,where nobody...</td>\n",
       "      <td>NaN</td>\n",
       "    </tr>\n",
       "    <tr>\n",
       "      <th>48501</th>\n",
       "      <td>Yusuf Islam</td>\n",
       "      <td>I Think I See The Light</td>\n",
       "      <td>An Other Cup</td>\n",
       "      <td>NaN</td>\n",
       "      <td>Folk</td>\n",
       "      <td>I used to trust nobody, trusting even less the...</td>\n",
       "      <td>NaN</td>\n",
       "    </tr>\n",
       "    <tr>\n",
       "      <th>48502</th>\n",
       "      <td>Yusuf Islam</td>\n",
       "      <td>Everytime I Dream</td>\n",
       "      <td>Roadsinger</td>\n",
       "      <td>NaN</td>\n",
       "      <td>Folk</td>\n",
       "      <td>Islam  Every time I dream I keep seeing street...</td>\n",
       "      <td>NaN</td>\n",
       "    </tr>\n",
       "    <tr>\n",
       "      <th>48503</th>\n",
       "      <td>Yusuf Islam</td>\n",
       "      <td>Midday</td>\n",
       "      <td>NaN</td>\n",
       "      <td>NaN</td>\n",
       "      <td>Folk</td>\n",
       "      <td>I like to take a walk out in the midday Checki...</td>\n",
       "      <td>NaN</td>\n",
       "    </tr>\n",
       "    <tr>\n",
       "      <th>48504</th>\n",
       "      <td>Yusuf Islam</td>\n",
       "      <td>One Day At A Time</td>\n",
       "      <td>An Other Cup</td>\n",
       "      <td>NaN</td>\n",
       "      <td>Folk</td>\n",
       "      <td>One day at a time We can learn to leave the pa...</td>\n",
       "      <td>NaN</td>\n",
       "    </tr>\n",
       "    <tr>\n",
       "      <th>48505</th>\n",
       "      <td>Yusuf Islam</td>\n",
       "      <td>To Be What You Must</td>\n",
       "      <td>Roadsinger</td>\n",
       "      <td>NaN</td>\n",
       "      <td>Folk</td>\n",
       "      <td>I have journeyed, endless miles Seen many othe...</td>\n",
       "      <td>NaN</td>\n",
       "    </tr>\n",
       "    <tr>\n",
       "      <th>48506</th>\n",
       "      <td>Yusuf Islam</td>\n",
       "      <td>All Kinds Of Roses</td>\n",
       "      <td>Roadsinger</td>\n",
       "      <td>NaN</td>\n",
       "      <td>Folk</td>\n",
       "      <td>Islam  All kinds of roses, all kinds of roses ...</td>\n",
       "      <td>NaN</td>\n",
       "    </tr>\n",
       "    <tr>\n",
       "      <th>48507</th>\n",
       "      <td>Yusuf Islam</td>\n",
       "      <td>Dream On (Until...)</td>\n",
       "      <td>Roadsinger</td>\n",
       "      <td>NaN</td>\n",
       "      <td>Folk</td>\n",
       "      <td>Dream on Dream on Dream on, through the darkne...</td>\n",
       "      <td>NaN</td>\n",
       "    </tr>\n",
       "    <tr>\n",
       "      <th>48508</th>\n",
       "      <td>Yusuf Islam</td>\n",
       "      <td>World O' Darkness</td>\n",
       "      <td>Roadsinger</td>\n",
       "      <td>NaN</td>\n",
       "      <td>Folk</td>\n",
       "      <td>In this world o' darkness Evil rules by night ...</td>\n",
       "      <td>NaN</td>\n",
       "    </tr>\n",
       "    <tr>\n",
       "      <th>48509</th>\n",
       "      <td>Yusuf Islam</td>\n",
       "      <td>In The End</td>\n",
       "      <td>An Other Cup</td>\n",
       "      <td>NaN</td>\n",
       "      <td>Folk</td>\n",
       "      <td>You can't bargain with the truth 'Cause whethe...</td>\n",
       "      <td>NaN</td>\n",
       "    </tr>\n",
       "    <tr>\n",
       "      <th>48511</th>\n",
       "      <td>Yusuf Islam</td>\n",
       "      <td>The Rain</td>\n",
       "      <td>Roadsinger</td>\n",
       "      <td>NaN</td>\n",
       "      <td>Folk</td>\n",
       "      <td>Everybody's thinking about the rain Everybody'...</td>\n",
       "      <td>NaN</td>\n",
       "    </tr>\n",
       "    <tr>\n",
       "      <th>48512</th>\n",
       "      <td>Yusuf Islam</td>\n",
       "      <td>This Glass World</td>\n",
       "      <td>Roadsinger</td>\n",
       "      <td>NaN</td>\n",
       "      <td>Folk</td>\n",
       "      <td>In this glass world, we stop feeling pain Goin...</td>\n",
       "      <td>NaN</td>\n",
       "    </tr>\n",
       "    <tr>\n",
       "      <th>48513</th>\n",
       "      <td>Yusuf Islam</td>\n",
       "      <td>The Beloved</td>\n",
       "      <td>An Other Cup</td>\n",
       "      <td>NaN</td>\n",
       "      <td>Folk</td>\n",
       "      <td>His wisdom flowed from heaven's book Just like...</td>\n",
       "      <td>NaN</td>\n",
       "    </tr>\n",
       "    <tr>\n",
       "      <th>48514</th>\n",
       "      <td>Yusuf Islam</td>\n",
       "      <td>Green Fields, Golden Sands</td>\n",
       "      <td>An Other Cup</td>\n",
       "      <td>NaN</td>\n",
       "      <td>Folk</td>\n",
       "      <td>Green Fields and Golden Sands Are all I need; ...</td>\n",
       "      <td>NaN</td>\n",
       "    </tr>\n",
       "  </tbody>\n",
       "</table>\n",
       "</div>"
      ],
      "text/plain": [
       "            artist                           song                   album  \\\n",
       "48494  Yusuf Islam                A' Is For Allah  Footsteps in the Light   \n",
       "48495  Yusuf Islam             Thinking 'Bout You              Roadsinger   \n",
       "48496  Yusuf Islam    Heaven/Where True Love Goes            An Other Cup   \n",
       "48497  Yusuf Islam  Don't Let Me Be Misunderstood            An Other Cup   \n",
       "48498  Yusuf Islam                     Roadsinger              Roadsinger   \n",
       "48499  Yusuf Islam                   Welcome Home              Roadsinger   \n",
       "48500  Yusuf Islam          Maybe There's A World            An Other Cup   \n",
       "48501  Yusuf Islam        I Think I See The Light            An Other Cup   \n",
       "48502  Yusuf Islam              Everytime I Dream              Roadsinger   \n",
       "48503  Yusuf Islam                         Midday                     NaN   \n",
       "48504  Yusuf Islam              One Day At A Time            An Other Cup   \n",
       "48505  Yusuf Islam            To Be What You Must              Roadsinger   \n",
       "48506  Yusuf Islam             All Kinds Of Roses              Roadsinger   \n",
       "48507  Yusuf Islam            Dream On (Until...)              Roadsinger   \n",
       "48508  Yusuf Islam              World O' Darkness              Roadsinger   \n",
       "48509  Yusuf Islam                     In The End            An Other Cup   \n",
       "48511  Yusuf Islam                       The Rain              Roadsinger   \n",
       "48512  Yusuf Islam               This Glass World              Roadsinger   \n",
       "48513  Yusuf Islam                    The Beloved            An Other Cup   \n",
       "48514  Yusuf Islam     Green Fields, Golden Sands            An Other Cup   \n",
       "\n",
       "      release_date genre                                             lyrics  \\\n",
       "48494          NaN  Folk  A' is for Allah, nothing but Allah Ba is the b...   \n",
       "48495          NaN  Folk  Islam  When I hold her hand, I could fly zilli...   \n",
       "48496          NaN  Folk  The moment you walked inside my door I knew th...   \n",
       "48497          NaN  Folk  Baby, do you understand me now Sometimes I fee...   \n",
       "48498          NaN  Folk  Islam  Roadsinger came to town, long cape and ...   \n",
       "48499          NaN  Folk  Saw a sign on the path \"All seekers this way\" ...   \n",
       "48500          NaN  Folk  I have dreamt of a place and time,where nobody...   \n",
       "48501          NaN  Folk  I used to trust nobody, trusting even less the...   \n",
       "48502          NaN  Folk  Islam  Every time I dream I keep seeing street...   \n",
       "48503          NaN  Folk  I like to take a walk out in the midday Checki...   \n",
       "48504          NaN  Folk  One day at a time We can learn to leave the pa...   \n",
       "48505          NaN  Folk  I have journeyed, endless miles Seen many othe...   \n",
       "48506          NaN  Folk  Islam  All kinds of roses, all kinds of roses ...   \n",
       "48507          NaN  Folk  Dream on Dream on Dream on, through the darkne...   \n",
       "48508          NaN  Folk  In this world o' darkness Evil rules by night ...   \n",
       "48509          NaN  Folk  You can't bargain with the truth 'Cause whethe...   \n",
       "48511          NaN  Folk  Everybody's thinking about the rain Everybody'...   \n",
       "48512          NaN  Folk  In this glass world, we stop feeling pain Goin...   \n",
       "48513          NaN  Folk  His wisdom flowed from heaven's book Just like...   \n",
       "48514          NaN  Folk  Green Fields and Golden Sands Are all I need; ...   \n",
       "\n",
       "       year  \n",
       "48494   NaN  \n",
       "48495   NaN  \n",
       "48496   NaN  \n",
       "48497   NaN  \n",
       "48498   NaN  \n",
       "48499   NaN  \n",
       "48500   NaN  \n",
       "48501   NaN  \n",
       "48502   NaN  \n",
       "48503   NaN  \n",
       "48504   NaN  \n",
       "48505   NaN  \n",
       "48506   NaN  \n",
       "48507   NaN  \n",
       "48508   NaN  \n",
       "48509   NaN  \n",
       "48511   NaN  \n",
       "48512   NaN  \n",
       "48513   NaN  \n",
       "48514   NaN  "
      ]
     },
     "execution_count": 35,
     "metadata": {},
     "output_type": "execute_result"
    }
   ],
   "source": [
    "lyrics_df.loc[lyrics_df.artist == \"Yusuf Islam\", :]"
   ]
  },
  {
   "cell_type": "code",
   "execution_count": 36,
   "metadata": {},
   "outputs": [
    {
     "name": "stderr",
     "output_type": "stream",
     "text": [
      "100%|██████████| 74/74 [00:00<00:00, 153.67it/s]\n"
     ]
    }
   ],
   "source": [
    "for artist, years in tqdm(artist_years_mapping.items()): \n",
    "    lyrics_df.loc[lyrics_df.artist == artist, \"year\"] = years"
   ]
  },
  {
   "cell_type": "code",
   "execution_count": 37,
   "metadata": {
    "scrolled": true
   },
   "outputs": [
    {
     "data": {
      "text/html": [
       "<div>\n",
       "<style scoped>\n",
       "    .dataframe tbody tr th:only-of-type {\n",
       "        vertical-align: middle;\n",
       "    }\n",
       "\n",
       "    .dataframe tbody tr th {\n",
       "        vertical-align: top;\n",
       "    }\n",
       "\n",
       "    .dataframe thead th {\n",
       "        text-align: right;\n",
       "    }\n",
       "</style>\n",
       "<table border=\"1\" class=\"dataframe\">\n",
       "  <thead>\n",
       "    <tr style=\"text-align: right;\">\n",
       "      <th></th>\n",
       "      <th>artist</th>\n",
       "      <th>song</th>\n",
       "      <th>album</th>\n",
       "      <th>release_date</th>\n",
       "      <th>genre</th>\n",
       "      <th>lyrics</th>\n",
       "      <th>year</th>\n",
       "    </tr>\n",
       "  </thead>\n",
       "  <tbody>\n",
       "    <tr>\n",
       "      <th>48494</th>\n",
       "      <td>Yusuf Islam</td>\n",
       "      <td>A' Is For Allah</td>\n",
       "      <td>Footsteps in the Light</td>\n",
       "      <td>NaN</td>\n",
       "      <td>Folk</td>\n",
       "      <td>A' is for Allah, nothing but Allah Ba is the b...</td>\n",
       "      <td>2001.0</td>\n",
       "    </tr>\n",
       "    <tr>\n",
       "      <th>48495</th>\n",
       "      <td>Yusuf Islam</td>\n",
       "      <td>Thinking 'Bout You</td>\n",
       "      <td>Roadsinger</td>\n",
       "      <td>NaN</td>\n",
       "      <td>Folk</td>\n",
       "      <td>Islam  When I hold her hand, I could fly zilli...</td>\n",
       "      <td>2013.0</td>\n",
       "    </tr>\n",
       "    <tr>\n",
       "      <th>48496</th>\n",
       "      <td>Yusuf Islam</td>\n",
       "      <td>Heaven/Where True Love Goes</td>\n",
       "      <td>An Other Cup</td>\n",
       "      <td>NaN</td>\n",
       "      <td>Folk</td>\n",
       "      <td>The moment you walked inside my door I knew th...</td>\n",
       "      <td>1995.0</td>\n",
       "    </tr>\n",
       "    <tr>\n",
       "      <th>48497</th>\n",
       "      <td>Yusuf Islam</td>\n",
       "      <td>Don't Let Me Be Misunderstood</td>\n",
       "      <td>An Other Cup</td>\n",
       "      <td>NaN</td>\n",
       "      <td>Folk</td>\n",
       "      <td>Baby, do you understand me now Sometimes I fee...</td>\n",
       "      <td>2001.0</td>\n",
       "    </tr>\n",
       "    <tr>\n",
       "      <th>48498</th>\n",
       "      <td>Yusuf Islam</td>\n",
       "      <td>Roadsinger</td>\n",
       "      <td>Roadsinger</td>\n",
       "      <td>NaN</td>\n",
       "      <td>Folk</td>\n",
       "      <td>Islam  Roadsinger came to town, long cape and ...</td>\n",
       "      <td>2005.0</td>\n",
       "    </tr>\n",
       "    <tr>\n",
       "      <th>48499</th>\n",
       "      <td>Yusuf Islam</td>\n",
       "      <td>Welcome Home</td>\n",
       "      <td>Roadsinger</td>\n",
       "      <td>NaN</td>\n",
       "      <td>Folk</td>\n",
       "      <td>Saw a sign on the path \"All seekers this way\" ...</td>\n",
       "      <td>1999.0</td>\n",
       "    </tr>\n",
       "    <tr>\n",
       "      <th>48500</th>\n",
       "      <td>Yusuf Islam</td>\n",
       "      <td>Maybe There's A World</td>\n",
       "      <td>An Other Cup</td>\n",
       "      <td>NaN</td>\n",
       "      <td>Folk</td>\n",
       "      <td>I have dreamt of a place and time,where nobody...</td>\n",
       "      <td>2006.0</td>\n",
       "    </tr>\n",
       "    <tr>\n",
       "      <th>48501</th>\n",
       "      <td>Yusuf Islam</td>\n",
       "      <td>I Think I See The Light</td>\n",
       "      <td>An Other Cup</td>\n",
       "      <td>NaN</td>\n",
       "      <td>Folk</td>\n",
       "      <td>I used to trust nobody, trusting even less the...</td>\n",
       "      <td>2016.0</td>\n",
       "    </tr>\n",
       "    <tr>\n",
       "      <th>48502</th>\n",
       "      <td>Yusuf Islam</td>\n",
       "      <td>Everytime I Dream</td>\n",
       "      <td>Roadsinger</td>\n",
       "      <td>NaN</td>\n",
       "      <td>Folk</td>\n",
       "      <td>Islam  Every time I dream I keep seeing street...</td>\n",
       "      <td>2003.0</td>\n",
       "    </tr>\n",
       "    <tr>\n",
       "      <th>48503</th>\n",
       "      <td>Yusuf Islam</td>\n",
       "      <td>Midday</td>\n",
       "      <td>NaN</td>\n",
       "      <td>NaN</td>\n",
       "      <td>Folk</td>\n",
       "      <td>I like to take a walk out in the midday Checki...</td>\n",
       "      <td>1998.0</td>\n",
       "    </tr>\n",
       "    <tr>\n",
       "      <th>48504</th>\n",
       "      <td>Yusuf Islam</td>\n",
       "      <td>One Day At A Time</td>\n",
       "      <td>An Other Cup</td>\n",
       "      <td>NaN</td>\n",
       "      <td>Folk</td>\n",
       "      <td>One day at a time We can learn to leave the pa...</td>\n",
       "      <td>2010.0</td>\n",
       "    </tr>\n",
       "    <tr>\n",
       "      <th>48505</th>\n",
       "      <td>Yusuf Islam</td>\n",
       "      <td>To Be What You Must</td>\n",
       "      <td>Roadsinger</td>\n",
       "      <td>NaN</td>\n",
       "      <td>Folk</td>\n",
       "      <td>I have journeyed, endless miles Seen many othe...</td>\n",
       "      <td>2014.0</td>\n",
       "    </tr>\n",
       "    <tr>\n",
       "      <th>48506</th>\n",
       "      <td>Yusuf Islam</td>\n",
       "      <td>All Kinds Of Roses</td>\n",
       "      <td>Roadsinger</td>\n",
       "      <td>NaN</td>\n",
       "      <td>Folk</td>\n",
       "      <td>Islam  All kinds of roses, all kinds of roses ...</td>\n",
       "      <td>2002.0</td>\n",
       "    </tr>\n",
       "    <tr>\n",
       "      <th>48507</th>\n",
       "      <td>Yusuf Islam</td>\n",
       "      <td>Dream On (Until...)</td>\n",
       "      <td>Roadsinger</td>\n",
       "      <td>NaN</td>\n",
       "      <td>Folk</td>\n",
       "      <td>Dream on Dream on Dream on, through the darkne...</td>\n",
       "      <td>2001.0</td>\n",
       "    </tr>\n",
       "    <tr>\n",
       "      <th>48508</th>\n",
       "      <td>Yusuf Islam</td>\n",
       "      <td>World O' Darkness</td>\n",
       "      <td>Roadsinger</td>\n",
       "      <td>NaN</td>\n",
       "      <td>Folk</td>\n",
       "      <td>In this world o' darkness Evil rules by night ...</td>\n",
       "      <td>2013.0</td>\n",
       "    </tr>\n",
       "    <tr>\n",
       "      <th>48509</th>\n",
       "      <td>Yusuf Islam</td>\n",
       "      <td>In The End</td>\n",
       "      <td>An Other Cup</td>\n",
       "      <td>NaN</td>\n",
       "      <td>Folk</td>\n",
       "      <td>You can't bargain with the truth 'Cause whethe...</td>\n",
       "      <td>1999.0</td>\n",
       "    </tr>\n",
       "    <tr>\n",
       "      <th>48511</th>\n",
       "      <td>Yusuf Islam</td>\n",
       "      <td>The Rain</td>\n",
       "      <td>Roadsinger</td>\n",
       "      <td>NaN</td>\n",
       "      <td>Folk</td>\n",
       "      <td>Everybody's thinking about the rain Everybody'...</td>\n",
       "      <td>2009.0</td>\n",
       "    </tr>\n",
       "    <tr>\n",
       "      <th>48512</th>\n",
       "      <td>Yusuf Islam</td>\n",
       "      <td>This Glass World</td>\n",
       "      <td>Roadsinger</td>\n",
       "      <td>NaN</td>\n",
       "      <td>Folk</td>\n",
       "      <td>In this glass world, we stop feeling pain Goin...</td>\n",
       "      <td>2009.0</td>\n",
       "    </tr>\n",
       "    <tr>\n",
       "      <th>48513</th>\n",
       "      <td>Yusuf Islam</td>\n",
       "      <td>The Beloved</td>\n",
       "      <td>An Other Cup</td>\n",
       "      <td>NaN</td>\n",
       "      <td>Folk</td>\n",
       "      <td>His wisdom flowed from heaven's book Just like...</td>\n",
       "      <td>2008.0</td>\n",
       "    </tr>\n",
       "    <tr>\n",
       "      <th>48514</th>\n",
       "      <td>Yusuf Islam</td>\n",
       "      <td>Green Fields, Golden Sands</td>\n",
       "      <td>An Other Cup</td>\n",
       "      <td>NaN</td>\n",
       "      <td>Folk</td>\n",
       "      <td>Green Fields and Golden Sands Are all I need; ...</td>\n",
       "      <td>2004.0</td>\n",
       "    </tr>\n",
       "  </tbody>\n",
       "</table>\n",
       "</div>"
      ],
      "text/plain": [
       "            artist                           song                   album  \\\n",
       "48494  Yusuf Islam                A' Is For Allah  Footsteps in the Light   \n",
       "48495  Yusuf Islam             Thinking 'Bout You              Roadsinger   \n",
       "48496  Yusuf Islam    Heaven/Where True Love Goes            An Other Cup   \n",
       "48497  Yusuf Islam  Don't Let Me Be Misunderstood            An Other Cup   \n",
       "48498  Yusuf Islam                     Roadsinger              Roadsinger   \n",
       "48499  Yusuf Islam                   Welcome Home              Roadsinger   \n",
       "48500  Yusuf Islam          Maybe There's A World            An Other Cup   \n",
       "48501  Yusuf Islam        I Think I See The Light            An Other Cup   \n",
       "48502  Yusuf Islam              Everytime I Dream              Roadsinger   \n",
       "48503  Yusuf Islam                         Midday                     NaN   \n",
       "48504  Yusuf Islam              One Day At A Time            An Other Cup   \n",
       "48505  Yusuf Islam            To Be What You Must              Roadsinger   \n",
       "48506  Yusuf Islam             All Kinds Of Roses              Roadsinger   \n",
       "48507  Yusuf Islam            Dream On (Until...)              Roadsinger   \n",
       "48508  Yusuf Islam              World O' Darkness              Roadsinger   \n",
       "48509  Yusuf Islam                     In The End            An Other Cup   \n",
       "48511  Yusuf Islam                       The Rain              Roadsinger   \n",
       "48512  Yusuf Islam               This Glass World              Roadsinger   \n",
       "48513  Yusuf Islam                    The Beloved            An Other Cup   \n",
       "48514  Yusuf Islam     Green Fields, Golden Sands            An Other Cup   \n",
       "\n",
       "      release_date genre                                             lyrics  \\\n",
       "48494          NaN  Folk  A' is for Allah, nothing but Allah Ba is the b...   \n",
       "48495          NaN  Folk  Islam  When I hold her hand, I could fly zilli...   \n",
       "48496          NaN  Folk  The moment you walked inside my door I knew th...   \n",
       "48497          NaN  Folk  Baby, do you understand me now Sometimes I fee...   \n",
       "48498          NaN  Folk  Islam  Roadsinger came to town, long cape and ...   \n",
       "48499          NaN  Folk  Saw a sign on the path \"All seekers this way\" ...   \n",
       "48500          NaN  Folk  I have dreamt of a place and time,where nobody...   \n",
       "48501          NaN  Folk  I used to trust nobody, trusting even less the...   \n",
       "48502          NaN  Folk  Islam  Every time I dream I keep seeing street...   \n",
       "48503          NaN  Folk  I like to take a walk out in the midday Checki...   \n",
       "48504          NaN  Folk  One day at a time We can learn to leave the pa...   \n",
       "48505          NaN  Folk  I have journeyed, endless miles Seen many othe...   \n",
       "48506          NaN  Folk  Islam  All kinds of roses, all kinds of roses ...   \n",
       "48507          NaN  Folk  Dream on Dream on Dream on, through the darkne...   \n",
       "48508          NaN  Folk  In this world o' darkness Evil rules by night ...   \n",
       "48509          NaN  Folk  You can't bargain with the truth 'Cause whethe...   \n",
       "48511          NaN  Folk  Everybody's thinking about the rain Everybody'...   \n",
       "48512          NaN  Folk  In this glass world, we stop feeling pain Goin...   \n",
       "48513          NaN  Folk  His wisdom flowed from heaven's book Just like...   \n",
       "48514          NaN  Folk  Green Fields and Golden Sands Are all I need; ...   \n",
       "\n",
       "         year  \n",
       "48494  2001.0  \n",
       "48495  2013.0  \n",
       "48496  1995.0  \n",
       "48497  2001.0  \n",
       "48498  2005.0  \n",
       "48499  1999.0  \n",
       "48500  2006.0  \n",
       "48501  2016.0  \n",
       "48502  2003.0  \n",
       "48503  1998.0  \n",
       "48504  2010.0  \n",
       "48505  2014.0  \n",
       "48506  2002.0  \n",
       "48507  2001.0  \n",
       "48508  2013.0  \n",
       "48509  1999.0  \n",
       "48511  2009.0  \n",
       "48512  2009.0  \n",
       "48513  2008.0  \n",
       "48514  2004.0  "
      ]
     },
     "execution_count": 37,
     "metadata": {},
     "output_type": "execute_result"
    }
   ],
   "source": [
    "lyrics_df.loc[lyrics_df.artist == \"Yusuf Islam\", :]"
   ]
  },
  {
   "cell_type": "markdown",
   "metadata": {},
   "source": [
    "#### Artists with some years missing"
   ]
  },
  {
   "cell_type": "markdown",
   "metadata": {},
   "source": [
    "As for artists with some years already annotated by *Genius*, I decided to follow a similar approach but with some modifications. Data from the *Genius* API is indeed highly reliable, therefore it makes sense to do a sort of \"informed\" labelling which exploits current annotation.\n",
    "\n",
    "In this sense, the procedure below takes all the songs for each artist and looks at the annotated years, computing the minimum, maximum and mean year to follow this logic: \n",
    "- if the mean year is also the median year, we label the songs according to a uniform probability distribution over the years of activity;\n",
    "- if the number of annotated years preceding the mean year is larger, it is reasonable to assume that the artist was more active before the mean year (since we have more data), therefore we label the songs according to a probability distribution with more mass on the first half of the years of activity;\n",
    "- conversely, we label the songs according to a probability distribution with more mass on the second half of the years of activity."
   ]
  },
  {
   "cell_type": "code",
   "execution_count": 38,
   "metadata": {},
   "outputs": [],
   "source": [
    "example = lyrics_df.loc[lyrics_df.artist == \"Elton John\", :]"
   ]
  },
  {
   "cell_type": "code",
   "execution_count": 39,
   "metadata": {},
   "outputs": [
    {
     "data": {
      "text/plain": [
       "Int64Index([10450, 10455, 10462, 10473, 10478, 10489, 10492, 10494, 10499,\n",
       "            10501, 10505, 10514, 10515, 10520, 10523],\n",
       "           dtype='int64')"
      ]
     },
     "execution_count": 39,
     "metadata": {},
     "output_type": "execute_result"
    }
   ],
   "source": [
    "example_index = example.loc[example.year.isnull(), :].index\n",
    "example_index"
   ]
  },
  {
   "cell_type": "code",
   "execution_count": 40,
   "metadata": {
    "scrolled": true
   },
   "outputs": [
    {
     "data": {
      "text/html": [
       "<div>\n",
       "<style scoped>\n",
       "    .dataframe tbody tr th:only-of-type {\n",
       "        vertical-align: middle;\n",
       "    }\n",
       "\n",
       "    .dataframe tbody tr th {\n",
       "        vertical-align: top;\n",
       "    }\n",
       "\n",
       "    .dataframe thead th {\n",
       "        text-align: right;\n",
       "    }\n",
       "</style>\n",
       "<table border=\"1\" class=\"dataframe\">\n",
       "  <thead>\n",
       "    <tr style=\"text-align: right;\">\n",
       "      <th></th>\n",
       "      <th>artist</th>\n",
       "      <th>song</th>\n",
       "      <th>album</th>\n",
       "      <th>release_date</th>\n",
       "      <th>genre</th>\n",
       "      <th>lyrics</th>\n",
       "      <th>year</th>\n",
       "    </tr>\n",
       "  </thead>\n",
       "  <tbody>\n",
       "    <tr>\n",
       "      <th>10450</th>\n",
       "      <td>Elton John</td>\n",
       "      <td>Rocket Man</td>\n",
       "      <td>NaN</td>\n",
       "      <td>NaN</td>\n",
       "      <td>Rock</td>\n",
       "      <td>She packed my bags last night pre-flight Zero ...</td>\n",
       "      <td>NaN</td>\n",
       "    </tr>\n",
       "    <tr>\n",
       "      <th>10455</th>\n",
       "      <td>Elton John</td>\n",
       "      <td>Can You Feel the Love Tonight</td>\n",
       "      <td>NaN</td>\n",
       "      <td>NaN</td>\n",
       "      <td>Rock</td>\n",
       "      <td>There's a calm surrender To the rush of day Wh...</td>\n",
       "      <td>NaN</td>\n",
       "    </tr>\n",
       "    <tr>\n",
       "      <th>10462</th>\n",
       "      <td>Elton John</td>\n",
       "      <td>I Guess That's Why They Call It The Blues</td>\n",
       "      <td>Too Low for Zero</td>\n",
       "      <td>NaN</td>\n",
       "      <td>Rock</td>\n",
       "      <td>Don't wish it away Don't look at it like it's...</td>\n",
       "      <td>NaN</td>\n",
       "    </tr>\n",
       "    <tr>\n",
       "      <th>10473</th>\n",
       "      <td>Elton John</td>\n",
       "      <td>Mona Lisas And Mad Hatters</td>\n",
       "      <td>NaN</td>\n",
       "      <td>NaN</td>\n",
       "      <td>Rock</td>\n",
       "      <td>We wanted to do a love song for New York City....</td>\n",
       "      <td>NaN</td>\n",
       "    </tr>\n",
       "    <tr>\n",
       "      <th>10478</th>\n",
       "      <td>Elton John</td>\n",
       "      <td>Your Song (Live)</td>\n",
       "      <td>NaN</td>\n",
       "      <td>NaN</td>\n",
       "      <td>Rock</td>\n",
       "      <td>It's a little bit funny this feeling inside I'...</td>\n",
       "      <td>NaN</td>\n",
       "    </tr>\n",
       "    <tr>\n",
       "      <th>10489</th>\n",
       "      <td>Elton John</td>\n",
       "      <td>Sad Songs (say So Much)</td>\n",
       "      <td>Breaking Hearts</td>\n",
       "      <td>NaN</td>\n",
       "      <td>Rock</td>\n",
       "      <td>Guess there are times when we all need to sha...</td>\n",
       "      <td>NaN</td>\n",
       "    </tr>\n",
       "    <tr>\n",
       "      <th>10492</th>\n",
       "      <td>Elton John</td>\n",
       "      <td>Blue Eyes</td>\n",
       "      <td>Jump Up!</td>\n",
       "      <td>NaN</td>\n",
       "      <td>Rock</td>\n",
       "      <td>Blue eyes Baby's got blue eyes Like a deep, b...</td>\n",
       "      <td>NaN</td>\n",
       "    </tr>\n",
       "    <tr>\n",
       "      <th>10494</th>\n",
       "      <td>Elton John</td>\n",
       "      <td>Candle In The Wind (Live)</td>\n",
       "      <td>NaN</td>\n",
       "      <td>NaN</td>\n",
       "      <td>Rock</td>\n",
       "      <td>Goodbye Norma Jean Though I never knew you at ...</td>\n",
       "      <td>NaN</td>\n",
       "    </tr>\n",
       "    <tr>\n",
       "      <th>10499</th>\n",
       "      <td>Elton John</td>\n",
       "      <td>Original Sin</td>\n",
       "      <td>Songs from the West Coast</td>\n",
       "      <td>NaN</td>\n",
       "      <td>Rock</td>\n",
       "      <td>Oh, it's carnival night And they're stringing...</td>\n",
       "      <td>NaN</td>\n",
       "    </tr>\n",
       "    <tr>\n",
       "      <th>10501</th>\n",
       "      <td>Elton John</td>\n",
       "      <td>Blessed</td>\n",
       "      <td>Made in England</td>\n",
       "      <td>NaN</td>\n",
       "      <td>Rock</td>\n",
       "      <td>Hey you, you're a child in my head You haven'...</td>\n",
       "      <td>NaN</td>\n",
       "    </tr>\n",
       "    <tr>\n",
       "      <th>10505</th>\n",
       "      <td>Elton John</td>\n",
       "      <td>Passengers</td>\n",
       "      <td>Breaking Hearts</td>\n",
       "      <td>NaN</td>\n",
       "      <td>Rock</td>\n",
       "      <td>Deny the passenger, who want to get on  Want ...</td>\n",
       "      <td>NaN</td>\n",
       "    </tr>\n",
       "    <tr>\n",
       "      <th>10514</th>\n",
       "      <td>Elton John</td>\n",
       "      <td>Mama Can't Buy You Love</td>\n",
       "      <td>Diamonds (Deluxe)</td>\n",
       "      <td>NaN</td>\n",
       "      <td>Rock</td>\n",
       "      <td>Baby, so they give you anythin' Darlin', all ...</td>\n",
       "      <td>NaN</td>\n",
       "    </tr>\n",
       "    <tr>\n",
       "      <th>10515</th>\n",
       "      <td>Elton John</td>\n",
       "      <td>Please</td>\n",
       "      <td>Made in England</td>\n",
       "      <td>NaN</td>\n",
       "      <td>Rock</td>\n",
       "      <td>We've been crippled in love, short changed, h...</td>\n",
       "      <td>NaN</td>\n",
       "    </tr>\n",
       "    <tr>\n",
       "      <th>10520</th>\n",
       "      <td>Elton John</td>\n",
       "      <td>I Don't Wanna Go On With You Like That</td>\n",
       "      <td>Reg Strikes Back</td>\n",
       "      <td>NaN</td>\n",
       "      <td>Rock</td>\n",
       "      <td>I've always said that one's enough to love No...</td>\n",
       "      <td>NaN</td>\n",
       "    </tr>\n",
       "    <tr>\n",
       "      <th>10523</th>\n",
       "      <td>Elton John</td>\n",
       "      <td>Wrap Her Up</td>\n",
       "      <td>Ice on Fire</td>\n",
       "      <td>NaN</td>\n",
       "      <td>Rock</td>\n",
       "      <td>There are ladies, illegal X's Mona Lisa's, we...</td>\n",
       "      <td>NaN</td>\n",
       "    </tr>\n",
       "  </tbody>\n",
       "</table>\n",
       "</div>"
      ],
      "text/plain": [
       "           artist                                       song  \\\n",
       "10450  Elton John                                 Rocket Man   \n",
       "10455  Elton John              Can You Feel the Love Tonight   \n",
       "10462  Elton John  I Guess That's Why They Call It The Blues   \n",
       "10473  Elton John                 Mona Lisas And Mad Hatters   \n",
       "10478  Elton John                           Your Song (Live)   \n",
       "10489  Elton John                    Sad Songs (say So Much)   \n",
       "10492  Elton John                                  Blue Eyes   \n",
       "10494  Elton John                  Candle In The Wind (Live)   \n",
       "10499  Elton John                               Original Sin   \n",
       "10501  Elton John                                    Blessed   \n",
       "10505  Elton John                                 Passengers   \n",
       "10514  Elton John                    Mama Can't Buy You Love   \n",
       "10515  Elton John                                     Please   \n",
       "10520  Elton John     I Don't Wanna Go On With You Like That   \n",
       "10523  Elton John                                Wrap Her Up   \n",
       "\n",
       "                           album release_date genre  \\\n",
       "10450                        NaN          NaN  Rock   \n",
       "10455                        NaN          NaN  Rock   \n",
       "10462           Too Low for Zero          NaN  Rock   \n",
       "10473                        NaN          NaN  Rock   \n",
       "10478                        NaN          NaN  Rock   \n",
       "10489            Breaking Hearts          NaN  Rock   \n",
       "10492                   Jump Up!          NaN  Rock   \n",
       "10494                        NaN          NaN  Rock   \n",
       "10499  Songs from the West Coast          NaN  Rock   \n",
       "10501            Made in England          NaN  Rock   \n",
       "10505            Breaking Hearts          NaN  Rock   \n",
       "10514          Diamonds (Deluxe)          NaN  Rock   \n",
       "10515            Made in England          NaN  Rock   \n",
       "10520           Reg Strikes Back          NaN  Rock   \n",
       "10523                Ice on Fire          NaN  Rock   \n",
       "\n",
       "                                                  lyrics  year  \n",
       "10450  She packed my bags last night pre-flight Zero ...   NaN  \n",
       "10455  There's a calm surrender To the rush of day Wh...   NaN  \n",
       "10462   Don't wish it away Don't look at it like it's...   NaN  \n",
       "10473  We wanted to do a love song for New York City....   NaN  \n",
       "10478  It's a little bit funny this feeling inside I'...   NaN  \n",
       "10489   Guess there are times when we all need to sha...   NaN  \n",
       "10492   Blue eyes Baby's got blue eyes Like a deep, b...   NaN  \n",
       "10494  Goodbye Norma Jean Though I never knew you at ...   NaN  \n",
       "10499   Oh, it's carnival night And they're stringing...   NaN  \n",
       "10501   Hey you, you're a child in my head You haven'...   NaN  \n",
       "10505   Deny the passenger, who want to get on  Want ...   NaN  \n",
       "10514   Baby, so they give you anythin' Darlin', all ...   NaN  \n",
       "10515   We've been crippled in love, short changed, h...   NaN  \n",
       "10520   I've always said that one's enough to love No...   NaN  \n",
       "10523   There are ladies, illegal X's Mona Lisa's, we...   NaN  "
      ]
     },
     "execution_count": 40,
     "metadata": {},
     "output_type": "execute_result"
    }
   ],
   "source": [
    "example.loc[example.year.isnull(), :]"
   ]
  },
  {
   "cell_type": "code",
   "execution_count": 41,
   "metadata": {},
   "outputs": [
    {
     "data": {
      "text/plain": [
       "(1969, 2018, 1981)"
      ]
     },
     "execution_count": 41,
     "metadata": {},
     "output_type": "execute_result"
    }
   ],
   "source": [
    "int(example.year.min()), int(example.year.max()), int(example.year.mean())"
   ]
  },
  {
   "cell_type": "code",
   "execution_count": 42,
   "metadata": {},
   "outputs": [
    {
     "name": "stderr",
     "output_type": "stream",
     "text": [
      "100%|██████████| 807/807 [00:12<00:00, 65.41it/s]\n"
     ]
    }
   ],
   "source": [
    "for artist in tqdm(lyrics_df.loc[lyrics_df.year.isnull()].artist.unique()):\n",
    "    artist_df = lyrics_df.loc[lyrics_df.artist == artist, :]\n",
    "    nans_count = artist_df.loc[artist_df.year.isnull(), :].shape[0]\n",
    "    min_year, max_year, mean_year = int(artist_df.year.min()), int(artist_df.year.max()), int(artist_df.year.mean())\n",
    "    years = [year for year in range(min_year, max_year+1)]\n",
    "    count_first_half = artist_df.loc[(artist_df.year.notnull()) & (artist_df.year < mean_year), :].shape[0]\n",
    "    count_second_half = artist_df.loc[(artist_df.year.notnull()) & (artist_df.year >= mean_year), :].shape[0]\n",
    "    if len(years) == 1:\n",
    "        probabilities = [1]\n",
    "    elif count_first_half > count_second_half:\n",
    "        probabilities = [0.75/(len(years)//2) for i in range(len(years)//2)] + [0.25/(len(years) - (len(years)//2)) for i in range(len(years) - (len(years)//2))]\n",
    "    elif count_first_half < count_second_half:\n",
    "        probabilities = [0.25/(len(years)//2) for i in range(len(years)//2)] + [0.75/(len(years) - (len(years)//2)) for i in range(len(years) - (len(years)//2))]\n",
    "    else:\n",
    "        probabilities = [1/(len(years)) for i in range(len(years))]\n",
    "    nans_filler = np.random.choice(years, size=nans_count, p=probabilities)\n",
    "    lyrics_df.loc[(lyrics_df.year.isnull()) & (lyrics_df.artist == artist), \"year\"] = nans_filler"
   ]
  },
  {
   "cell_type": "code",
   "execution_count": 43,
   "metadata": {
    "scrolled": true
   },
   "outputs": [
    {
     "data": {
      "text/html": [
       "<div>\n",
       "<style scoped>\n",
       "    .dataframe tbody tr th:only-of-type {\n",
       "        vertical-align: middle;\n",
       "    }\n",
       "\n",
       "    .dataframe tbody tr th {\n",
       "        vertical-align: top;\n",
       "    }\n",
       "\n",
       "    .dataframe thead th {\n",
       "        text-align: right;\n",
       "    }\n",
       "</style>\n",
       "<table border=\"1\" class=\"dataframe\">\n",
       "  <thead>\n",
       "    <tr style=\"text-align: right;\">\n",
       "      <th></th>\n",
       "      <th>artist</th>\n",
       "      <th>song</th>\n",
       "      <th>album</th>\n",
       "      <th>release_date</th>\n",
       "      <th>genre</th>\n",
       "      <th>lyrics</th>\n",
       "      <th>year</th>\n",
       "    </tr>\n",
       "  </thead>\n",
       "  <tbody>\n",
       "    <tr>\n",
       "      <th>10450</th>\n",
       "      <td>Elton John</td>\n",
       "      <td>Rocket Man</td>\n",
       "      <td>NaN</td>\n",
       "      <td>NaN</td>\n",
       "      <td>Rock</td>\n",
       "      <td>She packed my bags last night pre-flight Zero ...</td>\n",
       "      <td>1978.0</td>\n",
       "    </tr>\n",
       "    <tr>\n",
       "      <th>10455</th>\n",
       "      <td>Elton John</td>\n",
       "      <td>Can You Feel the Love Tonight</td>\n",
       "      <td>NaN</td>\n",
       "      <td>NaN</td>\n",
       "      <td>Rock</td>\n",
       "      <td>There's a calm surrender To the rush of day Wh...</td>\n",
       "      <td>1971.0</td>\n",
       "    </tr>\n",
       "    <tr>\n",
       "      <th>10462</th>\n",
       "      <td>Elton John</td>\n",
       "      <td>I Guess That's Why They Call It The Blues</td>\n",
       "      <td>Too Low for Zero</td>\n",
       "      <td>NaN</td>\n",
       "      <td>Rock</td>\n",
       "      <td>Don't wish it away Don't look at it like it's...</td>\n",
       "      <td>1992.0</td>\n",
       "    </tr>\n",
       "    <tr>\n",
       "      <th>10473</th>\n",
       "      <td>Elton John</td>\n",
       "      <td>Mona Lisas And Mad Hatters</td>\n",
       "      <td>NaN</td>\n",
       "      <td>NaN</td>\n",
       "      <td>Rock</td>\n",
       "      <td>We wanted to do a love song for New York City....</td>\n",
       "      <td>1998.0</td>\n",
       "    </tr>\n",
       "    <tr>\n",
       "      <th>10478</th>\n",
       "      <td>Elton John</td>\n",
       "      <td>Your Song (Live)</td>\n",
       "      <td>NaN</td>\n",
       "      <td>NaN</td>\n",
       "      <td>Rock</td>\n",
       "      <td>It's a little bit funny this feeling inside I'...</td>\n",
       "      <td>1988.0</td>\n",
       "    </tr>\n",
       "    <tr>\n",
       "      <th>10489</th>\n",
       "      <td>Elton John</td>\n",
       "      <td>Sad Songs (say So Much)</td>\n",
       "      <td>Breaking Hearts</td>\n",
       "      <td>NaN</td>\n",
       "      <td>Rock</td>\n",
       "      <td>Guess there are times when we all need to sha...</td>\n",
       "      <td>1980.0</td>\n",
       "    </tr>\n",
       "    <tr>\n",
       "      <th>10492</th>\n",
       "      <td>Elton John</td>\n",
       "      <td>Blue Eyes</td>\n",
       "      <td>Jump Up!</td>\n",
       "      <td>NaN</td>\n",
       "      <td>Rock</td>\n",
       "      <td>Blue eyes Baby's got blue eyes Like a deep, b...</td>\n",
       "      <td>1997.0</td>\n",
       "    </tr>\n",
       "    <tr>\n",
       "      <th>10494</th>\n",
       "      <td>Elton John</td>\n",
       "      <td>Candle In The Wind (Live)</td>\n",
       "      <td>NaN</td>\n",
       "      <td>NaN</td>\n",
       "      <td>Rock</td>\n",
       "      <td>Goodbye Norma Jean Though I never knew you at ...</td>\n",
       "      <td>1977.0</td>\n",
       "    </tr>\n",
       "    <tr>\n",
       "      <th>10499</th>\n",
       "      <td>Elton John</td>\n",
       "      <td>Original Sin</td>\n",
       "      <td>Songs from the West Coast</td>\n",
       "      <td>NaN</td>\n",
       "      <td>Rock</td>\n",
       "      <td>Oh, it's carnival night And they're stringing...</td>\n",
       "      <td>1981.0</td>\n",
       "    </tr>\n",
       "    <tr>\n",
       "      <th>10501</th>\n",
       "      <td>Elton John</td>\n",
       "      <td>Blessed</td>\n",
       "      <td>Made in England</td>\n",
       "      <td>NaN</td>\n",
       "      <td>Rock</td>\n",
       "      <td>Hey you, you're a child in my head You haven'...</td>\n",
       "      <td>1998.0</td>\n",
       "    </tr>\n",
       "    <tr>\n",
       "      <th>10505</th>\n",
       "      <td>Elton John</td>\n",
       "      <td>Passengers</td>\n",
       "      <td>Breaking Hearts</td>\n",
       "      <td>NaN</td>\n",
       "      <td>Rock</td>\n",
       "      <td>Deny the passenger, who want to get on  Want ...</td>\n",
       "      <td>2012.0</td>\n",
       "    </tr>\n",
       "    <tr>\n",
       "      <th>10514</th>\n",
       "      <td>Elton John</td>\n",
       "      <td>Mama Can't Buy You Love</td>\n",
       "      <td>Diamonds (Deluxe)</td>\n",
       "      <td>NaN</td>\n",
       "      <td>Rock</td>\n",
       "      <td>Baby, so they give you anythin' Darlin', all ...</td>\n",
       "      <td>1991.0</td>\n",
       "    </tr>\n",
       "    <tr>\n",
       "      <th>10515</th>\n",
       "      <td>Elton John</td>\n",
       "      <td>Please</td>\n",
       "      <td>Made in England</td>\n",
       "      <td>NaN</td>\n",
       "      <td>Rock</td>\n",
       "      <td>We've been crippled in love, short changed, h...</td>\n",
       "      <td>1972.0</td>\n",
       "    </tr>\n",
       "    <tr>\n",
       "      <th>10520</th>\n",
       "      <td>Elton John</td>\n",
       "      <td>I Don't Wanna Go On With You Like That</td>\n",
       "      <td>Reg Strikes Back</td>\n",
       "      <td>NaN</td>\n",
       "      <td>Rock</td>\n",
       "      <td>I've always said that one's enough to love No...</td>\n",
       "      <td>1985.0</td>\n",
       "    </tr>\n",
       "    <tr>\n",
       "      <th>10523</th>\n",
       "      <td>Elton John</td>\n",
       "      <td>Wrap Her Up</td>\n",
       "      <td>Ice on Fire</td>\n",
       "      <td>NaN</td>\n",
       "      <td>Rock</td>\n",
       "      <td>There are ladies, illegal X's Mona Lisa's, we...</td>\n",
       "      <td>1988.0</td>\n",
       "    </tr>\n",
       "  </tbody>\n",
       "</table>\n",
       "</div>"
      ],
      "text/plain": [
       "           artist                                       song  \\\n",
       "10450  Elton John                                 Rocket Man   \n",
       "10455  Elton John              Can You Feel the Love Tonight   \n",
       "10462  Elton John  I Guess That's Why They Call It The Blues   \n",
       "10473  Elton John                 Mona Lisas And Mad Hatters   \n",
       "10478  Elton John                           Your Song (Live)   \n",
       "10489  Elton John                    Sad Songs (say So Much)   \n",
       "10492  Elton John                                  Blue Eyes   \n",
       "10494  Elton John                  Candle In The Wind (Live)   \n",
       "10499  Elton John                               Original Sin   \n",
       "10501  Elton John                                    Blessed   \n",
       "10505  Elton John                                 Passengers   \n",
       "10514  Elton John                    Mama Can't Buy You Love   \n",
       "10515  Elton John                                     Please   \n",
       "10520  Elton John     I Don't Wanna Go On With You Like That   \n",
       "10523  Elton John                                Wrap Her Up   \n",
       "\n",
       "                           album release_date genre  \\\n",
       "10450                        NaN          NaN  Rock   \n",
       "10455                        NaN          NaN  Rock   \n",
       "10462           Too Low for Zero          NaN  Rock   \n",
       "10473                        NaN          NaN  Rock   \n",
       "10478                        NaN          NaN  Rock   \n",
       "10489            Breaking Hearts          NaN  Rock   \n",
       "10492                   Jump Up!          NaN  Rock   \n",
       "10494                        NaN          NaN  Rock   \n",
       "10499  Songs from the West Coast          NaN  Rock   \n",
       "10501            Made in England          NaN  Rock   \n",
       "10505            Breaking Hearts          NaN  Rock   \n",
       "10514          Diamonds (Deluxe)          NaN  Rock   \n",
       "10515            Made in England          NaN  Rock   \n",
       "10520           Reg Strikes Back          NaN  Rock   \n",
       "10523                Ice on Fire          NaN  Rock   \n",
       "\n",
       "                                                  lyrics    year  \n",
       "10450  She packed my bags last night pre-flight Zero ...  1978.0  \n",
       "10455  There's a calm surrender To the rush of day Wh...  1971.0  \n",
       "10462   Don't wish it away Don't look at it like it's...  1992.0  \n",
       "10473  We wanted to do a love song for New York City....  1998.0  \n",
       "10478  It's a little bit funny this feeling inside I'...  1988.0  \n",
       "10489   Guess there are times when we all need to sha...  1980.0  \n",
       "10492   Blue eyes Baby's got blue eyes Like a deep, b...  1997.0  \n",
       "10494  Goodbye Norma Jean Though I never knew you at ...  1977.0  \n",
       "10499   Oh, it's carnival night And they're stringing...  1981.0  \n",
       "10501   Hey you, you're a child in my head You haven'...  1998.0  \n",
       "10505   Deny the passenger, who want to get on  Want ...  2012.0  \n",
       "10514   Baby, so they give you anythin' Darlin', all ...  1991.0  \n",
       "10515   We've been crippled in love, short changed, h...  1972.0  \n",
       "10520   I've always said that one's enough to love No...  1985.0  \n",
       "10523   There are ladies, illegal X's Mona Lisa's, we...  1988.0  "
      ]
     },
     "execution_count": 43,
     "metadata": {},
     "output_type": "execute_result"
    }
   ],
   "source": [
    "lyrics_df.loc[example_index, :]"
   ]
  },
  {
   "cell_type": "markdown",
   "metadata": {},
   "source": [
    "#### **3.4 Write cleaned and annotated dataset**"
   ]
  },
  {
   "cell_type": "code",
   "execution_count": 49,
   "metadata": {},
   "outputs": [
    {
     "data": {
      "text/plain": [
       "(43844, 7)"
      ]
     },
     "execution_count": 49,
     "metadata": {},
     "output_type": "execute_result"
    }
   ],
   "source": [
    "lyrics_df.shape"
   ]
  },
  {
   "cell_type": "code",
   "execution_count": 50,
   "metadata": {},
   "outputs": [],
   "source": [
    "lyrics_df = lyrics_df.astype({\"artist\": str, \"song\": str, \"album\": str, \n",
    "                             \"release_date\": str, \"genre\": str, \"lyrics\": str, \"year\": int})"
   ]
  },
  {
   "cell_type": "code",
   "execution_count": 51,
   "metadata": {},
   "outputs": [],
   "source": [
    "lyrics_df.to_csv(\"./data/lyrics_cleaned.csv\", index=False)"
   ]
  },
  {
   "cell_type": "markdown",
   "metadata": {},
   "source": [
    "## **4. Preprocessing**"
   ]
  },
  {
   "cell_type": "code",
   "execution_count": null,
   "metadata": {},
   "outputs": [],
   "source": []
  }
 ],
 "metadata": {
  "kernelspec": {
   "display_name": "Python 3",
   "language": "python",
   "name": "python3"
  },
  "language_info": {
   "codemirror_mode": {
    "name": "ipython",
    "version": 3
   },
   "file_extension": ".py",
   "mimetype": "text/x-python",
   "name": "python",
   "nbconvert_exporter": "python",
   "pygments_lexer": "ipython3",
   "version": "3.7.3"
  }
 },
 "nbformat": 4,
 "nbformat_minor": 4
}
