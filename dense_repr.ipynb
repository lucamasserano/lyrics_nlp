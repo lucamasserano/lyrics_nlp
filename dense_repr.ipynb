{
 "cells": [
  {
   "cell_type": "code",
   "execution_count": 14,
   "metadata": {},
   "outputs": [],
   "source": [
    "import pandas as pd\n",
    "import numpy as np\n",
    "import pickle\n",
    "from tqdm import tqdm\n",
    "\n",
    "from gensim.models import Doc2Vec\n",
    "from gensim.models.doc2vec import FAST_VERSION\n",
    "from gensim.models.doc2vec import TaggedDocument\n",
    "from sklearn.decomposition import PCA\n",
    "from sklearn.manifold import TSNE\n",
    "\n",
    "%run utils.ipynb"
   ]
  },
  {
   "cell_type": "markdown",
   "metadata": {},
   "source": [
    "# Lyrics2Vec CLASS"
   ]
  },
  {
   "cell_type": "code",
   "execution_count": 15,
   "metadata": {
    "jupyter": {
     "source_hidden": true
    }
   },
   "outputs": [],
   "source": [
    "class Lyrics2Vec():\n",
    "    \n",
    "    def __init__(self, lyrics_df):\n",
    "\n",
    "        self.lyrics_df = lyrics_df\n",
    "        \n",
    "        self.doc2vec_corpus = None\n",
    "        self.model = None\n",
    "            \n",
    "    \n",
    "    def create_doc2vec_corpus(self, tag, lyrics_df=None):\n",
    "        \n",
    "        if lyrics_df is None:\n",
    "            lyrics_df = self.lyrics_df\n",
    "        \n",
    "        print(\"Creating doc2vec tagged corpus ...\", flush=True)\n",
    "        tagged_corpus = []\n",
    "        for row in tqdm(lyrics_df.iterrows()):\n",
    "            if tag == 'genre':\n",
    "                label = row[1].genre\n",
    "            elif tag == 'index':\n",
    "                label = row[0]\n",
    "            else:\n",
    "                raise AttributeError(f'Only \"genre\" or \"index\" ar valid tags. {tag} was given')\n",
    "            text = row[1].lyrics\n",
    "            tagged_corpus.append(TaggedDocument(text, tags=[label]))\n",
    "        \n",
    "        self.tagged_corpus = tagged_corpus\n",
    "        return tagged_corpus\n",
    "    \n",
    "    \n",
    "    def fit(self, tagged_corpus=None, vector_size=300, window=10, min_count=100, epochs=5000, dm=1, dbow_words=1):\n",
    "        \n",
    "        if tagged_corpus is None:\n",
    "            tagged_corpus = self.doc2vec_corpus\n",
    "        \n",
    "        d2v_model = Doc2Vec(vector_size=vector_size, window=window, hs=0,\n",
    "                            sample=0.000001, negative=5, min_count=min_count,\n",
    "                            workers=-1, epochs=epochs, dm=dm, dbow_words=dbow_words\n",
    "                           )\n",
    "        d2v_model.build_vocab(tagged_corpus)\n",
    "        d2v_model.train(tagged_corpus, total_examples=d2v_model.corpus_count, epochs=d2v_model.epochs)\n",
    "        \n",
    "        self.model = d2v_model\n",
    "        \n",
    "        return\n",
    "    \n",
    "    @staticmethod\n",
    "    def nearest_neighbors(query_vector, vectors, n=10):\n",
    "        # compute cosine similarities\n",
    "        ranks = np.dot(query_vector, vectors.T) / np.sqrt(np.sum(vectors\n",
    "        **2, 1))\n",
    "        # sort by similarity, reverse order, and get the top N\n",
    "        neighbors = [idx for idx in ranks.argsort()[::-1]][:n]\n",
    "        return neighbors\n",
    "    \n",
    "    \n",
    "    def most_similar_to_genre(self, genres=None):\n",
    "    \n",
    "        if genres is None:\n",
    "            genres = self.model.docvecs.doctags.keys()\n",
    "    \n",
    "        doc_words_most_similar = {}\n",
    "        for tag in genres:\n",
    "            doc_words_most_similar[tag] = self.nearest_neighbors(self.model.docvecs[tag], self.model.wv.vectors, n=10)\n",
    "            tag_index = doc_words_most_similar[tag]\n",
    "            tag_words = []\n",
    "            index_to_word_mapping = {self.model.wv.vocab[word].index: word for word in self.model.wv.vocab.keys()}\n",
    "            for index in tag_index:\n",
    "                tag_words.append(index_to_word_mapping[index])\n",
    "            doc_words_most_similar[tag] = tag_words\n",
    "\n",
    "        return doc_words_most_similar\n",
    "        \n",
    "        \n",
    "    def reduce_dimensionality(self, lyrics_vecs, method='tsne', n_components=3, pre_reduction_components=50):\n",
    "        \n",
    "        if method == 'tsne':\n",
    "            \n",
    "            # pre-reduce dimensionality to around 50 as advised by TSNE docs\n",
    "            if not pre_reduction_components is None:\n",
    "                print(\"Pre-reducing lyrics embeddings with PCA ...\", flush=True)\n",
    "                pca = PCA(n_components=pre_reduction_components)\n",
    "                lyrics_vecs = pca.fit_transform(lyrics_vecs)\n",
    "            \n",
    "            print(\"Reducing lyrics embeddings with T-SNE ...\", flush=True)\n",
    "            tsne = TSNE(n_components=n_components)\n",
    "            lyrics_vecs_reduced = tsne.fit_transform(lyrics_vecs)\n",
    "                \n",
    "        return lyrics_vecs_reduced\n",
    "    \n",
    "    \n",
    "    def visualize_embeddings(self, lyrics_vecs_reduced, genres, title=None, dimensions=3):\n",
    "        \n",
    "        if title is None:\n",
    "            title = ', '.join(genres)\n",
    "        \n",
    "        genres_idxs = self.lyrics_df.loc[self.lyrics_df.genre.isin(genres), :].index\n",
    "        genres_labels = self.lyrics_df.loc[self.lyrics_df.genre.isin(genres), :].genre.to_numpy()\n",
    "        genre_vectors = lyrics_vecs_reduced[genres_idxs]\n",
    "        \n",
    "        # from utils.ipynb\n",
    "        plot_vectors(genre_vectors, title=title, labels=genres_labels, dimensions=3)"
   ]
  },
  {
   "cell_type": "code",
   "execution_count": 16,
   "metadata": {},
   "outputs": [
    {
     "data": {
      "text/plain": [
       "(43844, 7)"
      ]
     },
     "execution_count": 16,
     "metadata": {},
     "output_type": "execute_result"
    }
   ],
   "source": [
    "lyrics_df = pd.read_csv('/Users/lucamasserano/Desktop/BOCCONI/nlp/final_project/lyrics_project/data/lyrics_cleaned.csv')\n",
    "lyrics_df.shape"
   ]
  },
  {
   "cell_type": "code",
   "execution_count": 19,
   "metadata": {},
   "outputs": [],
   "source": [
    "with open('./data/trimmed_corpus.pickle', 'rb') as pickled_object:\n",
    "    trimmed_corpus = pickle.load(pickled_object)"
   ]
  },
  {
   "cell_type": "code",
   "execution_count": 20,
   "metadata": {},
   "outputs": [],
   "source": [
    "# put preprocessed corpus into dataframe\n",
    "lyrics_df.loc[:, \"lyrics\"] = trimmed_corpus"
   ]
  },
  {
   "cell_type": "code",
   "execution_count": 25,
   "metadata": {},
   "outputs": [
    {
     "data": {
      "text/html": [
       "<div>\n",
       "<style scoped>\n",
       "    .dataframe tbody tr th:only-of-type {\n",
       "        vertical-align: middle;\n",
       "    }\n",
       "\n",
       "    .dataframe tbody tr th {\n",
       "        vertical-align: top;\n",
       "    }\n",
       "\n",
       "    .dataframe thead th {\n",
       "        text-align: right;\n",
       "    }\n",
       "</style>\n",
       "<table border=\"1\" class=\"dataframe\">\n",
       "  <thead>\n",
       "    <tr style=\"text-align: right;\">\n",
       "      <th></th>\n",
       "      <th>artist</th>\n",
       "      <th>song</th>\n",
       "      <th>album</th>\n",
       "      <th>release_date</th>\n",
       "      <th>genre</th>\n",
       "      <th>lyrics</th>\n",
       "      <th>year</th>\n",
       "    </tr>\n",
       "  </thead>\n",
       "  <tbody>\n",
       "    <tr>\n",
       "      <th>9748</th>\n",
       "      <td>Eagles</td>\n",
       "      <td>Do Something</td>\n",
       "      <td>Long Road Out Of Eden</td>\n",
       "      <td>NaN</td>\n",
       "      <td>Rock</td>\n",
       "      <td>[walk, field, street, town, try, make, sense, ...</td>\n",
       "      <td>1985</td>\n",
       "    </tr>\n",
       "    <tr>\n",
       "      <th>9749</th>\n",
       "      <td>Eagles</td>\n",
       "      <td>King of Hollywood</td>\n",
       "      <td>The Long Run</td>\n",
       "      <td>1979-09-24</td>\n",
       "      <td>Rock</td>\n",
       "      <td>[well, sit, there, leatherette, look, picture,...</td>\n",
       "      <td>1979</td>\n",
       "    </tr>\n",
       "    <tr>\n",
       "      <th>9750</th>\n",
       "      <td>Eagles</td>\n",
       "      <td>Midnight Flyer</td>\n",
       "      <td>On the Border</td>\n",
       "      <td>NaN</td>\n",
       "      <td>Rock</td>\n",
       "      <td>[midnight, flyer, engineer, let, whistle, moan...</td>\n",
       "      <td>1982</td>\n",
       "    </tr>\n",
       "    <tr>\n",
       "      <th>9751</th>\n",
       "      <td>Eagles</td>\n",
       "      <td>Hollywood Waltz</td>\n",
       "      <td>One of These Nights</td>\n",
       "      <td>1975-06-10</td>\n",
       "      <td>Rock</td>\n",
       "      <td>[acacia, bloom, southern, will, see, more, day...</td>\n",
       "      <td>1975</td>\n",
       "    </tr>\n",
       "    <tr>\n",
       "      <th>9752</th>\n",
       "      <td>Eagles</td>\n",
       "      <td>No More Cloudy Days</td>\n",
       "      <td>Long Road Out Of Eden</td>\n",
       "      <td>NaN</td>\n",
       "      <td>Rock</td>\n",
       "      <td>[sit, foggy, window, staring, pour, rain, fall...</td>\n",
       "      <td>1979</td>\n",
       "    </tr>\n",
       "    <tr>\n",
       "      <th>9753</th>\n",
       "      <td>Eagles</td>\n",
       "      <td>It's Your World Now</td>\n",
       "      <td>Long Road Out Of Eden</td>\n",
       "      <td>NaN</td>\n",
       "      <td>Rock</td>\n",
       "      <td>[perfect, day, sun, sink, low, evening, fall, ...</td>\n",
       "      <td>1980</td>\n",
       "    </tr>\n",
       "    <tr>\n",
       "      <th>9754</th>\n",
       "      <td>Eagles</td>\n",
       "      <td>My Man</td>\n",
       "      <td>On the Border</td>\n",
       "      <td>1974-03-24</td>\n",
       "      <td>Rock</td>\n",
       "      <td>[tell, how, feel, like, roll, fast, spin, whee...</td>\n",
       "      <td>1974</td>\n",
       "    </tr>\n",
       "    <tr>\n",
       "      <th>9755</th>\n",
       "      <td>Eagles</td>\n",
       "      <td>Long Road Out Of Eden</td>\n",
       "      <td>Long Road Out Of Eden</td>\n",
       "      <td>NaN</td>\n",
       "      <td>Rock</td>\n",
       "      <td>[moon, shine, palm, shadow, move, sand, whispe...</td>\n",
       "      <td>1973</td>\n",
       "    </tr>\n",
       "    <tr>\n",
       "      <th>9756</th>\n",
       "      <td>Eagles</td>\n",
       "      <td>Fast Company</td>\n",
       "      <td>Long Road Out Of Eden</td>\n",
       "      <td>2007-10-30</td>\n",
       "      <td>Rock</td>\n",
       "      <td>[now, where, go, now, rush, listen, here, just...</td>\n",
       "      <td>2007</td>\n",
       "    </tr>\n",
       "    <tr>\n",
       "      <th>9757</th>\n",
       "      <td>Eagles</td>\n",
       "      <td>Somebody</td>\n",
       "      <td>Long Road Out Of Eden</td>\n",
       "      <td>NaN</td>\n",
       "      <td>Rock</td>\n",
       "      <td>[feel, bad, bad, enough, know, come, play, rou...</td>\n",
       "      <td>1982</td>\n",
       "    </tr>\n",
       "    <tr>\n",
       "      <th>9758</th>\n",
       "      <td>Eagles</td>\n",
       "      <td>Outlaw Man</td>\n",
       "      <td>Desperado</td>\n",
       "      <td>NaN</td>\n",
       "      <td>Rock</td>\n",
       "      <td>[outlaw, bear, outlaw, son, highway, legacy, h...</td>\n",
       "      <td>1998</td>\n",
       "    </tr>\n",
       "  </tbody>\n",
       "</table>\n",
       "</div>"
      ],
      "text/plain": [
       "      artist                   song                   album release_date  \\\n",
       "9748  Eagles           Do Something  Long Road Out Of Eden           NaN   \n",
       "9749  Eagles      King of Hollywood            The Long Run   1979-09-24   \n",
       "9750  Eagles         Midnight Flyer           On the Border          NaN   \n",
       "9751  Eagles        Hollywood Waltz     One of These Nights   1975-06-10   \n",
       "9752  Eagles    No More Cloudy Days  Long Road Out Of Eden           NaN   \n",
       "9753  Eagles    It's Your World Now  Long Road Out Of Eden           NaN   \n",
       "9754  Eagles                 My Man           On the Border   1974-03-24   \n",
       "9755  Eagles  Long Road Out Of Eden  Long Road Out Of Eden           NaN   \n",
       "9756  Eagles           Fast Company  Long Road Out Of Eden    2007-10-30   \n",
       "9757  Eagles               Somebody  Long Road Out Of Eden           NaN   \n",
       "9758  Eagles             Outlaw Man               Desperado          NaN   \n",
       "\n",
       "     genre                                             lyrics  year  \n",
       "9748  Rock  [walk, field, street, town, try, make, sense, ...  1985  \n",
       "9749  Rock  [well, sit, there, leatherette, look, picture,...  1979  \n",
       "9750  Rock  [midnight, flyer, engineer, let, whistle, moan...  1982  \n",
       "9751  Rock  [acacia, bloom, southern, will, see, more, day...  1975  \n",
       "9752  Rock  [sit, foggy, window, staring, pour, rain, fall...  1979  \n",
       "9753  Rock  [perfect, day, sun, sink, low, evening, fall, ...  1980  \n",
       "9754  Rock  [tell, how, feel, like, roll, fast, spin, whee...  1974  \n",
       "9755  Rock  [moon, shine, palm, shadow, move, sand, whispe...  1973  \n",
       "9756  Rock  [now, where, go, now, rush, listen, here, just...  2007  \n",
       "9757  Rock  [feel, bad, bad, enough, know, come, play, rou...  1982  \n",
       "9758  Rock  [outlaw, bear, outlaw, son, highway, legacy, h...  1998  "
      ]
     },
     "execution_count": 25,
     "metadata": {},
     "output_type": "execute_result"
    }
   ],
   "source": [
    "lyrics_df.loc[9748:9758, :]"
   ]
  },
  {
   "cell_type": "markdown",
   "metadata": {},
   "source": [
    "## Doc2Vec"
   ]
  },
  {
   "cell_type": "markdown",
   "metadata": {},
   "source": [
    "#### Most \"similar\" words to each genre"
   ]
  },
  {
   "cell_type": "code",
   "execution_count": 21,
   "metadata": {},
   "outputs": [],
   "source": [
    "genre2vec = Lyrics2Vec(lyrics_df=lyrics_df)"
   ]
  },
  {
   "cell_type": "code",
   "execution_count": 10,
   "metadata": {},
   "outputs": [
    {
     "name": "stdout",
     "output_type": "stream",
     "text": [
      "Creating doc2vec tagged corpus ...\n"
     ]
    },
    {
     "name": "stderr",
     "output_type": "stream",
     "text": [
      "43844it [00:08, 5384.32it/s]\n"
     ]
    }
   ],
   "source": [
    "tagged_docs = genre2vec.create_doc2vec_corpus(tag='genre')"
   ]
  },
  {
   "cell_type": "code",
   "execution_count": 11,
   "metadata": {},
   "outputs": [],
   "source": [
    "genre2vec.fit(tagged_corpus=tagged_docs, vector_size=300)"
   ]
  },
  {
   "cell_type": "code",
   "execution_count": 22,
   "metadata": {},
   "outputs": [],
   "source": [
    "with open('./genre2vec.pickle', 'rb') as pickled_object:\n",
    "    genre2vec.model = pickle.load(pickled_object)"
   ]
  },
  {
   "cell_type": "code",
   "execution_count": 23,
   "metadata": {},
   "outputs": [],
   "source": [
    "genre_to_most_similar = genre2vec.most_similar_to_genre()"
   ]
  },
  {
   "cell_type": "code",
   "execution_count": 24,
   "metadata": {
    "scrolled": true
   },
   "outputs": [
    {
     "data": {
      "text/plain": [
       "{'Hip-Hop': ['ditch',\n",
       "  'cradle',\n",
       "  'lady',\n",
       "  'leg',\n",
       "  'keep',\n",
       "  'childhood',\n",
       "  'imma',\n",
       "  'fine',\n",
       "  'tank',\n",
       "  'spider'],\n",
       " 'Rock': ['should',\n",
       "  'sweet',\n",
       "  'trial',\n",
       "  'witch',\n",
       "  'roach',\n",
       "  'transform',\n",
       "  'relationship',\n",
       "  'surely',\n",
       "  'audience',\n",
       "  'splash'],\n",
       " 'Pop': ['woo',\n",
       "  'connection',\n",
       "  'judge',\n",
       "  'dresser',\n",
       "  'lip',\n",
       "  'thread',\n",
       "  'forbid',\n",
       "  'elevate',\n",
       "  'sanctuary',\n",
       "  'island'],\n",
       " 'Folk': ['lake',\n",
       "  'rum',\n",
       "  'declare',\n",
       "  'excuse',\n",
       "  'cloudy',\n",
       "  'pic',\n",
       "  'thirsty',\n",
       "  'maiden',\n",
       "  'park',\n",
       "  'method'],\n",
       " 'Electronic': ['artist',\n",
       "  'stink',\n",
       "  'lost',\n",
       "  'cage',\n",
       "  'mercy',\n",
       "  'show',\n",
       "  'spoon',\n",
       "  'shady',\n",
       "  'break',\n",
       "  'sooner'],\n",
       " 'Reggae': ['ayy',\n",
       "  'pressure',\n",
       "  'rate',\n",
       "  'explode',\n",
       "  'gutter',\n",
       "  'joke',\n",
       "  'lie',\n",
       "  'wine',\n",
       "  'real',\n",
       "  'package'],\n",
       " 'Other': ['cast',\n",
       "  'nation',\n",
       "  'defense',\n",
       "  'fiend',\n",
       "  'existence',\n",
       "  'everyday',\n",
       "  'creator',\n",
       "  'salvation',\n",
       "  'makeup',\n",
       "  'hot'],\n",
       " 'Metal': ['pure',\n",
       "  'business',\n",
       "  'careless',\n",
       "  'shorty',\n",
       "  'ignorance',\n",
       "  'gucci',\n",
       "  'log',\n",
       "  'pink',\n",
       "  'bowl',\n",
       "  'connection'],\n",
       " 'Gospel': ['rocket',\n",
       "  'escape',\n",
       "  'harvest',\n",
       "  'comin',\n",
       "  'thigh',\n",
       "  \"i'm\",\n",
       "  'flaw',\n",
       "  'store',\n",
       "  'handsome',\n",
       "  'oak'],\n",
       " 'Jazz': ['too',\n",
       "  'wealth',\n",
       "  'distance',\n",
       "  'sho',\n",
       "  'support',\n",
       "  'less',\n",
       "  'important',\n",
       "  'positive',\n",
       "  'concentrate',\n",
       "  'valentine'],\n",
       " 'Indie': ['coin',\n",
       "  'guilty',\n",
       "  'meat',\n",
       "  'hunter',\n",
       "  'person',\n",
       "  'likely',\n",
       "  'tap',\n",
       "  'eye',\n",
       "  'codeine',\n",
       "  'dey'],\n",
       " 'Country': ['fun',\n",
       "  'strictly',\n",
       "  'weigh',\n",
       "  'punish',\n",
       "  'hey',\n",
       "  'moan',\n",
       "  'lead',\n",
       "  'digit',\n",
       "  'any',\n",
       "  'monster'],\n",
       " 'R&B': ['despise',\n",
       "  'band',\n",
       "  'hatred',\n",
       "  'tonight',\n",
       "  'sparkle',\n",
       "  'side',\n",
       "  'big',\n",
       "  'sharp',\n",
       "  'tangle',\n",
       "  'quality']}"
      ]
     },
     "execution_count": 24,
     "metadata": {},
     "output_type": "execute_result"
    }
   ],
   "source": [
    "genre_to_most_similar"
   ]
  },
  {
   "cell_type": "code",
   "execution_count": null,
   "metadata": {
    "scrolled": true
   },
   "outputs": [],
   "source": [
    "genre_to_most_similar"
   ]
  },
  {
   "cell_type": "markdown",
   "metadata": {},
   "source": [
    "#### Find a clustering in lyrics2vector space"
   ]
  },
  {
   "cell_type": "code",
   "execution_count": 26,
   "metadata": {},
   "outputs": [],
   "source": [
    "song2vec = Lyrics2Vec(lyrics_df=lyrics_df)"
   ]
  },
  {
   "cell_type": "code",
   "execution_count": 27,
   "metadata": {},
   "outputs": [
    {
     "name": "stdout",
     "output_type": "stream",
     "text": [
      "Creating doc2vec tagged corpus ...\n"
     ]
    },
    {
     "name": "stderr",
     "output_type": "stream",
     "text": [
      "43844it [00:07, 5848.18it/s]\n"
     ]
    }
   ],
   "source": [
    "tagged_songs = song2vec.create_doc2vec_corpus(tag='index')"
   ]
  },
  {
   "cell_type": "code",
   "execution_count": 28,
   "metadata": {},
   "outputs": [],
   "source": [
    "song2vec.fit(tagged_corpus=tagged_songs)"
   ]
  },
  {
   "cell_type": "code",
   "execution_count": 29,
   "metadata": {},
   "outputs": [
    {
     "name": "stdout",
     "output_type": "stream",
     "text": [
      "Pre-reducing lyrics embeddings with PCA ...\n",
      "Reducing lyrics embeddings with T-SNE ...\n"
     ]
    }
   ],
   "source": [
    "lower_dim_vectors = song2vec.reduce_dimensionality(lyrics_vecs=song2vec.model.docvecs.vectors_docs, method='tsne', n_components=3)"
   ]
  },
  {
   "cell_type": "code",
   "execution_count": 30,
   "metadata": {},
   "outputs": [
    {
     "ename": "NameError",
     "evalue": "name 'song_vector_reduced' is not defined",
     "output_type": "error",
     "traceback": [
      "\u001b[0;31m---------------------------------------------------------------------------\u001b[0m",
      "\u001b[0;31mNameError\u001b[0m                                 Traceback (most recent call last)",
      "\u001b[0;32m<ipython-input-30-fe39775dad76>\u001b[0m in \u001b[0;36m<module>\u001b[0;34m\u001b[0m\n\u001b[0;32m----> 1\u001b[0;31m \u001b[0msong2vec\u001b[0m\u001b[0;34m.\u001b[0m\u001b[0mvisualize_embeddings\u001b[0m\u001b[0;34m(\u001b[0m\u001b[0mlyrics_vecs_reduced\u001b[0m\u001b[0;34m=\u001b[0m\u001b[0mlower_dim_vectors\u001b[0m\u001b[0;34m,\u001b[0m \u001b[0mgenres\u001b[0m\u001b[0;34m=\u001b[0m\u001b[0;34m[\u001b[0m\u001b[0;34m\"Country\"\u001b[0m\u001b[0;34m,\u001b[0m \u001b[0;34m\"Hip-Hop\"\u001b[0m\u001b[0;34m]\u001b[0m\u001b[0;34m,\u001b[0m \u001b[0mtitle\u001b[0m\u001b[0;34m=\u001b[0m\u001b[0;34m\"Country, Hip-Hop\"\u001b[0m\u001b[0;34m)\u001b[0m\u001b[0;34m\u001b[0m\u001b[0;34m\u001b[0m\u001b[0m\n\u001b[0m",
      "\u001b[0;32m<ipython-input-15-46dfc11b0d7e>\u001b[0m in \u001b[0;36mvisualize_embeddings\u001b[0;34m(self, lyrics_vecs_reduced, genres, title, dimensions)\u001b[0m\n\u001b[1;32m    116\u001b[0m     \u001b[0;32mdef\u001b[0m \u001b[0mvisualize_embeddings\u001b[0m\u001b[0;34m(\u001b[0m\u001b[0mself\u001b[0m\u001b[0;34m,\u001b[0m \u001b[0mlyrics_vecs_reduced\u001b[0m\u001b[0;34m,\u001b[0m \u001b[0mgenres\u001b[0m\u001b[0;34m,\u001b[0m \u001b[0mtitle\u001b[0m\u001b[0;34m=\u001b[0m\u001b[0;34m\"VIZ\"\u001b[0m\u001b[0;34m,\u001b[0m \u001b[0mdimensions\u001b[0m\u001b[0;34m=\u001b[0m\u001b[0;36m3\u001b[0m\u001b[0;34m)\u001b[0m\u001b[0;34m:\u001b[0m\u001b[0;34m\u001b[0m\u001b[0;34m\u001b[0m\u001b[0m\n\u001b[1;32m    117\u001b[0m \u001b[0;34m\u001b[0m\u001b[0m\n\u001b[0;32m--> 118\u001b[0;31m         \u001b[0mplot_vectors\u001b[0m\u001b[0;34m(\u001b[0m\u001b[0msong_vector_reduced\u001b[0m\u001b[0;34m,\u001b[0m \u001b[0mtitle\u001b[0m\u001b[0;34m=\u001b[0m\u001b[0;34m'VIZ'\u001b[0m\u001b[0;34m,\u001b[0m \u001b[0mlabels\u001b[0m\u001b[0;34m=\u001b[0m\u001b[0mgenres_df_to_plot\u001b[0m\u001b[0;34m.\u001b[0m\u001b[0mgenre\u001b[0m\u001b[0;34m,\u001b[0m \u001b[0mdimensions\u001b[0m\u001b[0;34m=\u001b[0m\u001b[0;36m3\u001b[0m\u001b[0;34m)\u001b[0m\u001b[0;34m\u001b[0m\u001b[0;34m\u001b[0m\u001b[0m\n\u001b[0m",
      "\u001b[0;31mNameError\u001b[0m: name 'song_vector_reduced' is not defined"
     ]
    }
   ],
   "source": [
    "song2vec.visualize_embeddings(lyrics_vecs_reduced=lower_dim_vectors, genres=[\"Country\", \"Hip-Hop\"], title=\"Country, Hip-Hop\")"
   ]
  },
  {
   "cell_type": "code",
   "execution_count": 120,
   "metadata": {},
   "outputs": [],
   "source": [
    "genres = [\"Hip-Hop\", \"Country\"]\n",
    "genres_idxs = song2vec.lyrics_df.loc[song2vec.lyrics_df.genre.isin(genres), :].index\n",
    "genres_labels = song2vec.lyrics_df.loc[song2vec.lyrics_df.genre.isin(genres), :].genre.to_numpy()\n",
    "genre_vectors = lower_dim_vectors[genres_idxs]"
   ]
  },
  {
   "cell_type": "code",
   "execution_count": 126,
   "metadata": {},
   "outputs": [
    {
     "data": {
      "image/png": "[encoded data removed]",
      "text/plain": [
       "<Figure size 720x720 with 1 Axes>"
      ]
     },
     "metadata": {
      "needs_background": "light"
     },
     "output_type": "display_data"
    }
   ],
   "source": [
    "plot_vectors(genre_vectors, title=', '.join(genres), labels=genres_labels, dimensions=3, view_init=(30, 120))"
   ]
  },
  {
   "cell_type": "markdown",
   "metadata": {},
   "source": [
    "# DENSE EMBEDDINGS"
   ]
  },
  {
   "cell_type": "markdown",
   "metadata": {},
   "source": [
    "Whole corpus"
   ]
  },
  {
   "cell_type": "code",
   "execution_count": null,
   "metadata": {},
   "outputs": [],
   "source": [
    "from gensim.models import Word2Vec\n",
    "from gensim.models.word2vec import FAST_VERSION"
   ]
  },
  {
   "cell_type": "code",
   "execution_count": null,
   "metadata": {
    "scrolled": true
   },
   "outputs": [],
   "source": [
    "with open('./data/lemmatized_corpus.pickle', \"rb\") as pickled_object:\n",
    "    lemmatized_corpus = pickle.load(pickled_object)\n",
    "lemmatized_corpus[4758]"
   ]
  },
  {
   "cell_type": "code",
   "execution_count": null,
   "metadata": {
    "scrolled": true
   },
   "outputs": [],
   "source": [
    "with open('./data/pos_lemmatized_corpus.pickle', \"rb\") as pickled_object:\n",
    "    pos_lemmatized_corpus = pickle.load(pickled_object)\n",
    "pos_lemmatized_corpus[4758]"
   ]
  },
  {
   "cell_type": "code",
   "execution_count": null,
   "metadata": {},
   "outputs": [],
   "source": [
    "lyrics_df_lemmatized = lyrics_df.copy()\n",
    "lyrics_df_lemmatized.loc[:, \"lyrics\"] = lemmatized_corpus"
   ]
  },
  {
   "cell_type": "code",
   "execution_count": null,
   "metadata": {
    "scrolled": true
   },
   "outputs": [],
   "source": [
    "lemmatized_corpus"
   ]
  },
  {
   "cell_type": "code",
   "execution_count": null,
   "metadata": {},
   "outputs": [],
   "source": [
    "lyrics_df_pos_lemmatized = lyrics_df.copy()\n",
    "lyrics_df_pos_lemmatized.loc[:, \"lyrics\"] = pos_lemmatized_corpus"
   ]
  },
  {
   "cell_type": "code",
   "execution_count": null,
   "metadata": {},
   "outputs": [],
   "source": [
    "class Lyrics2Vec():\n",
    "    \n",
    "    def __init__(self, lyrics_df, genres=[], vector_size=300, window=10):\n",
    "        \n",
    "        self.genres = genres\n",
    "        self.vector_size = vector_size\n",
    "        self.window = window\n",
    "        \n",
    "        if len(genres) == 0:\n",
    "            self.corpus = lyrics_df.loc[:, \"lyrics\"]\n",
    "            self.model = Word2Vec(\n",
    "                size=self.vector_size, window=self.window, hs=0, sample=0.000001, negative=5, min_count=100, workers=-1, iter=5000\n",
    "            )\n",
    "        else:\n",
    "            self.corpus = {genre: lyrics_df.loc[lyrics_df.genre == genre, \"lyrics\"] for genre in genres}\n",
    "            self.model = {genre: Word2Vec(\n",
    "                size=self.vector_size, window=self.window, hs=0, sample=0.000001, negative=5, min_count=100, workers=-1, iter=5000\n",
    "            ) for genre in genres}\n",
    "    \n",
    "    \n",
    "    def fit(self, model=None, corpus=None):\n",
    "        \n",
    "        if model is None:\n",
    "            model = self.model\n",
    "        if corpus is None:\n",
    "            corpus = self.corpus\n",
    "        \n",
    "        if isinstance(corpus, dict):\n",
    "            for genre, genre_corpus in corpus.items():\n",
    "                model[genre].build_vocab(genre_corpus)\n",
    "                model[genre].train(genre_corpus, total_examples=model[genre].corpus_count, epochs=model[genre].epochs)\n",
    "        else:\n",
    "            model.build_vocab(corpus)\n",
    "            model.train(corpus, total_examples=model.corpus_count, epochs=model.epochs)   "
   ]
  },
  {
   "cell_type": "markdown",
   "metadata": {},
   "source": [
    "### Whole corpus"
   ]
  },
  {
   "cell_type": "code",
   "execution_count": null,
   "metadata": {},
   "outputs": [],
   "source": [
    "lyrics2vec = Lyrics2Vec(lyrics_df_pos_lemmatized)"
   ]
  },
  {
   "cell_type": "code",
   "execution_count": null,
   "metadata": {},
   "outputs": [],
   "source": [
    "lyrics2vec.fit()"
   ]
  },
  {
   "cell_type": "code",
   "execution_count": null,
   "metadata": {},
   "outputs": [],
   "source": [
    "lyrics2vec.model.wv.most_similar(\"love\", topn=10)"
   ]
  },
  {
   "cell_type": "markdown",
   "metadata": {},
   "source": [
    "### By Genre"
   ]
  },
  {
   "cell_type": "code",
   "execution_count": null,
   "metadata": {},
   "outputs": [],
   "source": [
    "lyrics2vec_genre = Lyrics2Vec(lyrics_df=lyrics_df_pos_lemmatized, genres=lyrics_df_pos_lemmatized.genre.unique())"
   ]
  },
  {
   "cell_type": "code",
   "execution_count": null,
   "metadata": {},
   "outputs": [],
   "source": [
    "lyrics2vec_genre.vector_size"
   ]
  },
  {
   "cell_type": "code",
   "execution_count": null,
   "metadata": {},
   "outputs": [],
   "source": [
    "lyrics2vec_genre.fit()"
   ]
  },
  {
   "cell_type": "code",
   "execution_count": null,
   "metadata": {},
   "outputs": [],
   "source": [
    "lyrics2vec_genre.model[\"Hip-Hop\"].wv.most_similar(\"love\", topn=10)"
   ]
  },
  {
   "cell_type": "code",
   "execution_count": null,
   "metadata": {},
   "outputs": [],
   "source": [
    "lyrics2vec_genre.model[\"Rock\"].wv.most_similar(\"love\", topn=10)"
   ]
  },
  {
   "cell_type": "code",
   "execution_count": null,
   "metadata": {},
   "outputs": [],
   "source": [
    "lyrics2vec_genre.model[\"Pop\"].wv.most_similar(\"love\", topn=10)"
   ]
  },
  {
   "cell_type": "code",
   "execution_count": null,
   "metadata": {},
   "outputs": [],
   "source": [
    "lyrics2vec_genre.model[\"Gospel\"].wv.most_similar(\"love\", topn=10)"
   ]
  },
  {
   "cell_type": "code",
   "execution_count": null,
   "metadata": {},
   "outputs": [],
   "source": []
  }
 ],
 "metadata": {
  "kernelspec": {
   "display_name": "Python 3",
   "language": "python",
   "name": "python3"
  },
  "language_info": {
   "codemirror_mode": {
    "name": "ipython",
    "version": 3
   },
   "file_extension": ".py",
   "mimetype": "text/x-python",
   "name": "python",
   "nbconvert_exporter": "python",
   "pygments_lexer": "ipython3",
   "version": "3.7.3"
  }
 },
 "nbformat": 4,
 "nbformat_minor": 4
}
