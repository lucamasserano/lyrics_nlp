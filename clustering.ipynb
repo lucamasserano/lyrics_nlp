{
 "cells": [
  {
   "cell_type": "code",
   "execution_count": null,
   "metadata": {},
   "outputs": [],
   "source": [
    "import pandas as pd\n",
    "import numpy as np\n",
    "import tqdm\n",
    "import pickle\n",
    "\n",
    "import nbimporter\n",
    "from tfidf import LyricsTFIDF\n",
    "from utils import plot_vectors\n",
    "\n",
    "from sklearn.cluster import KMeans, AgglomerativeClustering\n",
    "from scipy.cluster.hierarchy import linkage, dendrogram\n",
    "from sklearn.metrics import silhouette_score\n",
    "import matplotlib.pyplot as plt"
   ]
  },
  {
   "cell_type": "markdown",
   "metadata": {},
   "source": [
    "# LyricsClustering CLASS "
   ]
  },
  {
   "cell_type": "code",
   "execution_count": null,
   "metadata": {},
   "outputs": [],
   "source": [
    "class LyricsClustering():\n",
    "    \n",
    "    \n",
    "    def __init__(self, lyrics_df, preprocessed_corpus):\n",
    "        \n",
    "        self.lyrics_df = lyrics_df\n",
    "        self.preprocessed_corpus = preprocessed_corpus\n",
    "        self.tfidf_model = LyricsTFIDF(lyrics_df, preprocessed_corpus)\n",
    "        self.tfidf_matrix_reduced = None\n",
    "        \n",
    "        \n",
    "    def tfidf_matrix(self, preprocessed_corpus=None, ngram_range=(1,1), **kwargs):\n",
    "        \n",
    "        tfidf_dataframe = self.tfidf_model.fit_transform(preprocessed_corpus=preprocessed_corpus, ngram_range=ngram_range, **kwargs)\n",
    "        self.tfidf_matrix = self.tfidf_model.tfidf_matrix\n",
    "        \n",
    "        return self.tfidf_matrix\n",
    "    \n",
    "    \n",
    "    def reduce_dimensionality(self, method, num_components, tfidf_matrix):\n",
    "                \n",
    "        # returns U,S,V if 'svd' or W, H if 'nmf'\n",
    "        blocks = self.tfidf_model.matrix_factorization(method, num_components, tfidf_matrix)\n",
    "        self.tfidf_matrix_reduced = blocks[0]\n",
    "        \n",
    "        return blocks[0]\n",
    "        \n",
    "    \n",
    "    def guess_num_clusters(self, tfidf_matrix, sample_size=15000, reduction_components=300):\n",
    "        \n",
    "        # reduce the dimensionality of the input, to speed up clustering\n",
    "        tfidf_matrix_reduced = self.reduce_dimensionality(method='svd', num_components=reduction_components, tfidf_matrix=tfidf_matrix)\n",
    "        \n",
    "        # Use agglomerative clustering to guess a likely number of cluster present in the data\n",
    "        sample = np.random.choice(tfidf_matrix_reduced.shape[0], replace=False, size=sample_size)\n",
    "        linkage_matrix = linkage(tfidf_matrix_reduced[sample], method='ward')\n",
    "\n",
    "        row_dendrogram = dendrogram(linkage_matrix)\n",
    "        plt.tight_layout()\n",
    "        plt.ylabel('Euclidean distance')\n",
    "        plt.show()\n",
    "    \n",
    "    \n",
    "    def find_centroids(self, num_clusters, tfidf_matrix=None, reduction_components=300, sample_size=15000):\n",
    "        \n",
    "        if tfidf_matrix is None:\n",
    "            tfidf_matrix = self.tfidf_matrix\n",
    "\n",
    "        if self.tfidf_matrix_reduced is None: \n",
    "            # reduce the dimensionality of the input, to speed up clustering\n",
    "            tfidf_matrix_reduced = self.reduce_dimensionality(method='svd', num_components=reduction_components, \n",
    "                                                              tfidf_matrix=tfidf_matrix)\n",
    "        else:\n",
    "            tfidf_matrix_reduced = self.tfidf_matrix_reduced\n",
    "            \n",
    "        # clustering on a subset of whole data\n",
    "        agg = AgglomerativeClustering(n_clusters=num_clusters)\n",
    "        sample = np.random.choice(tfidf_matrix_reduced.shape[0], replace=False, size=sample_size)\n",
    "        agg_sample_ids = agg.fit_predict(tfidf_matrix_reduced[sample])     \n",
    "        \n",
    "        # find centroids\n",
    "        centroids = np.array([tfidf_matrix_reduced[sample][agg_sample_ids == cluster].mean(axis=0) \n",
    "                              for cluster in range(num_clusters)])\n",
    "        return centroids\n",
    "    \n",
    "    \n",
    "    def k_means_clustering(self, num_clusters, centroids, tfidf_matrix_reduced=None):\n",
    "        \n",
    "        if tfidf_matrix_reduced is None:\n",
    "            if self.tfidf_matrix_reduced is None:\n",
    "                tfidf_matrix_reduced = self.reduce_dimensionality(method='svd', num_components=reduction_components, \n",
    "                                                                  tfidf_matrix=tfidf_matrix)\n",
    "            else:\n",
    "                tfidf_matrix_reduced = self.tfidf_matrix_reduced\n",
    "        \n",
    "        km = KMeans(n_clusters=num_clusters, n_jobs=-1, init=centroids)\n",
    "\n",
    "        # fit\n",
    "        km.fit(tfidf_matrix_reduced)\n",
    "        \n",
    "        self.k_means_model = km\n",
    "        \n",
    "    \n",
    "    def plot_clusters(self, tfidf_matrix, dimensions, cluster_labels):\n",
    "        \n",
    "        if tfidf_matrix_reduced is None:\n",
    "            # reduce dimensionality to plot\n",
    "            tfidf_matrix_reduced = self.reduce_dimensionality(method='svd', num_components=dimensions, \n",
    "                                                              tfidf_matrix=tfidf_matrix)\n",
    "        else:\n",
    "            tfidf_matrix_reduced = self.tfidf_matrix_reduced\n",
    "        \n",
    "        %run utils.ipynb\n",
    "        plot_vectors(tfidf_matrix_reduced, labels=self.km.labels_, dimensions=dimensions)\n",
    "    \n",
    "    \n",
    "    def silhouette_scores(self, num_cluster_range, tfidf_matrix, sample_size, fig_size=(20, 10)):\n",
    "\n",
    "        silhouettes = []\n",
    "        \n",
    "        print(f\"Evaluating clusters in range {num_cluster_range} ...\", flush=True)\n",
    "        for c in tqdm(range(*num_cluster_range)):\n",
    "            agg_clustering = AgglomerativeClustering(n_clusters=c)\n",
    "            sample = np.random.choice(tfidf_matrix.shape[0], replace=False, size=sample_size)\n",
    "            agg_cluster_ids = agg_clustering.fit_predict(tfidf_matrix[sample])\n",
    "\n",
    "            score = silhouette_score(tfidf_matrix[sample], agg_cluster_ids)\n",
    "            silhouettes.append(score)\n",
    "\n",
    "        fig, ax = plt.subplots(figsize=fig_size)\n",
    "        plt.plot(K, silhouettes, 'bx-')\n",
    "        plt.xlabel('k')\n",
    "        plt.ylabel('Silhouette score')\n",
    "        plt.title('Silhouette Method For Optimal k')\n",
    "        plt.show()\n",
    "        "
   ]
  },
  {
   "cell_type": "markdown",
   "metadata": {},
   "source": [
    "## Analysis "
   ]
  },
  {
   "cell_type": "code",
   "execution_count": null,
   "metadata": {},
   "outputs": [],
   "source": [
    "lyrics_df = lyrics_df = pd.read_csv(\"./data/lyrics_cleaned.csv\")\n",
    "\n",
    "with open('./data/trimmed_corpus_old.pickle', 'rb') as pickled_object:\n",
    "    trimmed_corpus = pickle.load(pickled_object)"
   ]
  },
  {
   "cell_type": "code",
   "execution_count": null,
   "metadata": {},
   "outputs": [],
   "source": [
    "lyrics_clustering = LyricsClustering(lyrics_df, trimmed_corpus)"
   ]
  },
  {
   "cell_type": "code",
   "execution_count": null,
   "metadata": {},
   "outputs": [],
   "source": [
    "tfidf_matrix = lyrics_clustering.tfidf_matrix(trimmed_corpus, ngram_range=(1, 3))\n",
    "tfidf_matrix.shape"
   ]
  },
  {
   "cell_type": "code",
   "execution_count": 6,
   "metadata": {},
   "outputs": [
    {
     "data": {
      "image/png": "[encoded data removed]",
      "text/plain": [
       "<Figure size 432x288 with 1 Axes>"
      ]
     },
     "metadata": {
      "needs_background": "light"
     },
     "output_type": "display_data"
    }
   ],
   "source": [
    "lyrics_clustering.guess_num_clusters(tfidf_matrix, sample_size=20000, reduction_components=500)"
   ]
  },
  {
   "cell_type": "code",
   "execution_count": 7,
   "metadata": {},
   "outputs": [],
   "source": [
    "centroids = lyrics_clustering.find_centroids(num_clusters=4, tfidf_matrix=tfidf_matrix, reduction_components=500, sample_size=20000)"
   ]
  },
  {
   "cell_type": "code",
   "execution_count": 9,
   "metadata": {},
   "outputs": [
    {
     "data": {
      "text/plain": [
       "(4, 500)"
      ]
     },
     "execution_count": 9,
     "metadata": {},
     "output_type": "execute_result"
    }
   ],
   "source": [
    "centroids.shape"
   ]
  },
  {
   "cell_type": "code",
   "execution_count": 11,
   "metadata": {},
   "outputs": [
    {
     "data": {
      "text/plain": [
       "(43844, 500)"
      ]
     },
     "execution_count": 11,
     "metadata": {},
     "output_type": "execute_result"
    }
   ],
   "source": [
    "tfidf_matrix_reduced = lyrics_clustering.reduce_dimensionality(method='svd', num_components=500, tfidf_matrix=tfidf_matrix)\n",
    "tfidf_matrix_reduced.shape"
   ]
  },
  {
   "cell_type": "code",
   "execution_count": 13,
   "metadata": {},
   "outputs": [
    {
     "name": "stderr",
     "output_type": "stream",
     "text": [
      "/Users/lucamasserano/anaconda3/lib/python3.7/site-packages/sklearn/cluster/k_means_.py:969: RuntimeWarning: Explicit initial center position passed: performing only one init in k-means instead of n_init=10\n",
      "  return_n_iter=True)\n"
     ]
    }
   ],
   "source": [
    "lyrics_clustering.k_means_clustering(4, centroids, tfidf_matrix_reduced)"
   ]
  },
  {
   "cell_type": "code",
   "execution_count": 16,
   "metadata": {},
   "outputs": [
    {
     "data": {
      "text/plain": [
       "array([1, 1, 1, ..., 0, 0, 0], dtype=int32)"
      ]
     },
     "execution_count": 16,
     "metadata": {},
     "output_type": "execute_result"
    }
   ],
   "source": [
    "lyrics_clustering.k_means_model.labels_"
   ]
  },
  {
   "cell_type": "code",
   "execution_count": 36,
   "metadata": {},
   "outputs": [
    {
     "data": {
      "image/png": "[encoded data removed]",
      "text/plain": [
       "<Figure size 720x720 with 1 Axes>"
      ]
     },
     "metadata": {
      "needs_background": "light"
     },
     "output_type": "display_data"
    }
   ],
   "source": [
    "plot_vectors(tfidf_matrix_reduced, labels=lyrics_clustering.k_means_model.labels_, dimensions=3, view_init=(30, 182))"
   ]
  },
  {
   "cell_type": "markdown",
   "metadata": {},
   "source": [
    "## Analysis of resulting clusters"
   ]
  },
  {
   "cell_type": "markdown",
   "metadata": {},
   "source": [
    "### Cluster 0"
   ]
  },
  {
   "cell_type": "code",
   "execution_count": 43,
   "metadata": {},
   "outputs": [
    {
     "name": "stdout",
     "output_type": "stream",
     "text": [
      "Hip-Hop (1766, 7)\n",
      "Rock (14176, 7)\n",
      "Pop (8331, 7)\n",
      "Folk (578, 7)\n",
      "Electronic (1206, 7)\n",
      "Reggae (187, 7)\n",
      "Other (1401, 7)\n",
      "Metal (1372, 7)\n",
      "Jazz (1353, 7)\n",
      "Gospel (561, 7)\n",
      "Indie (552, 7)\n",
      "Country (3556, 7)\n",
      "R&B (1279, 7)\n"
     ]
    }
   ],
   "source": [
    "label_df = lyrics_df.loc[lyrics_clustering.k_means_model.labels_ == 0, :]\n",
    "for genre in label_df.genre.unique():\n",
    "    print(genre, label_df.loc[label_df.genre == genre, :].shape)"
   ]
  },
  {
   "cell_type": "markdown",
   "metadata": {},
   "source": [
    "### Cluster 1"
   ]
  },
  {
   "cell_type": "code",
   "execution_count": 44,
   "metadata": {},
   "outputs": [
    {
     "name": "stdout",
     "output_type": "stream",
     "text": [
      "Hip-Hop (3731, 7)\n",
      "Rock (453, 7)\n",
      "Pop (691, 7)\n",
      "Folk (7, 7)\n",
      "Other (173, 7)\n",
      "Gospel (17, 7)\n",
      "Jazz (41, 7)\n",
      "R&B (97, 7)\n",
      "Reggae (4, 7)\n",
      "Country (38, 7)\n",
      "Electronic (74, 7)\n",
      "Metal (27, 7)\n",
      "Indie (12, 7)\n"
     ]
    }
   ],
   "source": [
    "label_df = lyrics_df.loc[lyrics_clustering.k_means_model.labels_ == 1, :]\n",
    "for genre in label_df.genre.unique():\n",
    "    print(genre, label_df.loc[label_df.genre == genre, :].shape)"
   ]
  },
  {
   "cell_type": "code",
   "execution_count": 52,
   "metadata": {
    "scrolled": true
   },
   "outputs": [
    {
     "data": {
      "text/plain": [
       "5365"
      ]
     },
     "execution_count": 52,
     "metadata": {},
     "output_type": "execute_result"
    }
   ],
   "source": [
    "cluster_1_corpus = np.array(lyrics_clustering.preprocessed_corpus)[\n",
    "                lyrics_df.loc[lyrics_clustering.k_means_model.labels_ == 1, :].index\n",
    "                ].tolist()\n",
    "len(cluster_1_corpus)"
   ]
  },
  {
   "cell_type": "code",
   "execution_count": 54,
   "metadata": {
    "scrolled": true
   },
   "outputs": [
    {
     "name": "stdout",
     "output_type": "stream",
     "text": [
      "Joining tokens for each lyrics ...\n"
     ]
    },
    {
     "name": "stderr",
     "output_type": "stream",
     "text": [
      "100%|██████████| 5365/5365 [00:00<00:00, 90793.13it/s]"
     ]
    },
    {
     "name": "stdout",
     "output_type": "stream",
     "text": [
      "Fitting TFIDF vectorizer ...\n"
     ]
    },
    {
     "name": "stderr",
     "output_type": "stream",
     "text": [
      "\n"
     ]
    },
    {
     "data": {
      "text/html": [
       "<div>\n",
       "<style scoped>\n",
       "    .dataframe tbody tr th:only-of-type {\n",
       "        vertical-align: middle;\n",
       "    }\n",
       "\n",
       "    .dataframe tbody tr th {\n",
       "        vertical-align: top;\n",
       "    }\n",
       "\n",
       "    .dataframe thead th {\n",
       "        text-align: right;\n",
       "    }\n",
       "</style>\n",
       "<table border=\"1\" class=\"dataframe\">\n",
       "  <thead>\n",
       "    <tr style=\"text-align: right;\">\n",
       "      <th></th>\n",
       "      <th>ngram</th>\n",
       "      <th>tfidf</th>\n",
       "    </tr>\n",
       "  </thead>\n",
       "  <tbody>\n",
       "    <tr>\n",
       "      <th>0</th>\n",
       "      <td>yeah</td>\n",
       "      <td>133.773345</td>\n",
       "    </tr>\n",
       "    <tr>\n",
       "      <th>1</th>\n",
       "      <td>bitch</td>\n",
       "      <td>128.983804</td>\n",
       "    </tr>\n",
       "    <tr>\n",
       "      <th>2</th>\n",
       "      <td>shit</td>\n",
       "      <td>118.777578</td>\n",
       "    </tr>\n",
       "    <tr>\n",
       "      <th>3</th>\n",
       "      <td>say</td>\n",
       "      <td>115.325276</td>\n",
       "    </tr>\n",
       "    <tr>\n",
       "      <th>4</th>\n",
       "      <td>make</td>\n",
       "      <td>114.993388</td>\n",
       "    </tr>\n",
       "    <tr>\n",
       "      <th>5</th>\n",
       "      <td>fuck</td>\n",
       "      <td>113.980026</td>\n",
       "    </tr>\n",
       "    <tr>\n",
       "      <th>6</th>\n",
       "      <td>nigga</td>\n",
       "      <td>111.712737</td>\n",
       "    </tr>\n",
       "    <tr>\n",
       "      <th>7</th>\n",
       "      <td>come</td>\n",
       "      <td>104.833993</td>\n",
       "    </tr>\n",
       "    <tr>\n",
       "      <th>8</th>\n",
       "      <td>let</td>\n",
       "      <td>99.330312</td>\n",
       "    </tr>\n",
       "    <tr>\n",
       "      <th>9</th>\n",
       "      <td>tell</td>\n",
       "      <td>98.222956</td>\n",
       "    </tr>\n",
       "    <tr>\n",
       "      <th>10</th>\n",
       "      <td>like</td>\n",
       "      <td>98.185023</td>\n",
       "    </tr>\n",
       "    <tr>\n",
       "      <th>11</th>\n",
       "      <td>man</td>\n",
       "      <td>94.227149</td>\n",
       "    </tr>\n",
       "    <tr>\n",
       "      <th>12</th>\n",
       "      <td>want</td>\n",
       "      <td>94.177266</td>\n",
       "    </tr>\n",
       "    <tr>\n",
       "      <th>13</th>\n",
       "      <td>time</td>\n",
       "      <td>92.726203</td>\n",
       "    </tr>\n",
       "    <tr>\n",
       "      <th>14</th>\n",
       "      <td>money</td>\n",
       "      <td>92.543963</td>\n",
       "    </tr>\n",
       "    <tr>\n",
       "      <th>15</th>\n",
       "      <td>love</td>\n",
       "      <td>88.495451</td>\n",
       "    </tr>\n",
       "    <tr>\n",
       "      <th>16</th>\n",
       "      <td>think</td>\n",
       "      <td>86.742603</td>\n",
       "    </tr>\n",
       "    <tr>\n",
       "      <th>17</th>\n",
       "      <td>look</td>\n",
       "      <td>84.803345</td>\n",
       "    </tr>\n",
       "    <tr>\n",
       "      <th>18</th>\n",
       "      <td>right</td>\n",
       "      <td>84.557981</td>\n",
       "    </tr>\n",
       "    <tr>\n",
       "      <th>19</th>\n",
       "      <td>need</td>\n",
       "      <td>83.641678</td>\n",
       "    </tr>\n",
       "    <tr>\n",
       "      <th>20</th>\n",
       "      <td>girl</td>\n",
       "      <td>83.444799</td>\n",
       "    </tr>\n",
       "    <tr>\n",
       "      <th>21</th>\n",
       "      <td>niggas</td>\n",
       "      <td>80.459238</td>\n",
       "    </tr>\n",
       "    <tr>\n",
       "      <th>22</th>\n",
       "      <td>ass</td>\n",
       "      <td>78.724598</td>\n",
       "    </tr>\n",
       "    <tr>\n",
       "      <th>23</th>\n",
       "      <td>way</td>\n",
       "      <td>78.276993</td>\n",
       "    </tr>\n",
       "    <tr>\n",
       "      <th>24</th>\n",
       "      <td>good</td>\n",
       "      <td>76.871238</td>\n",
       "    </tr>\n",
       "    <tr>\n",
       "      <th>25</th>\n",
       "      <td>hit</td>\n",
       "      <td>76.670567</td>\n",
       "    </tr>\n",
       "    <tr>\n",
       "      <th>26</th>\n",
       "      <td>real</td>\n",
       "      <td>75.888837</td>\n",
       "    </tr>\n",
       "    <tr>\n",
       "      <th>27</th>\n",
       "      <td>feel</td>\n",
       "      <td>75.692642</td>\n",
       "    </tr>\n",
       "    <tr>\n",
       "      <th>28</th>\n",
       "      <td>baby</td>\n",
       "      <td>74.371848</td>\n",
       "    </tr>\n",
       "    <tr>\n",
       "      <th>29</th>\n",
       "      <td>life</td>\n",
       "      <td>72.340116</td>\n",
       "    </tr>\n",
       "    <tr>\n",
       "      <th>30</th>\n",
       "      <td>gon</td>\n",
       "      <td>71.797657</td>\n",
       "    </tr>\n",
       "  </tbody>\n",
       "</table>\n",
       "</div>"
      ],
      "text/plain": [
       "     ngram       tfidf\n",
       "0     yeah  133.773345\n",
       "1    bitch  128.983804\n",
       "2     shit  118.777578\n",
       "3      say  115.325276\n",
       "4     make  114.993388\n",
       "5     fuck  113.980026\n",
       "6    nigga  111.712737\n",
       "7     come  104.833993\n",
       "8      let   99.330312\n",
       "9     tell   98.222956\n",
       "10    like   98.185023\n",
       "11     man   94.227149\n",
       "12    want   94.177266\n",
       "13    time   92.726203\n",
       "14   money   92.543963\n",
       "15    love   88.495451\n",
       "16   think   86.742603\n",
       "17    look   84.803345\n",
       "18   right   84.557981\n",
       "19    need   83.641678\n",
       "20    girl   83.444799\n",
       "21  niggas   80.459238\n",
       "22     ass   78.724598\n",
       "23     way   78.276993\n",
       "24    good   76.871238\n",
       "25     hit   76.670567\n",
       "26    real   75.888837\n",
       "27    feel   75.692642\n",
       "28    baby   74.371848\n",
       "29    life   72.340116\n",
       "30     gon   71.797657"
      ]
     },
     "execution_count": 54,
     "metadata": {},
     "output_type": "execute_result"
    }
   ],
   "source": [
    "tfidf_cluster_1 = lyrics_clustering.tfidf_model.fit_transform(preprocessed_corpus=cluster_1_corpus,\n",
    "                                                             save_attributes=False, ngram_range=(1,3), topn=30)\n",
    "tfidf_cluster_1"
   ]
  },
  {
   "cell_type": "markdown",
   "metadata": {},
   "source": [
    "### Cluster 2"
   ]
  },
  {
   "cell_type": "code",
   "execution_count": 45,
   "metadata": {},
   "outputs": [
    {
     "name": "stdout",
     "output_type": "stream",
     "text": [
      "Hip-Hop (191, 7)\n",
      "Rock (515, 7)\n",
      "Pop (679, 7)\n",
      "Electronic (70, 7)\n",
      "Reggae (10, 7)\n",
      "Other (77, 7)\n",
      "Jazz (22, 7)\n",
      "R&B (117, 7)\n",
      "Indie (52, 7)\n",
      "Folk (17, 7)\n",
      "Country (66, 7)\n",
      "Gospel (32, 7)\n",
      "Metal (22, 7)\n"
     ]
    }
   ],
   "source": [
    "label_df = lyrics_df.loc[lyrics_clustering.k_means_model.labels_ == 2, :]\n",
    "for genre in label_df.genre.unique():\n",
    "    print(genre, label_df.loc[label_df.genre == genre, :].shape)"
   ]
  },
  {
   "cell_type": "markdown",
   "metadata": {},
   "source": [
    "### Cluster 3 "
   ]
  },
  {
   "cell_type": "code",
   "execution_count": 46,
   "metadata": {},
   "outputs": [
    {
     "name": "stdout",
     "output_type": "stream",
     "text": [
      "Hip-Hop (24, 7)\n",
      "Rock (101, 7)\n",
      "Pop (95, 7)\n",
      "Electronic (11, 7)\n",
      "Other (23, 7)\n",
      "Jazz (5, 7)\n",
      "Gospel (3, 7)\n",
      "R&B (9, 7)\n",
      "Reggae (1, 7)\n",
      "Country (6, 7)\n",
      "Indie (7, 7)\n",
      "Folk (3, 7)\n",
      "Metal (3, 7)\n"
     ]
    }
   ],
   "source": [
    "label_df = lyrics_df.loc[lyrics_clustering.k_means_model.labels_ == 3, :]\n",
    "for genre in label_df.genre.unique():\n",
    "    print(genre, label_df.loc[label_df.genre == genre, :].shape)"
   ]
  },
  {
   "cell_type": "code",
   "execution_count": null,
   "metadata": {},
   "outputs": [],
   "source": []
  }
 ],
 "metadata": {
  "kernelspec": {
   "display_name": "Python 3",
   "language": "python",
   "name": "python3"
  },
  "language_info": {
   "codemirror_mode": {
    "name": "ipython",
    "version": 3
   },
   "file_extension": ".py",
   "mimetype": "text/x-python",
   "name": "python",
   "nbconvert_exporter": "python",
   "pygments_lexer": "ipython3",
   "version": "3.7.3"
  }
 },
 "nbformat": 4,
 "nbformat_minor": 4
}
