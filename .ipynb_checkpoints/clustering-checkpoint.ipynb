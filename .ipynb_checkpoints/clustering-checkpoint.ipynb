{
 "cells": [
  {
   "cell_type": "code",
   "execution_count": 2,
   "metadata": {},
   "outputs": [],
   "source": [
    "import pandas as pd\n",
    "import numpy as np\n",
    "import tqdm\n",
    "\n",
    "import nbimporter\n",
    "from tfidf import LyricsTFIDF\n",
    "from sklearn.cluster import KMeans, AgglomerativeClustering\n",
    "from scipy.cluster.hierarchy import linkage, dendrogram"
   ]
  },
  {
   "cell_type": "code",
   "execution_count": null,
   "metadata": {},
   "outputs": [],
   "source": [
    "class LyricsClustering():\n",
    "    \n",
    "    def __init__(self, lyrics_df, preprocessed_corpus):\n",
    "        \n",
    "        self.lyrics_df = lyrics_df\n",
    "        self.preprocessed_corpus = preprocessed_corpus\n",
    "        self.tfidf_model = LyricsTFIDF(lyrics_df, preprocessed_corpus)\n",
    "        \n",
    "        \n",
    "    def tfidf_matrix(self, preprocessed_corpus=None, ngram_range=(1,1), **kwargs):\n",
    "        \n",
    "        tfidf_dataframe = self.tfidf_model.fit_transform(preprocessed_corpus=preprocessed_corpus, ngram_range=ngram_range, **kwargs)\n",
    "        self.tfidf_matrix = self.tfidf_model.tfidf_matrix\n",
    "        \n",
    "        return self.tfidf_matrix\n",
    "    \n",
    "    \n",
    "    def guess_num_clusters(self, )\n",
    "    \n",
    "    \n",
    "    def find_centroids(self, num_clusters, tfidf_matrix=None, reduction_components=300):\n",
    "        \n",
    "        if tfidf_matrix is None:\n",
    "            tfidf_matrix = self.tfidf_matrix\n",
    "\n",
    "        # reduce the dimensionality of the input, to speed up clustering\n",
    "        tfidf_matrix_reduced = TruncatedSVD(n_components=reduction_components).fit_transform(tfidf_matrix)\n",
    "\n",
    "        agg = AgglomerativeClustering(n_clusters=num_clusters)\n",
    "        \n",
    "        sample = np.random.choice(len(X2), replace=False, size=8000)\n",
    "        agg_sample_ids = agg.fit_predict(X2[sample])     "
   ]
  }
 ],
 "metadata": {
  "kernelspec": {
   "display_name": "Python 3",
   "language": "python",
   "name": "python3"
  },
  "language_info": {
   "codemirror_mode": {
    "name": "ipython",
    "version": 3
   },
   "file_extension": ".py",
   "mimetype": "text/x-python",
   "name": "python",
   "nbconvert_exporter": "python",
   "pygments_lexer": "ipython3",
   "version": "3.7.3"
  }
 },
 "nbformat": 4,
 "nbformat_minor": 4
}
