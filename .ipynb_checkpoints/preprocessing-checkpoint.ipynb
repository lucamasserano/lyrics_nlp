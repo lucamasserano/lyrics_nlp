{
 "cells": [
  {
   "cell_type": "markdown",
   "metadata": {},
   "source": [
    "# TEXT PREPROCESSING"
   ]
  },
  {
   "cell_type": "code",
   "execution_count": 1,
   "metadata": {},
   "outputs": [],
   "source": [
    "from tqdm import tqdm # progress bar when long task\n",
    "import pandas as pd\n",
    "import numpy as np\n",
    "import spacy\n",
    "import pickle\n",
    "import re"
   ]
  },
  {
   "cell_type": "code",
   "execution_count": 2,
   "metadata": {},
   "outputs": [
    {
     "data": {
      "text/plain": [
       "(43844, 7)"
      ]
     },
     "execution_count": 2,
     "metadata": {},
     "output_type": "execute_result"
    }
   ],
   "source": [
    "lyrics_df = pd.read_csv(\"/Users/lucamasserano/Desktop/BOCCONI/nlp/final_project/lyrics_project/data/lyrics_cleaned.csv\")\n",
    "lyrics_df.shape"
   ]
  },
  {
   "cell_type": "code",
   "execution_count": 3,
   "metadata": {},
   "outputs": [],
   "source": [
    "nlp = spacy.load(\"en\")"
   ]
  },
  {
   "cell_type": "markdown",
   "metadata": {},
   "source": [
    "Example: Racing in the Street, Bruce Springsteen"
   ]
  },
  {
   "cell_type": "code",
   "execution_count": 4,
   "metadata": {
    "scrolled": true
   },
   "outputs": [
    {
     "data": {
      "text/plain": [
       "\" I got a sixty-nine Chevy with a 396 Fuelie heads and a Hurst on the floor She’s waiting tonight down in the parking lot Outside the Seven-Eleven store Me and my partner Sonny built her straight out of scratch And he rides with me from town to town We only run for the money got no strings attached We shut ’em up and then we shut ’em down   Tonight, tonight the strip’s just right I wanna blow 'em off in my first heat Summer’s here and the time is right For racin’ in the street   We take all the action we can meet And we cover all the northeast states When the strip shuts down we run ’em in the street From the fire roads to the interstate Now some guys they just give up living And start dying little by little, piece by piece Some guys come home from work and wash up Then go racin’ in the street   Tonight, tonight the strip’s just right I wanna blow ’em all out of their seats We're calling out around the world We’re going racin’ in the street   I met her on the strip three years ago In a Camaro with this dude from L.A I blew that Camaro off my back and drove that little girl away But now there’s wrinkles around my baby’s eyes And she cries herself to sleep at night When I come home the house is dark She sighs “Baby did you make it all right” She sits on the porch of her daddy’s house But all her pretty dreams are torn She stares off alone into the night With the eyes of one who hates for just being born  For all the shut-down strangers and hot rod angels Rumbling through this promised land Tonight my baby and me we’re gonna ride to the sea And wash these sins off our hands   Tonight tonight the highway’s bright Out of our way mister you best keep 'Cause summer’s here and the time is right For racin’ in the street\""
      ]
     },
     "execution_count": 4,
     "metadata": {},
     "output_type": "execute_result"
    }
   ],
   "source": [
    "lyrics_df.loc[4758, \"lyrics\"]"
   ]
  },
  {
   "cell_type": "markdown",
   "metadata": {},
   "source": [
    "## Common preprocessing"
   ]
  },
  {
   "cell_type": "markdown",
   "metadata": {},
   "source": [
    "### 1. Lowercase "
   ]
  },
  {
   "cell_type": "code",
   "execution_count": 14,
   "metadata": {},
   "outputs": [],
   "source": [
    "lyrics_df.loc[:, \"lyrics\"] = lyrics_df.lyrics.apply(lambda text: text.strip().lower())"
   ]
  },
  {
   "cell_type": "code",
   "execution_count": 15,
   "metadata": {
    "scrolled": true
   },
   "outputs": [
    {
     "data": {
      "text/plain": [
       "'i got a sixty-nine chevy with a 000 fuelie heads and a hurst on the floor she’s waiting tonight down'"
      ]
     },
     "execution_count": 15,
     "metadata": {},
     "output_type": "execute_result"
    }
   ],
   "source": [
    "lyrics_df.loc[4758, \"lyrics\"][:100]"
   ]
  },
  {
   "cell_type": "markdown",
   "metadata": {},
   "source": [
    "### 2. Replace numbers"
   ]
  },
  {
   "cell_type": "code",
   "execution_count": 10,
   "metadata": {},
   "outputs": [],
   "source": [
    "numbers = re.compile('[0-9]')\n",
    "lyrics_df.loc[:, \"lyrics\"] = lyrics_df.lyrics.apply(lambda text: re.sub(numbers, \"0\", text))"
   ]
  },
  {
   "cell_type": "code",
   "execution_count": 18,
   "metadata": {},
   "outputs": [
    {
     "data": {
      "text/plain": [
       "'i got a sixty-nine chevy with a 000 fuelie heads and a hurst on the floor she’s waiting tonight down'"
      ]
     },
     "execution_count": 18,
     "metadata": {},
     "output_type": "execute_result"
    }
   ],
   "source": [
    "lyrics_df.loc[4758, \"lyrics\"][:100]"
   ]
  },
  {
   "cell_type": "markdown",
   "metadata": {},
   "source": [
    "## Tokenization"
   ]
  },
  {
   "cell_type": "code",
   "execution_count": null,
   "metadata": {},
   "outputs": [],
   "source": [
    "tokenized_corpus = [[token.text for token in nlp(lyrics)] for lyrics in tqdm(lyrics_df.loc[:, \"lyrics\"].to_list())]"
   ]
  },
  {
   "cell_type": "code",
   "execution_count": null,
   "metadata": {},
   "outputs": [],
   "source": [
    "# tokenization took some time to finish. Let's pickle it to make it easily reusable\n",
    "with open('./data/tokenized_corpus.pickle', 'wb') as pickled_object:\n",
    "    pickle.dump(tokenized_corpus, pickled_object)"
   ]
  },
  {
   "cell_type": "code",
   "execution_count": null,
   "metadata": {},
   "outputs": [],
   "source": [
    "# open pickled tokenized corpus\n",
    "with open('./data/tokenized_corpus.pickle', \"rb\") as pickled_object:\n",
    "    tokenized_corpus = pickle.load(pickled_object)"
   ]
  },
  {
   "cell_type": "code",
   "execution_count": null,
   "metadata": {
    "scrolled": true
   },
   "outputs": [],
   "source": [
    "tokenized_corpus[5001]"
   ]
  },
  {
   "cell_type": "markdown",
   "metadata": {},
   "source": [
    "## Lemmatization, Stopwords and Punctuation"
   ]
  },
  {
   "cell_type": "code",
   "execution_count": null,
   "metadata": {},
   "outputs": [],
   "source": [
    "lemmatized_corpus = []\n",
    "trimmed_lemmatized_corpus = []\n",
    "for lyrics in tqdm(lyrics_df.loc[:, \"lyrics\"].to_list()):\n",
    "    lemmas = []\n",
    "    trimmed_lemmas = []\n",
    "    for token in nlp(lyrics):\n",
    "        lemma = token.lemma_\n",
    "        lemmas.append(lemma)\n",
    "        if (not token.is_stop) & (not token.is_punct):\n",
    "            trimmed_lemmas.append(lemma)\n",
    "    lemmatized_corpus.append(lemmas)\n",
    "    trimmed_lemmatized_corpus.append(trimmed_lemmas)"
   ]
  },
  {
   "cell_type": "code",
   "execution_count": null,
   "metadata": {},
   "outputs": [],
   "source": [
    "# lemmatization took some time to finish. Let's pickle it to make it easily reusable\n",
    "with open('./data/lemmatized_corpus.pickle', 'wb') as pickled_object:\n",
    "    pickle.dump(lemmatized_corpus, pickled_object)\n",
    "    \n",
    "with open('./data/trimmed_lemmatized_corpus.pickle', 'wb') as pickled_object:\n",
    "    pickle.dump(trimmed_lemmatized_corpus, pickled_object)"
   ]
  },
  {
   "cell_type": "code",
   "execution_count": 12,
   "metadata": {},
   "outputs": [],
   "source": [
    "# open pickled lemmatized and trimmed corpus\n",
    "with open('./data/lemmatized_corpus.pickle', \"rb\") as pickled_object:\n",
    "    lemmatized_corpus = pickle.load(pickled_object)\n",
    "\n",
    "with open('./data/trimmed_lemmatized_corpus.pickle', \"rb\") as pickled_object:\n",
    "    trimmed_lemmatized_corpus = pickle.load(pickled_object)"
   ]
  },
  {
   "cell_type": "code",
   "execution_count": 13,
   "metadata": {
    "scrolled": true
   },
   "outputs": [
    {
     "data": {
      "text/plain": [
       "[' ',\n",
       " 'i',\n",
       " 'get',\n",
       " 'a',\n",
       " 'sixty',\n",
       " '-',\n",
       " 'nine',\n",
       " 'chevy',\n",
       " 'with',\n",
       " 'a',\n",
       " '396',\n",
       " 'fuelie',\n",
       " 'head',\n",
       " 'and',\n",
       " 'a',\n",
       " 'hurst',\n",
       " 'on',\n",
       " 'the',\n",
       " 'floor',\n",
       " '-PRON-',\n",
       " '’',\n",
       " 'wait',\n",
       " 'tonight',\n",
       " 'down',\n",
       " 'in',\n",
       " 'the',\n",
       " 'parking',\n",
       " 'lot',\n",
       " 'outside',\n",
       " 'the',\n",
       " 'seven',\n",
       " '-',\n",
       " 'eleven',\n",
       " 'store',\n",
       " '-PRON-',\n",
       " 'and',\n",
       " '-PRON-',\n",
       " 'partner',\n",
       " 'sonny',\n",
       " 'build',\n",
       " '-PRON-',\n",
       " 'straight',\n",
       " 'out',\n",
       " 'of',\n",
       " 'scratch',\n",
       " 'and',\n",
       " '-PRON-',\n",
       " 'ride',\n",
       " 'with',\n",
       " '-PRON-',\n",
       " 'from',\n",
       " 'town',\n",
       " 'to',\n",
       " 'town',\n",
       " '-PRON-',\n",
       " 'only',\n",
       " 'run',\n",
       " 'for',\n",
       " 'the',\n",
       " 'money',\n",
       " 'get',\n",
       " 'no',\n",
       " 'string',\n",
       " 'attach',\n",
       " '-PRON-',\n",
       " 'shut',\n",
       " '-PRON-',\n",
       " 'up',\n",
       " 'and',\n",
       " 'then',\n",
       " '-PRON-',\n",
       " 'shut',\n",
       " '-PRON-',\n",
       " 'down',\n",
       " '  ',\n",
       " 'tonight',\n",
       " ',',\n",
       " 'tonight',\n",
       " 'the',\n",
       " 'strip',\n",
       " '’',\n",
       " 'just',\n",
       " 'right',\n",
       " 'i',\n",
       " 'wanna',\n",
       " 'blow',\n",
       " '-PRON-',\n",
       " 'off',\n",
       " 'in',\n",
       " '-PRON-',\n",
       " 'first',\n",
       " 'heat',\n",
       " 'summer',\n",
       " '’s',\n",
       " 'here',\n",
       " 'and',\n",
       " 'the',\n",
       " 'time',\n",
       " 'be',\n",
       " 'right',\n",
       " 'for',\n",
       " 'racin',\n",
       " \"'\",\n",
       " 'in',\n",
       " 'the',\n",
       " 'street',\n",
       " '  ',\n",
       " '-PRON-',\n",
       " 'take',\n",
       " 'all',\n",
       " 'the',\n",
       " 'action',\n",
       " '-PRON-',\n",
       " 'can',\n",
       " 'meet',\n",
       " 'and',\n",
       " '-PRON-',\n",
       " 'cover',\n",
       " 'all',\n",
       " 'the',\n",
       " 'northeast',\n",
       " 'state',\n",
       " 'when',\n",
       " 'the',\n",
       " 'strip',\n",
       " 'shut',\n",
       " 'down',\n",
       " '-PRON-',\n",
       " 'run',\n",
       " '-PRON-',\n",
       " 'in',\n",
       " 'the',\n",
       " 'street',\n",
       " 'from',\n",
       " 'the',\n",
       " 'fire',\n",
       " 'road',\n",
       " 'to',\n",
       " 'the',\n",
       " 'interstate',\n",
       " 'now',\n",
       " 'some',\n",
       " 'guy',\n",
       " '-PRON-',\n",
       " 'just',\n",
       " 'give',\n",
       " 'up',\n",
       " 'living',\n",
       " 'and',\n",
       " 'start',\n",
       " 'die',\n",
       " 'little',\n",
       " 'by',\n",
       " 'little',\n",
       " ',',\n",
       " 'piece',\n",
       " 'by',\n",
       " 'piece',\n",
       " 'some',\n",
       " 'guy',\n",
       " 'come',\n",
       " 'home',\n",
       " 'from',\n",
       " 'work',\n",
       " 'and',\n",
       " 'wash',\n",
       " 'up',\n",
       " 'then',\n",
       " 'go',\n",
       " 'racin',\n",
       " \"'\",\n",
       " 'in',\n",
       " 'the',\n",
       " 'street',\n",
       " '  ',\n",
       " 'tonight',\n",
       " ',',\n",
       " 'tonight',\n",
       " 'the',\n",
       " 'strip',\n",
       " '’',\n",
       " 'just',\n",
       " 'right',\n",
       " 'i',\n",
       " 'wanna',\n",
       " 'blow',\n",
       " '-PRON-',\n",
       " 'all',\n",
       " 'out',\n",
       " 'of',\n",
       " '-PRON-',\n",
       " 'seat',\n",
       " '-PRON-',\n",
       " 'be',\n",
       " 'call',\n",
       " 'out',\n",
       " 'around',\n",
       " 'the',\n",
       " 'world',\n",
       " '-PRON-',\n",
       " 'be',\n",
       " 'go',\n",
       " 'racin',\n",
       " \"'\",\n",
       " 'in',\n",
       " 'the',\n",
       " 'street',\n",
       " '  ',\n",
       " 'i',\n",
       " 'meet',\n",
       " '-PRON-',\n",
       " 'on',\n",
       " 'the',\n",
       " 'strip',\n",
       " 'three',\n",
       " 'year',\n",
       " 'ago',\n",
       " 'in',\n",
       " 'a',\n",
       " 'camaro',\n",
       " 'with',\n",
       " 'this',\n",
       " 'dude',\n",
       " 'from',\n",
       " 'l.a',\n",
       " 'i',\n",
       " 'blow',\n",
       " 'that',\n",
       " 'camaro',\n",
       " 'off',\n",
       " '-PRON-',\n",
       " 'back',\n",
       " 'and',\n",
       " 'drive',\n",
       " 'that',\n",
       " 'little',\n",
       " 'girl',\n",
       " 'away',\n",
       " 'but',\n",
       " 'now',\n",
       " 'there',\n",
       " '’',\n",
       " 'wrinkle',\n",
       " 'around',\n",
       " '-PRON-',\n",
       " 'baby',\n",
       " '’',\n",
       " 'eye',\n",
       " 'and',\n",
       " '-PRON-',\n",
       " 'cry',\n",
       " '-PRON-',\n",
       " 'to',\n",
       " 'sleep',\n",
       " 'at',\n",
       " 'night',\n",
       " 'when',\n",
       " 'i',\n",
       " 'come',\n",
       " 'home',\n",
       " 'the',\n",
       " 'house',\n",
       " 'be',\n",
       " 'dark',\n",
       " '-PRON-',\n",
       " 'sigh',\n",
       " '\"',\n",
       " 'baby',\n",
       " 'do',\n",
       " '-PRON-',\n",
       " 'make',\n",
       " '-PRON-',\n",
       " 'all',\n",
       " 'right',\n",
       " '\"',\n",
       " '-PRON-',\n",
       " 'sit',\n",
       " 'on',\n",
       " 'the',\n",
       " 'porch',\n",
       " 'of',\n",
       " '-PRON-',\n",
       " 'daddy',\n",
       " '’s',\n",
       " 'house',\n",
       " 'but',\n",
       " 'all',\n",
       " '-PRON-',\n",
       " 'pretty',\n",
       " 'dream',\n",
       " 'be',\n",
       " 'tear',\n",
       " '-PRON-',\n",
       " 'stare',\n",
       " 'off',\n",
       " 'alone',\n",
       " 'into',\n",
       " 'the',\n",
       " 'night',\n",
       " 'with',\n",
       " 'the',\n",
       " 'eye',\n",
       " 'of',\n",
       " 'one',\n",
       " 'who',\n",
       " 'hate',\n",
       " 'for',\n",
       " 'just',\n",
       " 'be',\n",
       " 'bear',\n",
       " ' ',\n",
       " 'for',\n",
       " 'all',\n",
       " 'the',\n",
       " 'shut',\n",
       " '-',\n",
       " 'down',\n",
       " 'stranger',\n",
       " 'and',\n",
       " 'hot',\n",
       " 'rod',\n",
       " 'angel',\n",
       " 'rumble',\n",
       " 'through',\n",
       " 'this',\n",
       " 'promise',\n",
       " 'land',\n",
       " 'tonight',\n",
       " '-PRON-',\n",
       " 'baby',\n",
       " 'and',\n",
       " '-PRON-',\n",
       " '-PRON-',\n",
       " 'be',\n",
       " 'go',\n",
       " 'to',\n",
       " 'ride',\n",
       " 'to',\n",
       " 'the',\n",
       " 'sea',\n",
       " 'and',\n",
       " 'wash',\n",
       " 'these',\n",
       " 'sin',\n",
       " 'off',\n",
       " '-PRON-',\n",
       " 'hand',\n",
       " '  ',\n",
       " 'tonight',\n",
       " 'tonight',\n",
       " 'the',\n",
       " 'highway',\n",
       " '’s',\n",
       " 'bright',\n",
       " 'out',\n",
       " 'of',\n",
       " '-PRON-',\n",
       " 'way',\n",
       " 'mister',\n",
       " '-PRON-',\n",
       " 'best',\n",
       " 'keep',\n",
       " 'because',\n",
       " 'summer',\n",
       " '’s',\n",
       " 'here',\n",
       " 'and',\n",
       " 'the',\n",
       " 'time',\n",
       " 'be',\n",
       " 'right',\n",
       " 'for',\n",
       " 'racin',\n",
       " \"'\",\n",
       " 'in',\n",
       " 'the',\n",
       " 'street']"
      ]
     },
     "execution_count": 13,
     "metadata": {},
     "output_type": "execute_result"
    }
   ],
   "source": [
    "lemmatized_corpus[4758]"
   ]
  },
  {
   "cell_type": "code",
   "execution_count": null,
   "metadata": {
    "scrolled": true
   },
   "outputs": [],
   "source": [
    "trimmed_lemmatized_corpus[5001]"
   ]
  },
  {
   "cell_type": "markdown",
   "metadata": {},
   "source": [
    "# STATISTICS "
   ]
  },
  {
   "cell_type": "markdown",
   "metadata": {},
   "source": [
    "## Tokens "
   ]
  },
  {
   "cell_type": "code",
   "execution_count": null,
   "metadata": {},
   "outputs": [],
   "source": []
  },
  {
   "cell_type": "markdown",
   "metadata": {},
   "source": [
    "## Types"
   ]
  },
  {
   "cell_type": "code",
   "execution_count": null,
   "metadata": {},
   "outputs": [],
   "source": []
  },
  {
   "cell_type": "markdown",
   "metadata": {},
   "source": [
    "## Collocations"
   ]
  },
  {
   "cell_type": "code",
   "execution_count": null,
   "metadata": {},
   "outputs": [],
   "source": []
  },
  {
   "cell_type": "markdown",
   "metadata": {},
   "source": [
    "# ANALYSIS-SPECIFIC PREPROCESSING  "
   ]
  },
  {
   "cell_type": "markdown",
   "metadata": {},
   "source": [
    "## 1. TF-IDF"
   ]
  },
  {
   "cell_type": "code",
   "execution_count": 23,
   "metadata": {},
   "outputs": [],
   "source": [
    "def tfidf_preprocess(lyrics_df):\n",
    "    \n",
    "    import spacy\n",
    "    nlp = spacy.load(\"en\")\n",
    "    \n",
    "    # lowercase\n",
    "    lyrics_df.loc[:, \"lyrics\"] = lyrics_df.lyrics.apply(lambda text: text.strip().lower())\n",
    "    \n",
    "    # replace numbers\n",
    "    numbers = re.compile('[0-9]')\n",
    "    lyrics_df.loc[:, \"lyrics\"] = lyrics_df.lyrics.apply(lambda text: re.sub(numbers, \"0\", text))\n",
    "    \n",
    "    # lemmatize with POS constraints\n",
    "    lyrics_df.loc[:, \"lyrics\"] = tqdm(lyrics_df.lyrics.apply(lambda text:\\\n",
    "                    ' '.join([token.lemma_ for token in nlp(text) if token.pos_ in {'NOUN', 'VERB', 'ADJ', 'ADV', 'INTJ', 'X'}])))\n",
    "    \n",
    "    return lyrics_df.lyrics.to_list()"
   ]
  },
  {
   "cell_type": "code",
   "execution_count": null,
   "metadata": {},
   "outputs": [],
   "source": []
  }
 ],
 "metadata": {
  "kernelspec": {
   "display_name": "Python 3",
   "language": "python",
   "name": "python3"
  },
  "language_info": {
   "codemirror_mode": {
    "name": "ipython",
    "version": 3
   },
   "file_extension": ".py",
   "mimetype": "text/x-python",
   "name": "python",
   "nbconvert_exporter": "python",
   "pygments_lexer": "ipython3",
   "version": "3.7.3"
  }
 },
 "nbformat": 4,
 "nbformat_minor": 4
}
