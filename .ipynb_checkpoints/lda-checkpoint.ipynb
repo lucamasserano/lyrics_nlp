{
 "cells": [
  {
   "cell_type": "code",
   "execution_count": 1,
   "metadata": {},
   "outputs": [],
   "source": [
    "import pandas as pd\n",
    "import numpy as np\n",
    "import pickle\n",
    "from tqdm import tqdm\n",
    "import random\n",
    "import matplotlib.pyplot as plt\n",
    "%matplotlib inline\n",
    "import multiprocessing\n",
    "import re\n",
    "\n",
    "from gensim.models import LdaMulticore, TfidfModel, CoherenceModel\n",
    "from gensim.corpora import Dictionary"
   ]
  },
  {
   "cell_type": "markdown",
   "metadata": {},
   "source": [
    "# LyricsLda CLASS"
   ]
  },
  {
   "cell_type": "code",
   "execution_count": 2,
   "metadata": {},
   "outputs": [],
   "source": [
    "class LyricsLda:\n",
    "        \n",
    "    def __init__(self, lyrics_df, preprocessed_corpus):\n",
    "                \n",
    "        self.lyrics_df = lyrics_df\n",
    "        self.lyrics_df_shuffled = None\n",
    "        self.preprocessed_corpus = preprocessed_corpus\n",
    "        \n",
    "        self.coherence_values = None\n",
    "        self.model = None\n",
    "        self.topic_corpus = None\n",
    "        self.descriptors = None\n",
    "        self.num_topics = None\n",
    "        self.shuffled_corpus_idxs = None\n",
    "    \n",
    "    \n",
    "    def create_lda_corpus(self, randomize=False, preprocessed_corpus=None, filter_extremes=(100, 0.1)):\n",
    "        \n",
    "        if preprocessed_corpus is None:\n",
    "            corpus = self.preprocessed_corpus  #.copy() # copy necessary to avoid randomizing in place\n",
    "        \n",
    "        # randomize in order to guarantee coherent (diversity across genres) dev and eval datasets when choosing number of topics\n",
    "        if randomize:\n",
    "            print(\"Randomizing corpus ...\")\n",
    "            corpus = np.array(corpus)\n",
    "            shuffled_idxs = np.arange(corpus.shape[0])\n",
    "            random.shuffle(shuffled_idxs)\n",
    "            self.shuffled_corpus_idxs = shuffled_idxs\n",
    "            \n",
    "            # RESHUFFLE CORPUS AND DF ACCORDINGLY\n",
    "            corpus = corpus[shuffled_idxs].tolist()\n",
    "            self.lyrics_df_shuffled = self.lyrics_df.iloc[shuffled_idxs, :].reset_index(drop=True)\n",
    "            \n",
    "        print(\"Creating dictionary ...\")\n",
    "        # read in instances and create Dictionary object w information about frequencies etc. \n",
    "        dictionary = Dictionary(corpus)\n",
    "        # get rid of words that are too rare or too frequent\n",
    "        dictionary.filter_extremes(no_below=filter_extremes[0], no_above=filter_extremes[1])\n",
    "        \n",
    "        #replace words by their numerical IDs and their frequency\n",
    "        print(\"Creating model corpus ...\", flush=True)\n",
    "        lda_corpus = [dictionary.doc2bow(text) for text in tqdm(corpus)]\n",
    "        # learn TFIDF values from corpus and transform raw frequencies into TFIDF\n",
    "        tfidf_model = TfidfModel(lda_corpus)\n",
    "        model_corpus = tfidf_model[lda_corpus]\n",
    "        \n",
    "        return corpus, model_corpus, dictionary\n",
    "    \n",
    "    \n",
    "    def choose_num_topics(self, shuffled_corpus, model_corpus, dictionary, topics_range=(1, 20), dev_size=10000, eval_size=5000, alpha=0.5):\n",
    "        \n",
    "        coherence_values = []\n",
    "        model_list = []\n",
    "\n",
    "        dev_size = dev_size\n",
    "        eval_size = eval_size\n",
    "        \n",
    "        print(\"Choosing topics ...\", flush=True)\n",
    "        for num_topics in tqdm(range(topics_range[0], topics_range[1])):\n",
    "            model = LdaMulticore(corpus=model_corpus[:dev_size], id2word=dictionary, num_topics=num_topics, alpha=alpha)\n",
    "            model_list.append(model)\n",
    "            coherencemodel_umass = CoherenceModel(model=model, \n",
    "                                                  texts=shuffled_corpus[dev_size:dev_size+eval_size], \n",
    "                                                  dictionary=dictionary, \n",
    "                                                  coherence='u_mass')\n",
    "\n",
    "            coherencemodel_cv = CoherenceModel(model=model, \n",
    "                                               texts=shuffled_corpus[dev_size:dev_size+eval_size], \n",
    "                                               dictionary=dictionary, \n",
    "                                               coherence='c_v')\n",
    "\n",
    "            umass_score = coherencemodel_umass.get_coherence()\n",
    "            cv_score = coherencemodel_cv.get_coherence()\n",
    "\n",
    "            coherence_values.append((num_topics, umass_score, cv_score))\n",
    "        \n",
    "        self.coherence_values = coherence_values\n",
    "        \n",
    "        for coherence_value in coherence_values:\n",
    "            print(coherence_value)\n",
    "        \n",
    "        return coherence_values\n",
    "    \n",
    "    \n",
    "    def plot_coherence_values(self, coherence_values=None, topics_range=(1, 20), fig_size=(10, 5)):\n",
    "        \n",
    "        if coherence_values is None:\n",
    "            coherence_values = self.coherence_values\n",
    "\n",
    "        scores = pd.DataFrame(coherence_values, columns=['num_topics', 'UMass', 'CV'])\n",
    "        fig, ax = plt.subplots(nrows=1, ncols=2, figsize=fig_size)\n",
    "        scores.plot.line(x='num_topics', y='UMass', ax=ax[0], xticks=range(topics_range[0], topics_range[1]))\n",
    "        scores.plot.line(x='num_topics', y='CV', ax=ax[1], xticks=range(topics_range[0], topics_range[1]))\n",
    "        plt.show()\n",
    "        \n",
    "        return \n",
    "    \n",
    "    \n",
    "    def fit_transform(self, num_topics, model_corpus=None, dictionary=None, num_passes=10, num_updates=200, alpha=0.5):\n",
    "        \n",
    "        self.num_topics = num_topics\n",
    "        \n",
    "        # [1:] -> only need model corpus and dictionary\n",
    "        if model_corpus is None:\n",
    "            model_corpus, model_corpus_dict = self.create_lda_corpus(randomize=False)[1:]\n",
    "            if dictionary is None:\n",
    "                dictionary = model_corpus_dict\n",
    "        \n",
    "        # find chunksize to make about 200 updates\n",
    "        num_passes = num_passes\n",
    "        chunk_size = len(model_corpus) * num_passes/num_updates\n",
    "\n",
    "        # fit\n",
    "        model = LdaMulticore(num_topics=self.num_topics, # number of topics\n",
    "                             corpus=model_corpus, # what to train on \n",
    "                             id2word=dictionary, # mapping from IDs to words\n",
    "                             workers=min(10, multiprocessing.cpu_count()-1), # choose 10 cores, or whatever computer has\n",
    "                             passes=num_passes, # make this many passes over data\n",
    "                             chunksize=chunk_size, # update after this many instances\n",
    "                             alpha=alpha\n",
    "                            )\n",
    "        self.model = model\n",
    "        \n",
    "        # transform the data into topic distributions\n",
    "        topic_corpus = model[model_corpus]\n",
    "        self.topic_corpus = topic_corpus\n",
    "        \n",
    "        return topic_corpus\n",
    "    \n",
    "    \n",
    "    def print_topics(self, num_topics=None, num_words=5):\n",
    "        \n",
    "        if num_topics is None:\n",
    "            num_topics = self.num_topics\n",
    "        \n",
    "        # get the topic descritions\n",
    "        topic_sep = re.compile(r\"0\\.[0-9]{3}\\*\") # getting rid of useless formatting\n",
    "        # extract a list of tuples with topic number and descriptors from the model\n",
    "        model_topics = [(topic_no, re.sub(topic_sep, '', model_topic).split(' + ')) for topic_no, model_topic in\n",
    "                        self.model.print_topics(num_topics=num_topics, num_words=num_words)]\n",
    "\n",
    "        descriptors = []\n",
    "        for i, m in model_topics:\n",
    "            print(i+1, \", \".join(m[:num_words]))\n",
    "            descriptors.append(\", \".join(m[:num_words]).replace('\"', ''))\n",
    "        \n",
    "        self.descriptors = descriptors\n",
    "        \n",
    "        return\n",
    "        \n",
    "    \n",
    "    def period_column(self, lyrics_df=None):\n",
    "        \n",
    "        if lyrics_df is None:\n",
    "            lyrics_df = self.lyrics_df\n",
    "        \n",
    "        def year_to_period(year):\n",
    "            if int(year) < 1970:\n",
    "                return \"<70s\"\n",
    "            elif int(year) < 1980:\n",
    "                return \"70s-80s\"\n",
    "            elif int(year) < 1990:\n",
    "                return \"80s-90s\"\n",
    "            elif int(year) < 2000:\n",
    "                return \"90s-2000\"\n",
    "            elif int(year) < 2010:\n",
    "                return \"2000-2010\"\n",
    "            else:\n",
    "                return \">=2010\"\n",
    "        \n",
    "        lyrics_df.loc[:, \"period\"] = lyrics_df.year.apply(lambda year: year_to_period(year))\n",
    "        \n",
    "        self.lyrics_df = lyrics_df\n",
    "        \n",
    "        return lyrics_df\n",
    "    \n",
    "    \n",
    "    def aggregate_topics(self, target_category=\"genre\", aggregate_period=False, topic_corpus=None, descriptors=None, limit=None):\n",
    "        \n",
    "        if topic_corpus is None:\n",
    "            topic_corpus = self.topic_corpus\n",
    "        if descriptors is None:\n",
    "            descriptors = self.descriptors\n",
    "        if limit is None:\n",
    "            limit = self.lyrics_df.shape[0]\n",
    "        \n",
    "        target_category = target_category\n",
    "        \n",
    "        print(f\"Aggregating topics by {target_category} ...\", flush=True)\n",
    "        # get a list of all the topic scores for each document\n",
    "        scores = [[t[1] for t in topic_corpus[entry]] for entry in tqdm(range(limit))]\n",
    "        # turn that into a data frame with N rows and K columns, each with the score of the corresponding topic\n",
    "        topic_distros = pd.DataFrame(data=scores, columns=descriptors)\n",
    "        # add the review category of each document (so we can aggregate)\n",
    "        topic_distros[target_category] = self.lyrics_df[target_category][:limit]\n",
    "        if aggregate_period:\n",
    "            self.period_column()\n",
    "            topic_distros[\"period\"] = self.lyrics_df[\"period\"][:limit]\n",
    "        \n",
    "        return topic_distros\n",
    "    \n",
    "    \n",
    "    def plot_aggregated_topics(self, topic_distros, target_category=\"genre\", aggregate_period=False, descriptors=None, include_subcategories=None, fig_size=(10, 5)):\n",
    "        \n",
    "        if descriptors is None:\n",
    "            descriptors = self.descriptors\n",
    "        if include_subcategories is None:\n",
    "            include_subcategories = self.lyrics_df.loc[:, target_category].unique()\n",
    "        num_subcategories = len(include_subcategories)\n",
    "        \n",
    "        # aggregate topics by categories\n",
    "        aggregate_by_category = topic_distros_genre_period[topic_distros_genre_period[target_category].isin(include_subcategories)]\n",
    "        if aggregate_period:\n",
    "            aggregate_by_category = aggregate_by_category.groupby([target_category, \"period\"]).mean()\n",
    "        else:\n",
    "            aggregate_by_category = aggregate_by_category.groupby(target_category).mean()\n",
    "\n",
    "        # plot the graph\n",
    "        if (num_subcategories == 1) or (not aggregate_period):\n",
    "            fig, ax = plt.subplots(nrows=1, ncols=1, figsize=fig_size)\n",
    "            aggregate_by_category[descriptors].plot.bar(ax=ax)\n",
    "            handles, labels = ax.get_legend_handles_labels()\n",
    "            labels = [\" \".join(topic_words.split()[:5]) for topic_words in labels]\n",
    "            plt.legend(handles, labels, loc='center left', bbox_to_anchor=(1.0, 0.5))\n",
    "            ax.set_title(include_subcategories[0], fontdict={'fontsize': 12, 'fontweight':20})\n",
    "            plt.show()     \n",
    "        else:\n",
    "            print(\"Plotting for each group ...\", flush=True)\n",
    "            fig, ax = plt.subplots(nrows=num_subcategories, ncols=1, figsize=fig_size)#(fig_size[0]*num_subcategories, fig_size[1]*num_subcategories))\n",
    "            for idx, subcategory in enumerate(include_subcategories):\n",
    "                # sort periods to print them in order\n",
    "                ordered_periods = [period for period in [\"<70s\", \"70s-80s\", \"80s-90s\", \"90s-2000\", \"2000-2010\", \">=2010\"]\\\n",
    "                                   if period in aggregate_by_category.loc[subcategory, descriptors].index]\n",
    "                aggregate_by_category.loc[subcategory, descriptors].loc[ordered_periods, :].plot.bar(ax=ax[idx])\n",
    "                ax[idx].get_legend().remove()\n",
    "                ax[idx].set_title(subcategory, fontdict={'fontsize': 12, 'fontweight':20})\n",
    "\n",
    "            handles, labels = ax[idx].get_legend_handles_labels()\n",
    "            labels = [\" \".join(topic_words.split()[:5]) for topic_words in labels]\n",
    "            fig.legend(handles, labels, loc='center right', bbox_to_anchor=(1.15, 0.5))\n",
    "            fig.tight_layout(pad=3)\n",
    "            plt.show()  \n",
    "        \n",
    "        return   "
   ]
  },
  {
   "cell_type": "markdown",
   "metadata": {},
   "source": [
    "# LyricsAuthorLda CLASS"
   ]
  },
  {
   "cell_type": "code",
   "execution_count": 3,
   "metadata": {},
   "outputs": [],
   "source": [
    "class LyricsAuthorLda(LyricsLda):\n",
    "    \n",
    "    \n",
    "    def __init__(self, lyrics_df, preprocessed_corpus):\n",
    "        \n",
    "        super().__init__(lyrics_df=lyrics_df, preprocessed_corpus=preprocessed_corpus)\n",
    "        \n",
    "        self.doc2author = None\n",
    "        self.author_topic_distros = None\n",
    "    \n",
    "    \n",
    "    def create_doc2author(self, lyrics_df=None):\n",
    "        \n",
    "        if lyrics_df is None:\n",
    "            lyrics_df = self.lyrics_df\n",
    "        \n",
    "        lyrics_df = self.period_column()\n",
    "        self.lyrics_df = lyrics_df\n",
    "        \n",
    "        self.doc2author = {}\n",
    "        for idx, (genre, period) in enumerate(zip(lyrics_df.genre, lyrics_df.period)):\n",
    "            self.doc2author[idx] = [genre, period]\n",
    "        \n",
    "        return\n",
    "    \n",
    "    \n",
    "    def choose_num_topics(self, shuffled_corpus, model_corpus, dictionary, topics_range=(1, 20), dev_size=10000, eval_size=5000, alpha=0.5):\n",
    "\n",
    "        coherence_values = []\n",
    "        author_model_list = []\n",
    "        \n",
    "        print(\"Creating dev_doc2author ...\", flush=True)\n",
    "        if self.lyrics_df_shuffled is None:\n",
    "            dev_doc2author = {idx: self.doc2author[int(idx)] for idx in range(dev_size)}\n",
    "        else:\n",
    "            dev_doc2author = {reset_idx: self.doc2author[idx] for reset_idx, idx in enumerate(self.lyrics_df_shuffled.index[:dev_size])}\n",
    "\n",
    "        print(\"Choosing topics ...\", flush=True)\n",
    "        for num_topics in tqdm(list(range(topics_range[0], topics_range[1]))):\n",
    "            \n",
    "            author_model = AuthorTopicModel(corpus=list(model_corpus[:dev_size]), \n",
    "                                    doc2author=dev_doc2author, \n",
    "                                    id2word=dictionary, \n",
    "                                    num_topics=num_topics,\n",
    "                                    alpha=alpha\n",
    "                                    )\n",
    "            author_model_list.append(author_model)\n",
    "            \n",
    "            coherencemodel_umass = CoherenceModel(model=author_model, \n",
    "                                                  texts=shuffled_corpus[dev_size:dev_size+eval_size], \n",
    "                                                  dictionary=dictionary, \n",
    "                                                  coherence='u_mass')\n",
    "\n",
    "            coherencemodel_cv = CoherenceModel(model=author_model, \n",
    "                                               texts=shuffled_corpus[dev_size:dev_size+eval_size], \n",
    "                                               dictionary=dictionary, \n",
    "                                               coherence='c_v')\n",
    "\n",
    "            umass_score = coherencemodel_umass.get_coherence()\n",
    "            cv_score = coherencemodel_cv.get_coherence()\n",
    "\n",
    "            coherence_values.append((num_topics, umass_score, cv_score))\n",
    "\n",
    "        self.coherence_values = coherence_values\n",
    "\n",
    "        for coherence_value in coherence_values:\n",
    "            print(coherence_value)\n",
    "\n",
    "        return coherence_values\n",
    "    \n",
    "    \n",
    "    def fit_transform(self, num_topics, model_corpus=None, dictionary=None, num_passes=10, num_updates=200, alpha=0.5):\n",
    "        \n",
    "        self.num_topics = num_topics\n",
    "        \n",
    "        # [1:] -> only need model corpus and dictionary\n",
    "        if model_corpus is None:\n",
    "            model_corpus, model_corpus_dict = self.create_lda_corpus(randomize=False)[1:]\n",
    "            if dictionary is None:\n",
    "                dictionary = model_corpus_dict\n",
    "        \n",
    "        # find chunksize to make about 200 updates\n",
    "        num_passes = num_passes\n",
    "        chunk_size = len(model_corpus) * num_passes/num_updates\n",
    "\n",
    "        # fit\n",
    "        with temporary_file(\"serialized\") as s_path:\n",
    "            author_model = AuthorTopicModel(\n",
    "                                    model_corpus,\n",
    "                                    doc2author=self.doc2author,\n",
    "                                    id2word=dictionary,\n",
    "                                    num_topics=num_topics,\n",
    "                                    passes=num_passes,\n",
    "                                    chunksize=chunk_size,\n",
    "                                    alpha=alpha,\n",
    "                                    serialized=True,\n",
    "                                    serialization_path=s_path,\n",
    "                                    )    \n",
    "            author_model.update(model_corpus, self.doc2author)\n",
    "\n",
    "        self.model = author_model\n",
    "        \n",
    "        return \n",
    "\n",
    "    \n",
    "    def aggregate_topics(self):\n",
    "        \n",
    "        self.author_topic_distros = {author: [elem[1] for elem in self.model.get_author_topics(author)] \n",
    "                                     for author in self.model.id2author.values()\n",
    "                                    }\n",
    "        \n",
    "        return self.author_topic_distros\n",
    "    \n",
    "    \n",
    "    def plot_aggregated_topics(self, author_topic_distros=None, include_genres=None, fig_size=(10, 5)):\n",
    "        \n",
    "        if author_topic_distros is None:\n",
    "            author_topic_distros = self.author_topic_distros\n",
    "        \n",
    "        if include_genres is None:\n",
    "            include_genres = self.lyrics_df.genre.unique()\n",
    "        num_genres = len(include_genres)\n",
    "           \n",
    "        genre_period_df = pd.DataFrame.from_dict(author_topic_distros)\n",
    "        \n",
    "        fig, ax = plt.subplots(nrows=num_genres, ncols=1, figsize=fig_size)\n",
    "        if num_genres == 1:\n",
    "            genre = include_genres[0]\n",
    "            columns = f\"{genre}_<70s {genre}_70s-80s {genre}_80s-90s {genre}_90s-2000 {genre}_2000-2010 {genre}_>2010\".split()\n",
    "            genre_period_df.loc[:, columns].T.plot.bar(ax=ax)\n",
    "        else:\n",
    "            print(\"Plotting for each genre ...\", flush=True)\n",
    "            for idx, genre in tqdm(enumerate(include_genres)):\n",
    "                columns = f\"{genre}_<70s {genre}_70s-80s {genre}_80s-90s {genre}_90s-2000 {genre}_2000-2010 {genre}_>2010\".split()\n",
    "                genre_period_df.loc[:, columns].T.plot.bar(ax=ax[idx])\n",
    "                plt.legend(loc='center left', bbox_to_anchor=(1.0, 0.5))\n",
    "        \n",
    "        plt.show()\n",
    "        \n",
    "        return"
   ]
  },
  {
   "cell_type": "markdown",
   "metadata": {},
   "source": [
    "### Load data "
   ]
  },
  {
   "cell_type": "code",
   "execution_count": 4,
   "metadata": {},
   "outputs": [
    {
     "data": {
      "text/plain": [
       "(43844, 7)"
      ]
     },
     "execution_count": 4,
     "metadata": {},
     "output_type": "execute_result"
    }
   ],
   "source": [
    "lyrics_df = pd.read_csv('/Users/lucamasserano/Desktop/BOCCONI/nlp/final_project/lyrics_project/data/lyrics_cleaned.csv')\n",
    "lyrics_df.shape"
   ]
  },
  {
   "cell_type": "code",
   "execution_count": 5,
   "metadata": {},
   "outputs": [
    {
     "data": {
      "text/plain": [
       "43844"
      ]
     },
     "execution_count": 5,
     "metadata": {},
     "output_type": "execute_result"
    }
   ],
   "source": [
    "# token.lemma in trimmed_corpus if and only if token.pos in ['NOUN', 'VERB', 'ADJ', 'ADV', 'INTJ', 'X']\n",
    "with open('./data/trimmed_corpus_old.pickle', 'rb') as pickled_object:\n",
    "    trimmed_corpus = pickle.load(pickled_object)\n",
    "len(trimmed_corpus)"
   ]
  },
  {
   "cell_type": "code",
   "execution_count": 6,
   "metadata": {},
   "outputs": [],
   "source": [
    "# remove if len(token) < 2 --> PUT THIS IN PREPROCESSING AND GIVE STATISTICS ON NUMBER OF LEMMA REMOVED\n",
    "trimmed_corpus = [[lemma for lemma in lyrics if len(lemma) > 2] for lyrics in trimmed_corpus]"
   ]
  },
  {
   "cell_type": "markdown",
   "metadata": {},
   "source": [
    "# LDA "
   ]
  },
  {
   "cell_type": "markdown",
   "metadata": {},
   "source": [
    "### Choose number of topics and fit LDA model "
   ]
  },
  {
   "cell_type": "code",
   "execution_count": 23,
   "metadata": {},
   "outputs": [],
   "source": [
    "lyrics_lda = LyricsLda(lyrics_df=lyrics_df, preprocessed_corpus=trimmed_corpus)"
   ]
  },
  {
   "cell_type": "code",
   "execution_count": 24,
   "metadata": {
    "scrolled": true
   },
   "outputs": [
    {
     "name": "stdout",
     "output_type": "stream",
     "text": [
      "Randomizing corpus ...\n",
      "Creating dictionary ...\n",
      "Creating model corpus ...\n"
     ]
    },
    {
     "name": "stderr",
     "output_type": "stream",
     "text": [
      "\n",
      "  0%|          | 0/43844 [00:00<?, ?it/s]\u001b[A\n",
      "  3%|▎         | 1226/43844 [00:00<00:03, 12248.51it/s]\u001b[A\n",
      "  6%|▌         | 2464/43844 [00:00<00:03, 12287.11it/s]\u001b[A\n",
      "  8%|▊         | 3636/43844 [00:00<00:03, 12109.83it/s]\u001b[A\n",
      " 11%|█         | 4838/43844 [00:00<00:03, 12081.03it/s]\u001b[A\n",
      " 14%|█▍        | 6042/43844 [00:00<00:03, 12066.91it/s]\u001b[A\n",
      " 16%|█▋        | 7212/43844 [00:00<00:03, 11947.89it/s]\u001b[A\n",
      " 19%|█▉        | 8482/43844 [00:00<00:02, 12161.94it/s]\u001b[A\n",
      " 22%|██▏       | 9672/43844 [00:00<00:02, 12081.02it/s]\u001b[A\n",
      " 25%|██▍       | 10815/43844 [00:00<00:02, 11877.46it/s]\u001b[A\n",
      " 27%|██▋       | 11955/43844 [00:01<00:02, 11680.54it/s]\u001b[A\n",
      " 30%|██▉       | 13123/43844 [00:01<00:02, 11677.15it/s]\u001b[A\n",
      " 33%|███▎      | 14310/43844 [00:01<00:02, 11734.10it/s]\u001b[A\n",
      " 36%|███▌      | 15582/43844 [00:01<00:02, 12012.02it/s]\u001b[A\n",
      " 38%|███▊      | 16819/43844 [00:01<00:02, 12114.94it/s]\u001b[A\n",
      " 41%|████      | 18044/43844 [00:01<00:02, 12154.48it/s]\u001b[A\n",
      " 44%|████▍     | 19255/43844 [00:01<00:02, 12029.41it/s]\u001b[A\n",
      " 47%|████▋     | 20462/43844 [00:01<00:01, 12040.45it/s]\u001b[A\n",
      " 49%|████▉     | 21683/43844 [00:01<00:01, 12090.81it/s]\u001b[A\n",
      " 52%|█████▏    | 22963/43844 [00:01<00:01, 12293.58it/s]\u001b[A\n",
      " 55%|█████▌    | 24193/43844 [00:02<00:01, 12265.27it/s]\u001b[A\n",
      " 58%|█████▊    | 25531/43844 [00:02<00:01, 12578.13it/s]\u001b[A\n",
      " 61%|██████    | 26810/43844 [00:02<00:01, 12640.01it/s]\u001b[A\n",
      " 64%|██████▍   | 28076/43844 [00:02<00:01, 12490.92it/s]\u001b[A\n",
      " 67%|██████▋   | 29349/43844 [00:02<00:01, 12560.92it/s]\u001b[A\n",
      " 70%|██████▉   | 30638/43844 [00:02<00:01, 12657.16it/s]\u001b[A\n",
      " 73%|███████▎  | 31905/43844 [00:02<00:00, 12629.25it/s]\u001b[A\n",
      " 76%|███████▌  | 33169/43844 [00:02<00:00, 12325.95it/s]\u001b[A\n",
      " 79%|███████▊  | 34462/43844 [00:02<00:00, 12489.42it/s]\u001b[A\n",
      " 81%|████████▏ | 35719/43844 [00:02<00:00, 12510.68it/s]\u001b[A\n",
      " 84%|████████▍ | 36972/43844 [00:03<00:00, 12010.59it/s]\u001b[A\n",
      " 87%|████████▋ | 38179/43844 [00:03<00:00, 11766.46it/s]\u001b[A\n",
      " 90%|████████▉ | 39361/43844 [00:03<00:00, 11759.78it/s]\u001b[A\n",
      " 92%|█████████▏| 40541/43844 [00:03<00:00, 11624.28it/s]\u001b[A\n",
      " 95%|█████████▌| 41707/43844 [00:03<00:00, 11538.36it/s]\u001b[A\n",
      " 98%|█████████▊| 42944/43844 [00:03<00:00, 11769.59it/s]\u001b[A\n",
      "100%|██████████| 43844/43844 [00:03<00:00, 12097.01it/s]\u001b[A"
     ]
    }
   ],
   "source": [
    "shuffled_corpus, model_corpus, dictionary = lyrics_lda.create_lda_corpus(randomize=True)"
   ]
  },
  {
   "cell_type": "code",
   "execution_count": 25,
   "metadata": {},
   "outputs": [
    {
     "name": "stdout",
     "output_type": "stream",
     "text": [
      "Dictionary(2621 unique tokens: ['better', 'bone', 'complicated', 'deserve', 'first']...)\n"
     ]
    }
   ],
   "source": [
    "print(dictionary, flush=True)"
   ]
  },
  {
   "cell_type": "code",
   "execution_count": 10,
   "metadata": {},
   "outputs": [
    {
     "name": "stdout",
     "output_type": "stream",
     "text": [
      "Choosing topics ...\n"
     ]
    },
    {
     "name": "stderr",
     "output_type": "stream",
     "text": [
      "100%|██████████| 19/19 [03:59<00:00, 13.45s/it]"
     ]
    },
    {
     "name": "stdout",
     "output_type": "stream",
     "text": [
      "(1, -2.3483934539692375, 0.19574532193008282)\n",
      "(2, -2.362097149986319, 0.2162887638052271)\n",
      "(3, -2.436237453478393, 0.2389893288330922)\n",
      "(4, -2.599396835994798, 0.2530975631287564)\n",
      "(5, -2.382331388632693, 0.2497048267477599)\n",
      "(6, -2.551706597444711, 0.2639519233869085)\n",
      "(7, -2.5251337064377766, 0.2559843586229696)\n",
      "(8, -2.402238985518273, 0.24151862622692888)\n",
      "(9, -2.51376111788534, 0.24634403373168778)\n",
      "(10, -2.4933886052996543, 0.25035348843303945)\n",
      "(11, -2.4950944049628916, 0.2568419397550394)\n",
      "(12, -2.4474423496376656, 0.24871800707158354)\n",
      "(13, -2.4886580728780965, 0.24982861222038186)\n",
      "(14, -2.4707679740876602, 0.2461765336823434)\n",
      "(15, -2.5330747589961646, 0.24080081833100053)\n",
      "(16, -2.4715591531177106, 0.2429402157125202)\n",
      "(17, -2.5012298511826447, 0.25124939201141383)\n",
      "(18, -2.5214430009487803, 0.248969446559273)\n",
      "(19, -2.4376047484920913, 0.25565019919460175)\n"
     ]
    },
    {
     "name": "stderr",
     "output_type": "stream",
     "text": [
      "\n"
     ]
    }
   ],
   "source": [
    "coherence_values = lyrics_lda.choose_num_topics(shuffled_corpus=shuffled_corpus, model_corpus=model_corpus, dictionary=dictionary)"
   ]
  },
  {
   "cell_type": "code",
   "execution_count": 14,
   "metadata": {},
   "outputs": [
    {
     "data": {
      "image/png": "[encoded data removed]",
      "text/plain": [
       "<Figure size 1080x360 with 2 Axes>"
      ]
     },
     "metadata": {
      "needs_background": "light"
     },
     "output_type": "display_data"
    }
   ],
   "source": [
    "lyrics_lda.plot_coherence_values(fig_size=(15,5))"
   ]
  },
  {
   "cell_type": "code",
   "execution_count": 15,
   "metadata": {},
   "outputs": [
    {
     "name": "stdout",
     "output_type": "stream",
     "text": [
      "Creating dictionary ...\n",
      "Creating model corpus ...\n"
     ]
    },
    {
     "name": "stderr",
     "output_type": "stream",
     "text": [
      "100%|██████████| 43844/43844 [00:03<00:00, 13664.08it/s]\n"
     ]
    }
   ],
   "source": [
    "topic_corpus = lyrics_lda.fit_transform(num_topics=11)"
   ]
  },
  {
   "cell_type": "code",
   "execution_count": 28,
   "metadata": {},
   "outputs": [
    {
     "name": "stdout",
     "output_type": "stream",
     "text": [
      "1 \"hey\", \"rock\", \"fire\", \"enough\", \"fine\", \"miss\", \"wish\", \"loose\", \"alright\", \"line\"\n",
      "2 \"maybe\", \"burn\", \"Can\", \"tomorrow\", \"thank\", \"alive\", \"hurt\", \"rise\", \"hope\", \"Will\"\n",
      "3 \"please\", \"ooh\", \"over\", \"hide\", \"wake\", \"dance\", \"tonight\", \"around\", \"cover\", \"mother\"\n",
      "4 \"fly\", \"house\", \"game\", \"hate\", \"door\", \"crazy\", \"cool\", \"write\", \"funny\", \"guess\"\n",
      "5 \"wrong\", \"goodbye\", \"dance\", \"rest\", \"blue\", \"late\", \"forget\", \"forever\", \"better\", \"tonight\"\n",
      "6 \"war\", \"beautiful\", \"bye\", \"fight\", \"peace\", \"blood\", \"blind\", \"please\", \"hope\", \"kill\"\n",
      "7 \"whoa\", \"woman\", \"care\", \"together\", \"happy\", \"sweet\", \"round\", \"lady\", \"wanna\", \"else\"\n",
      "8 \"bitch\", \"nigga\", \"fuck\", \"money\", \"niggas\", \"gon\", \"ass\", \"hit\", \"hoe\", \"big\"\n",
      "9 \"tonight\", \"afraid\", \"ready\", \"fade\", \"anymore\", \"party\", \"seem\", \"promise\", \"true\", \"close\"\n",
      "10 \"rain\", \"wind\", \"sky\", \"sun\", \"water\", \"river\", \"feat\", \"land\", \"sea\", \"grow\"\n",
      "11 \"forever\", \"ooh\", \"smile\", \"shine\", \"reason\", \"remember\", \"miss\", \"soul\", \"rain\", \"chance\"\n"
     ]
    }
   ],
   "source": [
    "lyrics_lda.print_topics(num_topics=11, num_words=10)"
   ]
  },
  {
   "cell_type": "code",
   "execution_count": 30,
   "metadata": {},
   "outputs": [
    {
     "name": "stdout",
     "output_type": "stream",
     "text": [
      "Aggregating topics by genre ...\n"
     ]
    },
    {
     "name": "stderr",
     "output_type": "stream",
     "text": [
      "100%|██████████| 43844/43844 [00:38<00:00, 1130.12it/s]\n"
     ]
    }
   ],
   "source": [
    "topic_distros = lyrics_lda.aggregate_topics()"
   ]
  },
  {
   "cell_type": "markdown",
   "metadata": {},
   "source": [
    "#### Aggregate by genre"
   ]
  },
  {
   "cell_type": "code",
   "execution_count": 32,
   "metadata": {},
   "outputs": [
    {
     "data": {
      "image/png": "[encoded data removed]",
      "text/plain": [
       "<Figure size 1080x576 with 1 Axes>"
      ]
     },
     "metadata": {
      "needs_background": "light"
     },
     "output_type": "display_data"
    }
   ],
   "source": [
    "lyrics_lda.plot_aggregated_topics(topic_distros, fig_size=(20,10))"
   ]
  },
  {
   "cell_type": "markdown",
   "metadata": {},
   "source": [
    "#### Aggregate by genre and period"
   ]
  },
  {
   "cell_type": "code",
   "execution_count": 33,
   "metadata": {},
   "outputs": [
    {
     "name": "stdout",
     "output_type": "stream",
     "text": [
      "Aggregating topics by genre ...\n"
     ]
    },
    {
     "name": "stderr",
     "output_type": "stream",
     "text": [
      "100%|██████████| 43844/43844 [00:38<00:00, 1134.99it/s]\n"
     ]
    }
   ],
   "source": [
    "topic_distros_genre_period = lyrics_lda.aggregate_topics(aggregate_period=True)"
   ]
  },
  {
   "cell_type": "code",
   "execution_count": 152,
   "metadata": {},
   "outputs": [
    {
     "data": {
      "image/png": "[encoded data removed]",
      "text/plain": [
       "<Figure size 1080x576 with 1 Axes>"
      ]
     },
     "metadata": {
      "needs_background": "light"
     },
     "output_type": "display_data"
    }
   ],
   "source": [
    "lyrics_lda.plot_aggregated_topics(topic_distros=topic_distros_genre_period, aggregate_period=True, include_subcategories=[\"Hip-Hop\"])"
   ]
  },
  {
   "cell_type": "markdown",
   "metadata": {},
   "source": [
    "# AUTHOR LDA"
   ]
  },
  {
   "cell_type": "code",
   "execution_count": 7,
   "metadata": {},
   "outputs": [],
   "source": [
    "import numpy as np\n",
    "\n",
    "from gensim.models import AuthorTopicModel\n",
    "from gensim.test.utils import temporary_file"
   ]
  },
  {
   "cell_type": "markdown",
   "metadata": {},
   "source": [
    "### Analysis "
   ]
  },
  {
   "cell_type": "code",
   "execution_count": 8,
   "metadata": {},
   "outputs": [],
   "source": [
    "lyrics_author_lda = LyricsAuthorLda(lyrics_df=lyrics_df, preprocessed_corpus=trimmed_corpus)"
   ]
  },
  {
   "cell_type": "code",
   "execution_count": 9,
   "metadata": {},
   "outputs": [
    {
     "name": "stdout",
     "output_type": "stream",
     "text": [
      "Randomizing corpus ...\n",
      "Creating dictionary ...\n",
      "Creating model corpus ...\n"
     ]
    },
    {
     "name": "stderr",
     "output_type": "stream",
     "text": [
      "100%|██████████| 43844/43844 [00:03<00:00, 12498.73it/s]\n"
     ]
    }
   ],
   "source": [
    "shuffled_corpus, model_corpus, dictionary = lyrics_author_lda.create_lda_corpus(randomize=True)"
   ]
  },
  {
   "cell_type": "code",
   "execution_count": 10,
   "metadata": {},
   "outputs": [
    {
     "name": "stdout",
     "output_type": "stream",
     "text": [
      "Dictionary(2621 unique tokens: ['May', 'bliss', 'breeze', 'deceive', 'kiss']...)\n"
     ]
    }
   ],
   "source": [
    "print(dictionary, flush=True)"
   ]
  },
  {
   "cell_type": "code",
   "execution_count": 11,
   "metadata": {},
   "outputs": [],
   "source": [
    "lyrics_author_lda.create_doc2author()"
   ]
  },
  {
   "cell_type": "code",
   "execution_count": 12,
   "metadata": {},
   "outputs": [
    {
     "name": "stdout",
     "output_type": "stream",
     "text": [
      "Creating dev_author2doc ...\n",
      "Choosing topics ...\n"
     ]
    },
    {
     "name": "stderr",
     "output_type": "stream",
     "text": [
      "100%|██████████| 19/19 [02:38<00:00,  8.82s/it]\n"
     ]
    },
    {
     "name": "stdout",
     "output_type": "stream",
     "text": [
      "(1, -7.545669523925343, 0.4206695341298941)\n",
      "(2, -7.539651645765948, 0.42066953412989416)\n",
      "(3, -7.541388404945202, 0.4206695341298941)\n",
      "(4, -7.54022685487965, 0.42066953412989416)\n",
      "(5, -7.541465184471065, 0.4206695341298941)\n",
      "(6, -7.540678021173053, 0.4206695341298941)\n",
      "(7, -7.541970706588849, 0.42066953412989416)\n",
      "(8, -7.5402350926505655, 0.42066953412989416)\n",
      "(9, -7.539653107596982, 0.42066953412989416)\n",
      "(10, -7.539362017305583, 0.42066953412989416)\n",
      "(11, -7.541293779711651, 0.4206695341298942)\n",
      "(12, -7.533323858317814, 0.4206695341298941)\n",
      "(13, -7.533253869207428, 0.42066953412989416)\n",
      "(14, -7.534149469630143, 0.4206695341298942)\n",
      "(15, -7.535497593584918, 0.4206695341298942)\n",
      "(16, -7.536874633525633, 0.42066953412989416)\n",
      "(17, -7.534625617290524, 0.42066953412989416)\n",
      "(18, -7.535491417255339, 0.42066953412989416)\n",
      "(19, -7.534392815458128, 0.42066953412989416)\n"
     ]
    }
   ],
   "source": [
    "coherence_values = lyrics_author_lda.choose_num_topics(shuffled_corpus=shuffled_corpus, \n",
    "                                                       model_corpus=model_corpus, \n",
    "                                                       dictionary=dictionary, \n",
    "                                                       topics_range=(1, 20))"
   ]
  },
  {
   "cell_type": "code",
   "execution_count": 13,
   "metadata": {},
   "outputs": [
    {
     "data": {
      "image/png": "[encoded data removed]",
      "text/plain": [
       "<Figure size 720x360 with 2 Axes>"
      ]
     },
     "metadata": {
      "needs_background": "light"
     },
     "output_type": "display_data"
    }
   ],
   "source": [
    "lyrics_author_lda.plot_coherence_values(topics_range=(1, 20))"
   ]
  },
  {
   "cell_type": "code",
   "execution_count": 15,
   "metadata": {},
   "outputs": [
    {
     "name": "stdout",
     "output_type": "stream",
     "text": [
      "Creating dictionary ...\n",
      "Creating model corpus ...\n"
     ]
    },
    {
     "name": "stderr",
     "output_type": "stream",
     "text": [
      "100%|██████████| 43844/43844 [00:03<00:00, 13621.43it/s]\n"
     ]
    },
    {
     "ename": "TypeError",
     "evalue": "can only concatenate str (not \"int\") to str",
     "output_type": "error",
     "traceback": [
      "\u001b[0;31m---------------------------------------------------------------------------\u001b[0m",
      "\u001b[0;31mTypeError\u001b[0m                                 Traceback (most recent call last)",
      "\u001b[0;32m<ipython-input-15-453831f7d0e6>\u001b[0m in \u001b[0;36m<module>\u001b[0;34m\u001b[0m\n\u001b[0;32m----> 1\u001b[0;31m \u001b[0mtopic_corpus\u001b[0m \u001b[0;34m=\u001b[0m \u001b[0mlyrics_author_lda\u001b[0m\u001b[0;34m.\u001b[0m\u001b[0mfit_transform\u001b[0m\u001b[0;34m(\u001b[0m\u001b[0mnum_topics\u001b[0m\u001b[0;34m=\u001b[0m\u001b[0;36m12\u001b[0m\u001b[0;34m)\u001b[0m\u001b[0;34m\u001b[0m\u001b[0;34m\u001b[0m\u001b[0m\n\u001b[0m",
      "\u001b[0;32m<ipython-input-3-d82c0814e0e9>\u001b[0m in \u001b[0;36mfit_transform\u001b[0;34m(self, num_topics, model_corpus, dictionary, num_passes, num_updates, alpha)\u001b[0m\n\u001b[1;32m     97\u001b[0m                                     \u001b[0mserialization_path\u001b[0m\u001b[0;34m=\u001b[0m\u001b[0ms_path\u001b[0m\u001b[0;34m,\u001b[0m\u001b[0;34m\u001b[0m\u001b[0;34m\u001b[0m\u001b[0m\n\u001b[1;32m     98\u001b[0m                                     )    \n\u001b[0;32m---> 99\u001b[0;31m             \u001b[0mauthor_model\u001b[0m\u001b[0;34m.\u001b[0m\u001b[0mupdate\u001b[0m\u001b[0;34m(\u001b[0m\u001b[0mmodel_corpus\u001b[0m\u001b[0;34m,\u001b[0m \u001b[0mself\u001b[0m\u001b[0;34m.\u001b[0m\u001b[0mdoc2author\u001b[0m\u001b[0;34m)\u001b[0m\u001b[0;34m\u001b[0m\u001b[0;34m\u001b[0m\u001b[0m\n\u001b[0m\u001b[1;32m    100\u001b[0m \u001b[0;34m\u001b[0m\u001b[0m\n\u001b[1;32m    101\u001b[0m         \u001b[0mself\u001b[0m\u001b[0;34m.\u001b[0m\u001b[0mmodel\u001b[0m \u001b[0;34m=\u001b[0m \u001b[0mauthor_model\u001b[0m\u001b[0;34m\u001b[0m\u001b[0;34m\u001b[0m\u001b[0m\n",
      "\u001b[0;32m~/anaconda3/lib/python3.7/site-packages/gensim/models/atmodel.py\u001b[0m in \u001b[0;36mupdate\u001b[0;34m(self, corpus, author2doc, doc2author, chunksize, decay, offset, passes, update_every, eval_every, iterations, gamma_threshold, chunks_as_numpy)\u001b[0m\n\u001b[1;32m    754\u001b[0m             \u001b[0;31m# First, increment the document IDs by the number of previously seen documents.\u001b[0m\u001b[0;34m\u001b[0m\u001b[0;34m\u001b[0m\u001b[0;34m\u001b[0m\u001b[0m\n\u001b[1;32m    755\u001b[0m             \u001b[0;32mfor\u001b[0m \u001b[0ma\u001b[0m\u001b[0;34m,\u001b[0m \u001b[0mdoc_ids\u001b[0m \u001b[0;32min\u001b[0m \u001b[0mauthor2doc\u001b[0m\u001b[0;34m.\u001b[0m\u001b[0mitems\u001b[0m\u001b[0;34m(\u001b[0m\u001b[0;34m)\u001b[0m\u001b[0;34m:\u001b[0m\u001b[0;34m\u001b[0m\u001b[0;34m\u001b[0m\u001b[0m\n\u001b[0;32m--> 756\u001b[0;31m                 \u001b[0mdoc_ids\u001b[0m \u001b[0;34m=\u001b[0m \u001b[0;34m[\u001b[0m\u001b[0md\u001b[0m \u001b[0;34m+\u001b[0m \u001b[0mself\u001b[0m\u001b[0;34m.\u001b[0m\u001b[0mtotal_docs\u001b[0m \u001b[0;34m-\u001b[0m \u001b[0mlen_input_corpus\u001b[0m \u001b[0;32mfor\u001b[0m \u001b[0md\u001b[0m \u001b[0;32min\u001b[0m \u001b[0mdoc_ids\u001b[0m\u001b[0;34m]\u001b[0m\u001b[0;34m\u001b[0m\u001b[0;34m\u001b[0m\u001b[0m\n\u001b[0m\u001b[1;32m    757\u001b[0m \u001b[0;34m\u001b[0m\u001b[0m\n\u001b[1;32m    758\u001b[0m             \u001b[0;31m# For all authors in the input corpus, add the new documents.\u001b[0m\u001b[0;34m\u001b[0m\u001b[0;34m\u001b[0m\u001b[0;34m\u001b[0m\u001b[0m\n",
      "\u001b[0;32m~/anaconda3/lib/python3.7/site-packages/gensim/models/atmodel.py\u001b[0m in \u001b[0;36m<listcomp>\u001b[0;34m(.0)\u001b[0m\n\u001b[1;32m    754\u001b[0m             \u001b[0;31m# First, increment the document IDs by the number of previously seen documents.\u001b[0m\u001b[0;34m\u001b[0m\u001b[0;34m\u001b[0m\u001b[0;34m\u001b[0m\u001b[0m\n\u001b[1;32m    755\u001b[0m             \u001b[0;32mfor\u001b[0m \u001b[0ma\u001b[0m\u001b[0;34m,\u001b[0m \u001b[0mdoc_ids\u001b[0m \u001b[0;32min\u001b[0m \u001b[0mauthor2doc\u001b[0m\u001b[0;34m.\u001b[0m\u001b[0mitems\u001b[0m\u001b[0;34m(\u001b[0m\u001b[0;34m)\u001b[0m\u001b[0;34m:\u001b[0m\u001b[0;34m\u001b[0m\u001b[0;34m\u001b[0m\u001b[0m\n\u001b[0;32m--> 756\u001b[0;31m                 \u001b[0mdoc_ids\u001b[0m \u001b[0;34m=\u001b[0m \u001b[0;34m[\u001b[0m\u001b[0md\u001b[0m \u001b[0;34m+\u001b[0m \u001b[0mself\u001b[0m\u001b[0;34m.\u001b[0m\u001b[0mtotal_docs\u001b[0m \u001b[0;34m-\u001b[0m \u001b[0mlen_input_corpus\u001b[0m \u001b[0;32mfor\u001b[0m \u001b[0md\u001b[0m \u001b[0;32min\u001b[0m \u001b[0mdoc_ids\u001b[0m\u001b[0;34m]\u001b[0m\u001b[0;34m\u001b[0m\u001b[0;34m\u001b[0m\u001b[0m\n\u001b[0m\u001b[1;32m    757\u001b[0m \u001b[0;34m\u001b[0m\u001b[0m\n\u001b[1;32m    758\u001b[0m             \u001b[0;31m# For all authors in the input corpus, add the new documents.\u001b[0m\u001b[0;34m\u001b[0m\u001b[0;34m\u001b[0m\u001b[0;34m\u001b[0m\u001b[0m\n",
      "\u001b[0;31mTypeError\u001b[0m: can only concatenate str (not \"int\") to str"
     ]
    }
   ],
   "source": [
    "topic_corpus = lyrics_author_lda.fit_transform(num_topics=12)"
   ]
  },
  {
   "cell_type": "code",
   "execution_count": null,
   "metadata": {},
   "outputs": [],
   "source": [
    "lyrics_author_lda.print_topics()"
   ]
  },
  {
   "cell_type": "code",
   "execution_count": 79,
   "metadata": {
    "scrolled": true
   },
   "outputs": [
    {
     "data": {
      "text/plain": [
       "{'Country_2000-2010': [0.09090909090909091,\n",
       "  0.09090909090909091,\n",
       "  0.09090909090909091,\n",
       "  0.09090909090909091,\n",
       "  0.09090909090909091,\n",
       "  0.09090909090909091,\n",
       "  0.09090909090909091,\n",
       "  0.09090909090909091,\n",
       "  0.09090909090909091,\n",
       "  0.09090909090909091,\n",
       "  0.09090909090909091],\n",
       " 'Country_70s-80s': [0.09090909090909091,\n",
       "  0.09090909090909091,\n",
       "  0.09090909090909091,\n",
       "  0.09090909090909091,\n",
       "  0.09090909090909091,\n",
       "  0.09090909090909091,\n",
       "  0.09090909090909091,\n",
       "  0.09090909090909091,\n",
       "  0.09090909090909091,\n",
       "  0.09090909090909091,\n",
       "  0.09090909090909091],\n",
       " 'Country_80s-90s': [0.09090909090909091,\n",
       "  0.09090909090909091,\n",
       "  0.09090909090909091,\n",
       "  0.09090909090909091,\n",
       "  0.09090909090909091,\n",
       "  0.09090909090909091,\n",
       "  0.09090909090909091,\n",
       "  0.09090909090909091,\n",
       "  0.09090909090909091,\n",
       "  0.09090909090909091,\n",
       "  0.09090909090909091],\n",
       " 'Country_90s-2000': [0.09090909090909091,\n",
       "  0.09090909090909091,\n",
       "  0.09090909090909091,\n",
       "  0.09090909090909091,\n",
       "  0.09090909090909091,\n",
       "  0.09090909090909091,\n",
       "  0.09090909090909091,\n",
       "  0.09090909090909091,\n",
       "  0.09090909090909091,\n",
       "  0.09090909090909091,\n",
       "  0.09090909090909091],\n",
       " 'Country_<70s': [0.09090909090909091,\n",
       "  0.09090909090909091,\n",
       "  0.09090909090909091,\n",
       "  0.09090909090909091,\n",
       "  0.09090909090909091,\n",
       "  0.09090909090909091,\n",
       "  0.09090909090909091,\n",
       "  0.09090909090909091,\n",
       "  0.09090909090909091,\n",
       "  0.09090909090909091,\n",
       "  0.09090909090909091],\n",
       " 'Country_>=2010': [0.09090909090909091,\n",
       "  0.09090909090909091,\n",
       "  0.09090909090909091,\n",
       "  0.09090909090909091,\n",
       "  0.09090909090909091,\n",
       "  0.09090909090909091,\n",
       "  0.09090909090909091,\n",
       "  0.09090909090909091,\n",
       "  0.09090909090909091,\n",
       "  0.09090909090909091,\n",
       "  0.09090909090909091],\n",
       " 'Electronic_2000-2010': [0.09090876015331806,\n",
       "  0.09090876015342654,\n",
       "  0.09090876015342503,\n",
       "  0.09090876015338732,\n",
       "  0.09090876016288331,\n",
       "  0.09090876015341082,\n",
       "  0.09090885149229744,\n",
       "  0.09090876015340317,\n",
       "  0.09090876015343448,\n",
       "  0.09091230711761265,\n",
       "  0.09090876015340109],\n",
       " 'Electronic_80s-90s': [0.09090909090909091,\n",
       "  0.09090909090909091,\n",
       "  0.09090909090909091,\n",
       "  0.09090909090909091,\n",
       "  0.09090909090909091,\n",
       "  0.09090909090909091,\n",
       "  0.09090909090909091,\n",
       "  0.09090909090909091,\n",
       "  0.09090909090909091,\n",
       "  0.09090909090909091,\n",
       "  0.09090909090909091],\n",
       " 'Electronic_90s-2000': [0.09083456164591819,\n",
       "  0.09083456165813159,\n",
       "  0.09083456165574078,\n",
       "  0.09083456166752348,\n",
       "  0.0916543834206626,\n",
       "  0.09083456164645687,\n",
       "  0.09083456166378329,\n",
       "  0.09083456166319501,\n",
       "  0.09083456167089471,\n",
       "  0.09083456166176886,\n",
       "  0.09083456164592467],\n",
       " 'Electronic_<70s': [0.09057293622659879,\n",
       "  0.09114529843022529,\n",
       "  0.09071113181907657,\n",
       "  0.09082837259399787,\n",
       "  0.09114143867713566,\n",
       "  0.09086855714106369,\n",
       "  0.0914853256821833,\n",
       "  0.09066820634372022,\n",
       "  0.09061719673556427,\n",
       "  0.09048144297031238,\n",
       "  0.09148009338012182],\n",
       " 'Electronic_>=2010': [0.028820869480288537,\n",
       "  0.025368452281031025,\n",
       "  0.025368452399604145,\n",
       "  0.025368452350707487,\n",
       "  0.025368452359033018,\n",
       "  0.025368452321513735,\n",
       "  0.025368452380670193,\n",
       "  0.025368452276566894,\n",
       "  0.025368452411091966,\n",
       "  0.025368452252486767,\n",
       "  0.7428630594870063],\n",
       " 'Folk_2000-2010': [0.09090909090909091,\n",
       "  0.09090909090909091,\n",
       "  0.09090909090909091,\n",
       "  0.09090909090909091,\n",
       "  0.09090909090909091,\n",
       "  0.09090909090909091,\n",
       "  0.09090909090909091,\n",
       "  0.09090909090909091,\n",
       "  0.09090909090909091,\n",
       "  0.09090909090909091,\n",
       "  0.09090909090909091],\n",
       " 'Folk_70s-80s': [0.09090909090909091,\n",
       "  0.09090909090909091,\n",
       "  0.09090909090909091,\n",
       "  0.09090909090909091,\n",
       "  0.09090909090909091,\n",
       "  0.09090909090909091,\n",
       "  0.09090909090909091,\n",
       "  0.09090909090909091,\n",
       "  0.09090909090909091,\n",
       "  0.09090909090909091,\n",
       "  0.09090909090909091],\n",
       " 'Folk_80s-90s': [0.09090909090909091,\n",
       "  0.09090909090909091,\n",
       "  0.09090909090909091,\n",
       "  0.09090909090909091,\n",
       "  0.09090909090909091,\n",
       "  0.09090909090909091,\n",
       "  0.09090909090909091,\n",
       "  0.09090909090909091,\n",
       "  0.09090909090909091,\n",
       "  0.09090909090909091,\n",
       "  0.09090909090909091],\n",
       " 'Folk_90s-2000': [0.09090909090909091,\n",
       "  0.09090909090909091,\n",
       "  0.09090909090909091,\n",
       "  0.09090909090909091,\n",
       "  0.09090909090909091,\n",
       "  0.09090909090909091,\n",
       "  0.09090909090909091,\n",
       "  0.09090909090909091,\n",
       "  0.09090909090909091,\n",
       "  0.09090909090909091,\n",
       "  0.09090909090909091],\n",
       " 'Folk_<70s': [0.09090909090909091,\n",
       "  0.09090909090909091,\n",
       "  0.09090909090909091,\n",
       "  0.09090909090909091,\n",
       "  0.09090909090909091,\n",
       "  0.09090909090909091,\n",
       "  0.09090909090909091,\n",
       "  0.09090909090909091,\n",
       "  0.09090909090909091,\n",
       "  0.09090909090909091,\n",
       "  0.09090909090909091],\n",
       " 'Folk_>=2010': [0.09090909090909091,\n",
       "  0.09090909090909091,\n",
       "  0.09090909090909091,\n",
       "  0.09090909090909091,\n",
       "  0.09090909090909091,\n",
       "  0.09090909090909091,\n",
       "  0.09090909090909091,\n",
       "  0.09090909090909091,\n",
       "  0.09090909090909091,\n",
       "  0.09090909090909091,\n",
       "  0.09090909090909091],\n",
       " 'Gospel_2000-2010': [0.09090677154056105,\n",
       "  0.09090677154056849,\n",
       "  0.09090677165096135,\n",
       "  0.09090677154057422,\n",
       "  0.09090677154057455,\n",
       "  0.09090677154056137,\n",
       "  0.09090677154057195,\n",
       "  0.09090677154057158,\n",
       "  0.09090677154057629,\n",
       "  0.09090677154057071,\n",
       "  0.09093228448390847],\n",
       " 'Gospel_70s-80s': [0.09090909090909087,\n",
       "  0.09090909090909091,\n",
       "  0.09090909090909088,\n",
       "  0.09090909090909093,\n",
       "  0.09090909090909095,\n",
       "  0.09090909090909093,\n",
       "  0.09090909090909091,\n",
       "  0.09090909090909091,\n",
       "  0.09090909090909091,\n",
       "  0.09090909090909091,\n",
       "  0.09090909090909093],\n",
       " 'Gospel_80s-90s': [0.09090909090909093,\n",
       "  0.09090909090909093,\n",
       "  0.09090909090909093,\n",
       "  0.09090909090909093,\n",
       "  0.09090909090909093,\n",
       "  0.09090909090909093,\n",
       "  0.09090909090909093,\n",
       "  0.09090909090909093,\n",
       "  0.09090909090909093,\n",
       "  0.09090909090909093,\n",
       "  0.09090909090909093],\n",
       " 'Gospel_90s-2000': [0.09090909090909091,\n",
       "  0.09090909090909091,\n",
       "  0.09090909090909091,\n",
       "  0.09090909090909091,\n",
       "  0.09090909090909091,\n",
       "  0.09090909090909091,\n",
       "  0.09090909090909091,\n",
       "  0.09090909090909091,\n",
       "  0.09090909090909091,\n",
       "  0.09090909090909091,\n",
       "  0.09090909090909091],\n",
       " 'Gospel_<70s': [0.09090906753527231,\n",
       "  0.09090906784062612,\n",
       "  0.09090906173844718,\n",
       "  0.09090908312028252,\n",
       "  0.09090905755381062,\n",
       "  0.09090911044516294,\n",
       "  0.09090915161925471,\n",
       "  0.09090904491056054,\n",
       "  0.09090906803508189,\n",
       "  0.09090910023338099,\n",
       "  0.09090918696812002],\n",
       " 'Gospel_>=2010': [0.09090909073618512,\n",
       "  0.09090909073618512,\n",
       "  0.09090909073618512,\n",
       "  0.09090909073618512,\n",
       "  0.09090909073618512,\n",
       "  0.09090909074195969,\n",
       "  0.09090909073618512,\n",
       "  0.09090909073618512,\n",
       "  0.09090909073618512,\n",
       "  0.09090909073618512,\n",
       "  0.09090909263237405],\n",
       " 'Hip-Hop_2000-2010': [0.09090909090909091,\n",
       "  0.09090909090909091,\n",
       "  0.09090909090909091,\n",
       "  0.09090909090909091,\n",
       "  0.09090909090909091,\n",
       "  0.09090909090909091,\n",
       "  0.09090909090909091,\n",
       "  0.09090909090909091,\n",
       "  0.09090909090909091,\n",
       "  0.09090909090909091,\n",
       "  0.09090909090909091],\n",
       " 'Hip-Hop_80s-90s': [0.09090909090909091,\n",
       "  0.09090909090909091,\n",
       "  0.09090909090909091,\n",
       "  0.09090909090909091,\n",
       "  0.09090909090909091,\n",
       "  0.09090909090909091,\n",
       "  0.09090909090909091,\n",
       "  0.09090909090909091,\n",
       "  0.09090909090909091,\n",
       "  0.09090909090909091,\n",
       "  0.09090909090909091],\n",
       " 'Hip-Hop_90s-2000': [0.0909090909090909,\n",
       "  0.0909090909090909,\n",
       "  0.0909090909090909,\n",
       "  0.0909090909090909,\n",
       "  0.0909090909090909,\n",
       "  0.0909090909090909,\n",
       "  0.0909090909090909,\n",
       "  0.0909090909090909,\n",
       "  0.0909090909090909,\n",
       "  0.0909090909090909,\n",
       "  0.0909090909090909],\n",
       " 'Hip-Hop_>=2010': [0.090909703623339,\n",
       "  0.09090902963766583,\n",
       "  0.09090902963766652,\n",
       "  0.09090902963766626,\n",
       "  0.09090902963766627,\n",
       "  0.09090902963766608,\n",
       "  0.09090902963766641,\n",
       "  0.09090902963766581,\n",
       "  0.0909090296376666,\n",
       "  0.09090902963766564,\n",
       "  0.09090902963766564],\n",
       " 'Indie_2000-2010': [0.09090909090909091,\n",
       "  0.09090909090909091,\n",
       "  0.09090909090909091,\n",
       "  0.09090909090909091,\n",
       "  0.09090909090909091,\n",
       "  0.09090909090909091,\n",
       "  0.09090909090909091,\n",
       "  0.09090909090909091,\n",
       "  0.09090909090909091,\n",
       "  0.09090909090909091,\n",
       "  0.09090909090909091],\n",
       " 'Indie_>=2010': [0.09086365213953386,\n",
       "  0.09086365214569214,\n",
       "  0.0908636521456077,\n",
       "  0.09086365214338676,\n",
       "  0.09086365214376395,\n",
       "  0.09086365214481763,\n",
       "  0.09086365214474608,\n",
       "  0.09086365214004458,\n",
       "  0.09086365214613142,\n",
       "  0.09086365213896562,\n",
       "  0.09136347856731028],\n",
       " 'Jazz_2000-2010': [0.09090909090909091,\n",
       "  0.09090909090909091,\n",
       "  0.09090909090909091,\n",
       "  0.09090909090909091,\n",
       "  0.09090909090909091,\n",
       "  0.09090909090909091,\n",
       "  0.09090909090909091,\n",
       "  0.09090909090909091,\n",
       "  0.09090909090909091,\n",
       "  0.09090909090909091,\n",
       "  0.09090909090909091],\n",
       " 'Jazz_70s-80s': [0.09090909090909091,\n",
       "  0.09090909090909091,\n",
       "  0.09090909090909091,\n",
       "  0.09090909090909091,\n",
       "  0.09090909090909091,\n",
       "  0.09090909090909091,\n",
       "  0.09090909090909091,\n",
       "  0.09090909090909091,\n",
       "  0.09090909090909091,\n",
       "  0.09090909090909091,\n",
       "  0.09090909090909091],\n",
       " 'Jazz_80s-90s': [0.09090909090909091,\n",
       "  0.09090909090909091,\n",
       "  0.09090909090909091,\n",
       "  0.09090909090909091,\n",
       "  0.09090909090909091,\n",
       "  0.09090909090909091,\n",
       "  0.09090909090909091,\n",
       "  0.09090909090909091,\n",
       "  0.09090909090909091,\n",
       "  0.09090909090909091,\n",
       "  0.09090909090909091],\n",
       " 'Jazz_90s-2000': [0.09090909090909091,\n",
       "  0.09090909090909091,\n",
       "  0.09090909090909091,\n",
       "  0.09090909090909091,\n",
       "  0.09090909090909091,\n",
       "  0.09090909090909091,\n",
       "  0.09090909090909091,\n",
       "  0.09090909090909091,\n",
       "  0.09090909090909091,\n",
       "  0.09090909090909091,\n",
       "  0.09090909090909091],\n",
       " 'Jazz_<70s': [0.09090909090909091,\n",
       "  0.09090909090909091,\n",
       "  0.09090909090909091,\n",
       "  0.09090909090909091,\n",
       "  0.09090909090909091,\n",
       "  0.09090909090909091,\n",
       "  0.09090909090909091,\n",
       "  0.09090909090909091,\n",
       "  0.09090909090909091,\n",
       "  0.09090909090909091,\n",
       "  0.09090909090909091],\n",
       " 'Jazz_>=2010': [0.09090909090909091,\n",
       "  0.09090909090909091,\n",
       "  0.09090909090909091,\n",
       "  0.09090909090909091,\n",
       "  0.09090909090909091,\n",
       "  0.09090909090909091,\n",
       "  0.09090909090909091,\n",
       "  0.09090909090909091,\n",
       "  0.09090909090909091,\n",
       "  0.09090909090909091,\n",
       "  0.09090909090909091],\n",
       " 'Metal_2000-2010': [0.09090909090909091,\n",
       "  0.09090909090909091,\n",
       "  0.09090909090909091,\n",
       "  0.09090909090909091,\n",
       "  0.09090909090909091,\n",
       "  0.09090909090909091,\n",
       "  0.09090909090909091,\n",
       "  0.09090909090909091,\n",
       "  0.09090909090909091,\n",
       "  0.09090909090909091,\n",
       "  0.09090909090909091],\n",
       " 'Metal_70s-80s': [0.09090909090909093,\n",
       "  0.09090909090909093,\n",
       "  0.09090909090909093,\n",
       "  0.09090909090909093,\n",
       "  0.09090909090909093,\n",
       "  0.09090909090909093,\n",
       "  0.09090909090909093,\n",
       "  0.09090909090909093,\n",
       "  0.09090909090909093,\n",
       "  0.09090909090909093,\n",
       "  0.09090909090909093],\n",
       " 'Metal_80s-90s': [0.09090909090909091,\n",
       "  0.09090909090909091,\n",
       "  0.09090909090909091,\n",
       "  0.09090909090909091,\n",
       "  0.09090909090909091,\n",
       "  0.09090909090909091,\n",
       "  0.09090909090909091,\n",
       "  0.09090909090909091,\n",
       "  0.09090909090909091,\n",
       "  0.09090909090909091,\n",
       "  0.09090909090909091],\n",
       " 'Metal_90s-2000': [0.09090909090909091,\n",
       "  0.09090909090909091,\n",
       "  0.09090909090909091,\n",
       "  0.09090909090909091,\n",
       "  0.09090909090909091,\n",
       "  0.09090909090909091,\n",
       "  0.09090909090909091,\n",
       "  0.09090909090909091,\n",
       "  0.09090909090909091,\n",
       "  0.09090909090909091,\n",
       "  0.09090909090909091],\n",
       " 'Metal_>=2010': [0.09090909096400691,\n",
       "  0.09090909090359929,\n",
       "  0.09090909090359929,\n",
       "  0.09090909090359929,\n",
       "  0.09090909090359929,\n",
       "  0.09090909090359929,\n",
       "  0.09090909090359929,\n",
       "  0.09090909090359929,\n",
       "  0.09090909090359929,\n",
       "  0.09090909090359929,\n",
       "  0.09090909090359929],\n",
       " 'Other_2000-2010': [0.09090909090909091,\n",
       "  0.09090909090909091,\n",
       "  0.09090909090909091,\n",
       "  0.09090909090909091,\n",
       "  0.09090909090909091,\n",
       "  0.09090909090909091,\n",
       "  0.09090909090909091,\n",
       "  0.09090909090909091,\n",
       "  0.09090909090909091,\n",
       "  0.09090909090909091,\n",
       "  0.09090909090909091],\n",
       " 'Other_70s-80s': [0.09090909090909091,\n",
       "  0.09090909090909091,\n",
       "  0.09090909090909091,\n",
       "  0.09090909090909091,\n",
       "  0.09090909090909091,\n",
       "  0.09090909090909091,\n",
       "  0.09090909090909091,\n",
       "  0.09090909090909091,\n",
       "  0.09090909090909091,\n",
       "  0.09090909090909091,\n",
       "  0.09090909090909091],\n",
       " 'Other_80s-90s': [0.06734415173548806,\n",
       "  0.067344186701354,\n",
       "  0.06734418619858949,\n",
       "  0.0673441732151649,\n",
       "  0.06734417538827055,\n",
       "  0.06734418152737796,\n",
       "  0.06734418110744606,\n",
       "  0.3265582089972578,\n",
       "  0.06734418932778621,\n",
       "  0.06734418745963122,\n",
       "  0.06734417834163367],\n",
       " 'Other_90s-2000': [0.09090909090909091,\n",
       "  0.09090909090909091,\n",
       "  0.09090909090909091,\n",
       "  0.09090909090909091,\n",
       "  0.09090909090909091,\n",
       "  0.09090909090909091,\n",
       "  0.09090909090909091,\n",
       "  0.09090909090909091,\n",
       "  0.09090909090909091,\n",
       "  0.09090909090909091,\n",
       "  0.09090909090909091],\n",
       " 'Other_<70s': [0.09090909090909091,\n",
       "  0.09090909090909091,\n",
       "  0.09090909090909091,\n",
       "  0.09090909090909091,\n",
       "  0.09090909090909091,\n",
       "  0.09090909090909091,\n",
       "  0.09090909090909091,\n",
       "  0.09090909090909091,\n",
       "  0.09090909090909091,\n",
       "  0.09090909090909091,\n",
       "  0.09090909090909091],\n",
       " 'Other_>=2010': [0.09090907814303821,\n",
       "  0.09090907814303939,\n",
       "  0.09090907814303938,\n",
       "  0.09090907814303893,\n",
       "  0.09090907814303902,\n",
       "  0.09090907814303924,\n",
       "  0.0909090781430392,\n",
       "  0.09090907814303911,\n",
       "  0.09090907814303947,\n",
       "  0.09090921856960892,\n",
       "  0.09090907814303911],\n",
       " 'Pop_2000-2010': [0.09090909090909091,\n",
       "  0.09090909090909091,\n",
       "  0.09090909090909091,\n",
       "  0.09090909090909091,\n",
       "  0.09090909090909091,\n",
       "  0.09090909090909091,\n",
       "  0.09090909090909091,\n",
       "  0.09090909090909091,\n",
       "  0.09090909090909091,\n",
       "  0.09090909090909091,\n",
       "  0.09090909090909091],\n",
       " 'Pop_70s-80s': [0.09090909090909091,\n",
       "  0.09090909090909091,\n",
       "  0.09090909090909091,\n",
       "  0.09090909090909091,\n",
       "  0.09090909090909091,\n",
       "  0.09090909090909091,\n",
       "  0.09090909090909091,\n",
       "  0.09090909090909091,\n",
       "  0.09090909090909091,\n",
       "  0.09090909090909091,\n",
       "  0.09090909090909091],\n",
       " 'Pop_80s-90s': [0.0905982085537774,\n",
       "  0.09059820857457249,\n",
       "  0.09059820857428737,\n",
       "  0.09059820856678773,\n",
       "  0.09059820856806149,\n",
       "  0.09059820857161947,\n",
       "  0.09059820857137797,\n",
       "  0.09059820855550202,\n",
       "  0.09059820857605586,\n",
       "  0.09059820855185857,\n",
       "  0.09401791433609948],\n",
       " 'Pop_90s-2000': [0.09090909090909091,\n",
       "  0.09090909090909091,\n",
       "  0.09090909090909091,\n",
       "  0.09090909090909091,\n",
       "  0.09090909090909091,\n",
       "  0.09090909090909091,\n",
       "  0.09090909090909091,\n",
       "  0.09090909090909091,\n",
       "  0.09090909090909091,\n",
       "  0.09090909090909091,\n",
       "  0.09090909090909091],\n",
       " 'Pop_<70s': [0.09090909090909091,\n",
       "  0.09090909090909091,\n",
       "  0.09090909090909091,\n",
       "  0.09090909090909091,\n",
       "  0.09090909090909091,\n",
       "  0.09090909090909091,\n",
       "  0.09090909090909091,\n",
       "  0.09090909090909091,\n",
       "  0.09090909090909091,\n",
       "  0.09090909090909091,\n",
       "  0.09090909090909091],\n",
       " 'Pop_>=2010': [0.0909090909090909,\n",
       "  0.0909090909090909,\n",
       "  0.0909090909090909,\n",
       "  0.0909090909090909,\n",
       "  0.0909090909090909,\n",
       "  0.0909090909090909,\n",
       "  0.0909090909090909,\n",
       "  0.0909090909090909,\n",
       "  0.0909090909090909,\n",
       "  0.0909090909090909,\n",
       "  0.0909090909090909],\n",
       " 'R&B_2000-2010': [0.09090909090909091,\n",
       "  0.09090909090909091,\n",
       "  0.09090909090909091,\n",
       "  0.09090909090909091,\n",
       "  0.09090909090909091,\n",
       "  0.09090909090909091,\n",
       "  0.09090909090909091,\n",
       "  0.09090909090909091,\n",
       "  0.09090909090909091,\n",
       "  0.09090909090909091,\n",
       "  0.09090909090909091],\n",
       " 'R&B_70s-80s': [0.09090909090909091,\n",
       "  0.09090909090909091,\n",
       "  0.09090909090909091,\n",
       "  0.09090909090909091,\n",
       "  0.09090909090909091,\n",
       "  0.09090909090909091,\n",
       "  0.09090909090909091,\n",
       "  0.09090909090909091,\n",
       "  0.09090909090909091,\n",
       "  0.09090909090909091,\n",
       "  0.09090909090909091],\n",
       " 'R&B_80s-90s': [0.09090909090909091,\n",
       "  0.09090909090909091,\n",
       "  0.09090909090909091,\n",
       "  0.09090909090909091,\n",
       "  0.09090909090909091,\n",
       "  0.09090909090909091,\n",
       "  0.09090909090909091,\n",
       "  0.09090909090909091,\n",
       "  0.09090909090909091,\n",
       "  0.09090909090909091,\n",
       "  0.09090909090909091],\n",
       " 'R&B_90s-2000': [0.09090909090909091,\n",
       "  0.09090909090909091,\n",
       "  0.09090909090909091,\n",
       "  0.09090909090909091,\n",
       "  0.09090909090909091,\n",
       "  0.09090909090909091,\n",
       "  0.09090909090909091,\n",
       "  0.09090909090909091,\n",
       "  0.09090909090909091,\n",
       "  0.09090909090909091,\n",
       "  0.09090909090909091],\n",
       " 'R&B_<70s': [0.09090909090909091,\n",
       "  0.09090909090909091,\n",
       "  0.09090909090909091,\n",
       "  0.09090909090909091,\n",
       "  0.09090909090909091,\n",
       "  0.09090909090909091,\n",
       "  0.09090909090909091,\n",
       "  0.09090909090909091,\n",
       "  0.09090909090909091,\n",
       "  0.09090909090909091,\n",
       "  0.09090909090909091],\n",
       " 'R&B_>=2010': [0.09090909090909091,\n",
       "  0.09090909090909091,\n",
       "  0.09090909090909091,\n",
       "  0.09090909090909091,\n",
       "  0.09090909090909091,\n",
       "  0.09090909090909091,\n",
       "  0.09090909090909091,\n",
       "  0.09090909090909091,\n",
       "  0.09090909090909091,\n",
       "  0.09090909090909091,\n",
       "  0.09090909090909091],\n",
       " 'Reggae_2000-2010': [0.09090909090909091,\n",
       "  0.09090909090909091,\n",
       "  0.09090909090909091,\n",
       "  0.09090909090909091,\n",
       "  0.09090909090909091,\n",
       "  0.09090909090909091,\n",
       "  0.09090909090909091,\n",
       "  0.09090909090909091,\n",
       "  0.09090909090909091,\n",
       "  0.09090909090909091,\n",
       "  0.09090909090909091],\n",
       " 'Reggae_70s-80s': [0.09090909090909091,\n",
       "  0.09090909090909091,\n",
       "  0.09090909090909091,\n",
       "  0.09090909090909091,\n",
       "  0.09090909090909091,\n",
       "  0.09090909090909091,\n",
       "  0.09090909090909091,\n",
       "  0.09090909090909091,\n",
       "  0.09090909090909091,\n",
       "  0.09090909090909091,\n",
       "  0.09090909090909091],\n",
       " 'Reggae_80s-90s': [0.09090909090909091,\n",
       "  0.09090909090909091,\n",
       "  0.09090909090909091,\n",
       "  0.09090909090909091,\n",
       "  0.09090909090909091,\n",
       "  0.09090909090909091,\n",
       "  0.09090909090909091,\n",
       "  0.09090909090909091,\n",
       "  0.09090909090909091,\n",
       "  0.09090909090909091,\n",
       "  0.09090909090909091],\n",
       " 'Reggae_90s-2000': [0.09090909090909091,\n",
       "  0.09090909090909091,\n",
       "  0.09090909090909091,\n",
       "  0.09090909090909091,\n",
       "  0.09090909090909091,\n",
       "  0.09090909090909091,\n",
       "  0.09090909090909091,\n",
       "  0.09090909090909091,\n",
       "  0.09090909090909091,\n",
       "  0.09090909090909091,\n",
       "  0.09090909090909091],\n",
       " 'Reggae_>=2010': [0.09090909090909091,\n",
       "  0.09090909090909091,\n",
       "  0.09090909090909091,\n",
       "  0.09090909090909091,\n",
       "  0.09090909090909091,\n",
       "  0.09090909090909091,\n",
       "  0.09090909090909091,\n",
       "  0.09090909090909091,\n",
       "  0.09090909090909091,\n",
       "  0.09090909090909091,\n",
       "  0.09090909090909091],\n",
       " 'Rock_2000-2010': [0.09100918436540935,\n",
       "  0.09089908156340946,\n",
       "  0.09089908156353331,\n",
       "  0.09089908156348225,\n",
       "  0.09089908156349093,\n",
       "  0.09089908156345174,\n",
       "  0.09089908156351353,\n",
       "  0.0908990815634048,\n",
       "  0.09089908156354529,\n",
       "  0.09089908156337966,\n",
       "  0.09089908156337975],\n",
       " 'Rock_70s-80s': [0.0909090909090909,\n",
       "  0.0909090909090909,\n",
       "  0.0909090909090909,\n",
       "  0.0909090909090909,\n",
       "  0.0909090909090909,\n",
       "  0.0909090909090909,\n",
       "  0.0909090909090909,\n",
       "  0.0909090909090909,\n",
       "  0.0909090909090909,\n",
       "  0.0909090909090909,\n",
       "  0.0909090909090909],\n",
       " 'Rock_80s-90s': [0.09090909090909091,\n",
       "  0.09090909090909091,\n",
       "  0.09090909090909091,\n",
       "  0.09090909090909091,\n",
       "  0.09090909090909091,\n",
       "  0.09090909090909091,\n",
       "  0.09090909090909091,\n",
       "  0.09090909090909091,\n",
       "  0.09090909090909091,\n",
       "  0.09090909090909091,\n",
       "  0.09090909090909091],\n",
       " 'Rock_90s-2000': [0.0909090909090909,\n",
       "  0.0909090909090909,\n",
       "  0.0909090909090909,\n",
       "  0.0909090909090909,\n",
       "  0.0909090909090909,\n",
       "  0.0909090909090909,\n",
       "  0.0909090909090909,\n",
       "  0.0909090909090909,\n",
       "  0.0909090909090909,\n",
       "  0.0909090909090909,\n",
       "  0.0909090909090909],\n",
       " 'Rock_<70s': [0.09090909090909091,\n",
       "  0.09090909090909091,\n",
       "  0.09090909090909091,\n",
       "  0.09090909090909091,\n",
       "  0.09090909090909091,\n",
       "  0.09090909090909091,\n",
       "  0.09090909090909091,\n",
       "  0.09090909090909091,\n",
       "  0.09090909090909091,\n",
       "  0.09090909090909091,\n",
       "  0.09090909090909091],\n",
       " 'Rock_>=2010': [0.0909090909090909,\n",
       "  0.0909090909090909,\n",
       "  0.0909090909090909,\n",
       "  0.0909090909090909,\n",
       "  0.0909090909090909,\n",
       "  0.0909090909090909,\n",
       "  0.0909090909090909,\n",
       "  0.0909090909090909,\n",
       "  0.0909090909090909,\n",
       "  0.0909090909090909,\n",
       "  0.0909090909090909]}"
      ]
     },
     "execution_count": 79,
     "metadata": {},
     "output_type": "execute_result"
    }
   ],
   "source": [
    "lyrics_author_lda.aggregate_topics()"
   ]
  },
  {
   "cell_type": "code",
   "execution_count": 81,
   "metadata": {},
   "outputs": [
    {
     "name": "stdout",
     "output_type": "stream",
     "text": [
      "Plotting for each genre ...\n"
     ]
    },
    {
     "name": "stderr",
     "output_type": "stream",
     "text": [
      "0it [00:00, ?it/s]No handles with labels found to put in legend.\n",
      "2it [00:00,  9.03it/s]\n"
     ]
    },
    {
     "data": {
      "image/png": "[encoded data removed]",
      "text/plain": [
       "<Figure size 1440x720 with 2 Axes>"
      ]
     },
     "metadata": {
      "needs_background": "light"
     },
     "output_type": "display_data"
    }
   ],
   "source": [
    "lyrics_author_lda.plot_aggregated_topics(include_genres=[\"Country\", \"Pop\"], fig_size=(20, 10))"
   ]
  },
  {
   "cell_type": "code",
   "execution_count": 82,
   "metadata": {},
   "outputs": [
    {
     "data": {
      "text/html": [
       "<div>\n",
       "<style scoped>\n",
       "    .dataframe tbody tr th:only-of-type {\n",
       "        vertical-align: middle;\n",
       "    }\n",
       "\n",
       "    .dataframe tbody tr th {\n",
       "        vertical-align: top;\n",
       "    }\n",
       "\n",
       "    .dataframe thead th {\n",
       "        text-align: right;\n",
       "    }\n",
       "</style>\n",
       "<table border=\"1\" class=\"dataframe\">\n",
       "  <thead>\n",
       "    <tr style=\"text-align: right;\">\n",
       "      <th></th>\n",
       "      <th>a</th>\n",
       "      <th>b</th>\n",
       "      <th>c</th>\n",
       "    </tr>\n",
       "  </thead>\n",
       "  <tbody>\n",
       "    <tr>\n",
       "      <th>0</th>\n",
       "      <td>10</td>\n",
       "      <td>1</td>\n",
       "      <td>3</td>\n",
       "    </tr>\n",
       "    <tr>\n",
       "      <th>1</th>\n",
       "      <td>20</td>\n",
       "      <td>1</td>\n",
       "      <td>4</td>\n",
       "    </tr>\n",
       "    <tr>\n",
       "      <th>2</th>\n",
       "      <td>30</td>\n",
       "      <td>2</td>\n",
       "      <td>4</td>\n",
       "    </tr>\n",
       "    <tr>\n",
       "      <th>3</th>\n",
       "      <td>40</td>\n",
       "      <td>2</td>\n",
       "      <td>3</td>\n",
       "    </tr>\n",
       "    <tr>\n",
       "      <th>4</th>\n",
       "      <td>50</td>\n",
       "      <td>1</td>\n",
       "      <td>3</td>\n",
       "    </tr>\n",
       "    <tr>\n",
       "      <th>5</th>\n",
       "      <td>60</td>\n",
       "      <td>2</td>\n",
       "      <td>4</td>\n",
       "    </tr>\n",
       "  </tbody>\n",
       "</table>\n",
       "</div>"
      ],
      "text/plain": [
       "    a  b  c\n",
       "0  10  1  3\n",
       "1  20  1  4\n",
       "2  30  2  4\n",
       "3  40  2  3\n",
       "4  50  1  3\n",
       "5  60  2  4"
      ]
     },
     "execution_count": 82,
     "metadata": {},
     "output_type": "execute_result"
    }
   ],
   "source": [
    "test = pd.DataFrame.from_dict({\"a\":[10,20,30,40,50,60], \"b\":[1,1,2,2,1,2], \"c\":[3,4,4,3,3,4]})\n",
    "test"
   ]
  },
  {
   "cell_type": "code",
   "execution_count": 83,
   "metadata": {},
   "outputs": [],
   "source": [
    "grouped = test.groupby([\"b\", \"c\"])"
   ]
  },
  {
   "cell_type": "code",
   "execution_count": 84,
   "metadata": {},
   "outputs": [
    {
     "data": {
      "text/plain": [
       "[(1, 3), (1, 4), (2, 3), (2, 4)]"
      ]
     },
     "execution_count": 84,
     "metadata": {},
     "output_type": "execute_result"
    }
   ],
   "source": [
    "keys = list(grouped.groups.keys())\n",
    "keys"
   ]
  },
  {
   "cell_type": "code",
   "execution_count": 85,
   "metadata": {},
   "outputs": [
    {
     "data": {
      "text/html": [
       "<div>\n",
       "<style scoped>\n",
       "    .dataframe tbody tr th:only-of-type {\n",
       "        vertical-align: middle;\n",
       "    }\n",
       "\n",
       "    .dataframe tbody tr th {\n",
       "        vertical-align: top;\n",
       "    }\n",
       "\n",
       "    .dataframe thead th {\n",
       "        text-align: right;\n",
       "    }\n",
       "</style>\n",
       "<table border=\"1\" class=\"dataframe\">\n",
       "  <thead>\n",
       "    <tr style=\"text-align: right;\">\n",
       "      <th></th>\n",
       "      <th></th>\n",
       "      <th>a</th>\n",
       "    </tr>\n",
       "    <tr>\n",
       "      <th>b</th>\n",
       "      <th>c</th>\n",
       "      <th></th>\n",
       "    </tr>\n",
       "  </thead>\n",
       "  <tbody>\n",
       "    <tr>\n",
       "      <th rowspan=\"2\" valign=\"top\">1</th>\n",
       "      <th>3</th>\n",
       "      <td>30</td>\n",
       "    </tr>\n",
       "    <tr>\n",
       "      <th>4</th>\n",
       "      <td>20</td>\n",
       "    </tr>\n",
       "    <tr>\n",
       "      <th rowspan=\"2\" valign=\"top\">2</th>\n",
       "      <th>3</th>\n",
       "      <td>40</td>\n",
       "    </tr>\n",
       "    <tr>\n",
       "      <th>4</th>\n",
       "      <td>45</td>\n",
       "    </tr>\n",
       "  </tbody>\n",
       "</table>\n",
       "</div>"
      ],
      "text/plain": [
       "      a\n",
       "b c    \n",
       "1 3  30\n",
       "  4  20\n",
       "2 3  40\n",
       "  4  45"
      ]
     },
     "execution_count": 85,
     "metadata": {},
     "output_type": "execute_result"
    }
   ],
   "source": [
    "grouped = grouped.mean()\n",
    "grouped"
   ]
  },
  {
   "cell_type": "code",
   "execution_count": 96,
   "metadata": {},
   "outputs": [
    {
     "data": {
      "text/plain": [
       "c\n",
       "4    20\n",
       "3    30\n",
       "Name: a, dtype: int64"
      ]
     },
     "execution_count": 96,
     "metadata": {},
     "output_type": "execute_result"
    }
   ],
   "source": [
    "grouped.loc[1, \"a\"][[4,3]]"
   ]
  },
  {
   "cell_type": "code",
   "execution_count": 9,
   "metadata": {},
   "outputs": [],
   "source": [
    "random.seed(7)"
   ]
  },
  {
   "cell_type": "code",
   "execution_count": 17,
   "metadata": {},
   "outputs": [],
   "source": [
    "ciao = [1,2,3,4,5,6]\n",
    "random.shuffle(ciao)"
   ]
  },
  {
   "cell_type": "code",
   "execution_count": 18,
   "metadata": {},
   "outputs": [
    {
     "data": {
      "text/plain": [
       "[2, 3, 4, 6, 5, 1]"
      ]
     },
     "execution_count": 18,
     "metadata": {},
     "output_type": "execute_result"
    }
   ],
   "source": [
    "ciao"
   ]
  },
  {
   "cell_type": "code",
   "execution_count": null,
   "metadata": {},
   "outputs": [],
   "source": []
  }
 ],
 "metadata": {
  "kernelspec": {
   "display_name": "Python 3",
   "language": "python",
   "name": "python3"
  },
  "language_info": {
   "codemirror_mode": {
    "name": "ipython",
    "version": 3
   },
   "file_extension": ".py",
   "mimetype": "text/x-python",
   "name": "python",
   "nbconvert_exporter": "python",
   "pygments_lexer": "ipython3",
   "version": "3.7.3"
  }
 },
 "nbformat": 4,
 "nbformat_minor": 4
}
