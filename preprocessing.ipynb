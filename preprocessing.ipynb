{
 "cells": [
  {
   "cell_type": "code",
   "execution_count": 1,
   "metadata": {},
   "outputs": [],
   "source": [
    "from tqdm import tqdm # progress bar when long task\n",
    "import pandas as pd\n",
    "import numpy as np\n",
    "import pickle\n",
    "import re\n",
    "import os\n",
    "\n",
    "from nltk.collocations import BigramCollocationFinder, BigramAssocMeasures\n",
    "from nltk.corpus import stopwords\n",
    "from nltk import Counter\n",
    "import spacy\n",
    "nlp = spacy.load(\"en\")"
   ]
  },
  {
   "cell_type": "markdown",
   "metadata": {},
   "source": [
    "## LyricsPreprocessing CLASS"
   ]
  },
  {
   "cell_type": "code",
   "execution_count": 2,
   "metadata": {
    "jupyter": {
     "source_hidden": true
    }
   },
   "outputs": [],
   "source": [
    "class LyricsPreprocessing():\n",
    "    \n",
    "    \n",
    "    def __init__(self, lyrics_df):\n",
    "        \n",
    "        self.lyrics_df = lyrics_df\n",
    "        \n",
    "        \n",
    "    def preliminary_preprocessing(self, lyrics_df=None, replace_number_with=\"0\", every_digit=True):\n",
    "        \n",
    "        if lyrics_df is None:\n",
    "            lyrics_df = self.lyrics_df\n",
    "        \n",
    "        # lowercase\n",
    "        print(\"Converting to lower case ...\", flush=True)\n",
    "        lyrics_df.loc[:, \"lyrics\"] = lyrics_df.lyrics.apply(lambda text: text.strip().lower())\n",
    "        \n",
    "        # replace numbers\n",
    "        print(f\"Replacing numbers with {replace_number_with} ...\", flush=True)\n",
    "        if every_digit:\n",
    "            numbers = re.compile('[0-9]+')\n",
    "        else:\n",
    "            numbers = re.compile('[0-9]')\n",
    "        \n",
    "        lyrics_df.loc[:, \"lyrics\"] = lyrics_df.lyrics.apply(lambda text: re.sub(numbers, replace_number_with, text))\n",
    "        \n",
    "        return lyrics_df\n",
    "\n",
    "    \n",
    "    def tokenize(self, lyrics_df=None, save=False):\n",
    "        \n",
    "        if lyrics_df is None:\n",
    "            lyrics_df = self.lyrics_df\n",
    "        \n",
    "        print(\"Tokenizing ...\", flush=True)\n",
    "        tokenized_corpus = [[token.text for token in nlp(lyrics)] for lyrics in tqdm(lyrics_df.loc[:, \"lyrics\"].to_list())]\n",
    "        self.tokenized_corpus = tokenized_corpus\n",
    "        \n",
    "        if not save is False:\n",
    "            self.save(tokenized_corpus, 'tokenized_corpus', how=save)\n",
    "        \n",
    "        return tokenized_corpus\n",
    "    \n",
    "    \n",
    "    def core_preprocessing(self, lyrics_df, save=False):\n",
    "        \n",
    "        if lyrics_df is None:\n",
    "            lyrics_df = self.lyrics_df\n",
    "        \n",
    "        lemmatized_corpus = []\n",
    "        tagged_lemmatized_corpus = []\n",
    "        trimmed_corpus = []\n",
    "        tagged_trimmed_corpus = []\n",
    "        for lyrics in tqdm(lyrics_df.loc[:, \"lyrics\"].to_list()):\n",
    "            lemmas = []\n",
    "            tagged_lemmas = []\n",
    "            trimmed_lemmas = []\n",
    "            tagged_trimmed_lemmas = []\n",
    "            for token in nlp(lyrics):\n",
    "                # remove all tokens with length <= 2\n",
    "                if len(str(token)) > 2:\n",
    "                    # lemmatize and get POS\n",
    "                    lemma = token.lemma_\n",
    "                    pos = token.pos_\n",
    "                    lemmas.append(lemma)\n",
    "                    tagged_lemmas.append(lemma + \"_\" + pos)\n",
    "                    # keep only if POS in ['NOUN', 'VERB', 'ADJ', 'ADV','INTJ', 'X']\n",
    "                    if pos in ['NOUN', 'VERB', 'ADJ', 'ADV', 'INTJ', 'X']:\n",
    "                        trimmed_lemmas.append(lemma)\n",
    "                        tagged_trimmed_lemmas.append(lemma + \"_\" + pos)\n",
    "            lemmatized_corpus.append(lemmas)\n",
    "            tagged_lemmatized_corpus.append(tagged_lemmas)\n",
    "            trimmed_corpus.append(trimmed_lemmas)\n",
    "            tagged_trimmed_corpus.append(tagged_trimmed_lemmas)\n",
    "        \n",
    "        self.lemmatized_corpus = lemmatized_corpus\n",
    "        self.tagged_lemmatized_corpus = tagged_lemmatized_corpus\n",
    "        self.trimmed_corpus = trimmed_corpus\n",
    "        self.tagged_corpus = tagged_trimmed_corpus\n",
    "        \n",
    "        if not save is False:\n",
    "            self.save(lemmatized_corpus, 'lemmatized_corpus', how=save)\n",
    "            self.save(tagged_lemmatized_corpus, 'tagged_lemmatized_corpus', how=save)\n",
    "            self.save(trimmed_corpus, 'trimmed_corpus', how=save)\n",
    "            self.save(tagged_trimmed_corpus, 'tagged_trimmed_corpus', how=save)\n",
    "        \n",
    "           \n",
    "    def join_collocations(self, preprocessed_corpus, most_common=20):\n",
    "        \n",
    "        # separate each lyrics with a space in order to avoid collocations between different songs\n",
    "        words = []\n",
    "        for idx, lyrics in enumerate(preprocessed_corpus):\n",
    "            # not for the first\n",
    "            if idx > 0:\n",
    "                words.append(' ')\n",
    "            for token in lyrics:\n",
    "                words.append(token)\n",
    "            \n",
    "        finder = BigramCollocationFinder.from_words(words)\n",
    "        bgm = BigramAssocMeasures()\n",
    "        score = bgm.mi_like\n",
    "        collocations = {'_'.join(bigram): pmi for bigram, pmi in finder.score_ngrams(score)}\n",
    "        \n",
    "        return Counter(collocations).most_common(most_common)\n",
    "    \n",
    "    \n",
    "    def save(self, obj, filename, path='/Users/lucamasserano/Desktop/BOCCONI/nlp/final_project/lyrics_project/data/', how='pickle'):\n",
    "        \n",
    "        if how == 'pickle':\n",
    "            with open(os.path.join(path, filename + '.pickle'), 'wb') as pickled_obj:\n",
    "                pickle.dump(obj, pickled_object)\n",
    "               "
   ]
  },
  {
   "cell_type": "markdown",
   "metadata": {},
   "source": [
    "### Analysis"
   ]
  },
  {
   "cell_type": "code",
   "execution_count": 3,
   "metadata": {},
   "outputs": [
    {
     "data": {
      "text/plain": [
       "(43844, 7)"
      ]
     },
     "execution_count": 3,
     "metadata": {},
     "output_type": "execute_result"
    }
   ],
   "source": [
    "lyrics_df = pd.read_csv('/Users/lucamasserano/Desktop/BOCCONI/nlp/final_project/lyrics_project/data/lyrics_cleaned.csv')\n",
    "lyrics_df.shape"
   ]
  },
  {
   "cell_type": "code",
   "execution_count": 4,
   "metadata": {},
   "outputs": [],
   "source": [
    "lyrics_preprocess = LyricsPreprocessing(lyrics_df=lyrics_df)"
   ]
  },
  {
   "cell_type": "code",
   "execution_count": 5,
   "metadata": {},
   "outputs": [
    {
     "name": "stdout",
     "output_type": "stream",
     "text": [
      "Converting to lower case ...\n",
      "Replacing numbers with 0 ...\n"
     ]
    },
    {
     "data": {
      "text/plain": [
       "artist                                          Bruce Springsteen\n",
       "song                                         Racing In The Street\n",
       "album                                Darkness on the Edge of Town\n",
       "release_date                                           1978-06-02\n",
       "genre                                                        Rock\n",
       "lyrics          i got a sixty-nine chevy with a 0 fuelie heads...\n",
       "year                                                         1978\n",
       "Name: 4758, dtype: object"
      ]
     },
     "execution_count": 5,
     "metadata": {},
     "output_type": "execute_result"
    }
   ],
   "source": [
    "lyrics_cleaned = lyrics_preprocess.preliminary_preprocessing()\n",
    "lyrics_cleaned.iloc[4758, :]"
   ]
  },
  {
   "cell_type": "code",
   "execution_count": 6,
   "metadata": {},
   "outputs": [
    {
     "name": "stderr",
     "output_type": "stream",
     "text": [
      "100%|██████████| 43844/43844 [57:34<00:00, 13.05it/s]  \n"
     ]
    },
    {
     "ename": "NameError",
     "evalue": "name 'pickled_object' is not defined",
     "output_type": "error",
     "traceback": [
      "\u001b[0;31m---------------------------------------------------------------------------\u001b[0m",
      "\u001b[0;31mNameError\u001b[0m                                 Traceback (most recent call last)",
      "\u001b[0;32m<ipython-input-6-a0693f8886ce>\u001b[0m in \u001b[0;36m<module>\u001b[0;34m\u001b[0m\n\u001b[0;32m----> 1\u001b[0;31m \u001b[0mlyrics_preprocess\u001b[0m\u001b[0;34m.\u001b[0m\u001b[0mcore_preprocessing\u001b[0m\u001b[0;34m(\u001b[0m\u001b[0mlyrics_df\u001b[0m\u001b[0;34m,\u001b[0m \u001b[0msave\u001b[0m\u001b[0;34m=\u001b[0m\u001b[0;34m'pickle'\u001b[0m\u001b[0;34m)\u001b[0m\u001b[0;34m\u001b[0m\u001b[0;34m\u001b[0m\u001b[0m\n\u001b[0m",
      "\u001b[0;32m<ipython-input-2-0810b48fa7c3>\u001b[0m in \u001b[0;36mcore_preprocessing\u001b[0;34m(self, lyrics_df, save)\u001b[0m\n\u001b[1;32m     80\u001b[0m \u001b[0;34m\u001b[0m\u001b[0m\n\u001b[1;32m     81\u001b[0m         \u001b[0;32mif\u001b[0m \u001b[0;32mnot\u001b[0m \u001b[0msave\u001b[0m \u001b[0;32mis\u001b[0m \u001b[0;32mFalse\u001b[0m\u001b[0;34m:\u001b[0m\u001b[0;34m\u001b[0m\u001b[0;34m\u001b[0m\u001b[0m\n\u001b[0;32m---> 82\u001b[0;31m             \u001b[0mself\u001b[0m\u001b[0;34m.\u001b[0m\u001b[0msave\u001b[0m\u001b[0;34m(\u001b[0m\u001b[0mlemmatized_corpus\u001b[0m\u001b[0;34m,\u001b[0m \u001b[0;34m'lemmatized_corpus'\u001b[0m\u001b[0;34m,\u001b[0m \u001b[0mhow\u001b[0m\u001b[0;34m=\u001b[0m\u001b[0msave\u001b[0m\u001b[0;34m)\u001b[0m\u001b[0;34m\u001b[0m\u001b[0;34m\u001b[0m\u001b[0m\n\u001b[0m\u001b[1;32m     83\u001b[0m             \u001b[0mself\u001b[0m\u001b[0;34m.\u001b[0m\u001b[0msave\u001b[0m\u001b[0;34m(\u001b[0m\u001b[0mtagged_lemmatized_corpus\u001b[0m\u001b[0;34m,\u001b[0m \u001b[0;34m'tagged_lemmatized_corpus'\u001b[0m\u001b[0;34m,\u001b[0m \u001b[0mhow\u001b[0m\u001b[0;34m=\u001b[0m\u001b[0msave\u001b[0m\u001b[0;34m)\u001b[0m\u001b[0;34m\u001b[0m\u001b[0;34m\u001b[0m\u001b[0m\n\u001b[1;32m     84\u001b[0m             \u001b[0mself\u001b[0m\u001b[0;34m.\u001b[0m\u001b[0msave\u001b[0m\u001b[0;34m(\u001b[0m\u001b[0mtrimmed_corpus\u001b[0m\u001b[0;34m,\u001b[0m \u001b[0;34m'trimmed_corpus'\u001b[0m\u001b[0;34m,\u001b[0m \u001b[0mhow\u001b[0m\u001b[0;34m=\u001b[0m\u001b[0msave\u001b[0m\u001b[0;34m)\u001b[0m\u001b[0;34m\u001b[0m\u001b[0;34m\u001b[0m\u001b[0m\n",
      "\u001b[0;32m<ipython-input-2-0810b48fa7c3>\u001b[0m in \u001b[0;36msave\u001b[0;34m(self, obj, filename, path, how)\u001b[0m\n\u001b[1;32m    109\u001b[0m         \u001b[0;32mif\u001b[0m \u001b[0mhow\u001b[0m \u001b[0;34m==\u001b[0m \u001b[0;34m'pickle'\u001b[0m\u001b[0;34m:\u001b[0m\u001b[0;34m\u001b[0m\u001b[0;34m\u001b[0m\u001b[0m\n\u001b[1;32m    110\u001b[0m             \u001b[0;32mwith\u001b[0m \u001b[0mopen\u001b[0m\u001b[0;34m(\u001b[0m\u001b[0mos\u001b[0m\u001b[0;34m.\u001b[0m\u001b[0mpath\u001b[0m\u001b[0;34m.\u001b[0m\u001b[0mjoin\u001b[0m\u001b[0;34m(\u001b[0m\u001b[0mpath\u001b[0m\u001b[0;34m,\u001b[0m \u001b[0mfilename\u001b[0m \u001b[0;34m+\u001b[0m \u001b[0;34m'.pickle'\u001b[0m\u001b[0;34m)\u001b[0m\u001b[0;34m,\u001b[0m \u001b[0;34m'wb'\u001b[0m\u001b[0;34m)\u001b[0m \u001b[0;32mas\u001b[0m \u001b[0mpickled_obj\u001b[0m\u001b[0;34m:\u001b[0m\u001b[0;34m\u001b[0m\u001b[0;34m\u001b[0m\u001b[0m\n\u001b[0;32m--> 111\u001b[0;31m                 \u001b[0mpickle\u001b[0m\u001b[0;34m.\u001b[0m\u001b[0mdump\u001b[0m\u001b[0;34m(\u001b[0m\u001b[0mobj\u001b[0m\u001b[0;34m,\u001b[0m \u001b[0mpickled_object\u001b[0m\u001b[0;34m)\u001b[0m\u001b[0;34m\u001b[0m\u001b[0;34m\u001b[0m\u001b[0m\n\u001b[0m\u001b[1;32m    112\u001b[0m \u001b[0;34m\u001b[0m\u001b[0m\n",
      "\u001b[0;31mNameError\u001b[0m: name 'pickled_object' is not defined"
     ]
    }
   ],
   "source": [
    "lyrics_preprocess.core_preprocessing(lyrics_df, save='pickle')"
   ]
  },
  {
   "cell_type": "code",
   "execution_count": null,
   "metadata": {},
   "outputs": [],
   "source": [
    "# tokenization took some time to finish. Let's pickle it to make it easily reusable\n",
    "with open('./data/trimmed_corpus.pickle', 'rb') as pickled_object:\n",
    "    trimmed_corpus = pickle.load(pickled_object)"
   ]
  },
  {
   "cell_type": "code",
   "execution_count": null,
   "metadata": {},
   "outputs": [],
   "source": [
    "genre_idxs = lyrics_df.loc[lyrics_df.genre == \"Hip-Hop\", :].index"
   ]
  },
  {
   "cell_type": "code",
   "execution_count": null,
   "metadata": {
    "scrolled": true
   },
   "outputs": [],
   "source": [
    "lyrics_preprocess.join_collocations(np.array(trimmed_corpus)[genre_idxs].tolist(), most_common=100)"
   ]
  },
  {
   "cell_type": "code",
   "execution_count": null,
   "metadata": {},
   "outputs": [],
   "source": []
  },
  {
   "cell_type": "markdown",
   "metadata": {},
   "source": [
    "# STATISTICS "
   ]
  },
  {
   "cell_type": "markdown",
   "metadata": {},
   "source": [
    "## Tokens "
   ]
  },
  {
   "cell_type": "code",
   "execution_count": null,
   "metadata": {},
   "outputs": [],
   "source": []
  },
  {
   "cell_type": "markdown",
   "metadata": {},
   "source": [
    "## Types"
   ]
  },
  {
   "cell_type": "code",
   "execution_count": null,
   "metadata": {},
   "outputs": [],
   "source": []
  },
  {
   "cell_type": "markdown",
   "metadata": {},
   "source": [
    "## Collocations"
   ]
  },
  {
   "cell_type": "code",
   "execution_count": null,
   "metadata": {},
   "outputs": [],
   "source": []
  },
  {
   "cell_type": "code",
   "execution_count": null,
   "metadata": {},
   "outputs": [],
   "source": []
  }
 ],
 "metadata": {
  "kernelspec": {
   "display_name": "Python 3",
   "language": "python",
   "name": "python3"
  },
  "language_info": {
   "codemirror_mode": {
    "name": "ipython",
    "version": 3
   },
   "file_extension": ".py",
   "mimetype": "text/x-python",
   "name": "python",
   "nbconvert_exporter": "python",
   "pygments_lexer": "ipython3",
   "version": "3.7.3"
  }
 },
 "nbformat": 4,
 "nbformat_minor": 4
}
